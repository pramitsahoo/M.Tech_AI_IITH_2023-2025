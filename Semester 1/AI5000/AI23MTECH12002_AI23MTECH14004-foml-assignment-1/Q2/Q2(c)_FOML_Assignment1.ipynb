{
  "cells": [
    {
      "cell_type": "markdown",
      "metadata": {
        "id": "vfELICWPsvJp"
      },
      "source": [
        "\n",
        "\n",
        "```\n",
        "FOML Assignment 1\n",
        "Question no 2.(c)\n",
        "Authors: Pramit Sahoo (AI23MTECH14004) and Sunayna Padhye (AI23MTECH12002)\n",
        "Date: 08 oct, 2023\n",
        "```\n",
        "\n"
      ]
    },
    {
      "cell_type": "markdown",
      "metadata": {
        "id": "r8oMesa5tYby"
      },
      "source": [
        "Dataset : https://archive.ics.uci.edu/dataset/186/wine+quality\n",
        "\n",
        "This is a dataset where the goal is to develop an ordinal regression model in Python to predict the rating of the wine based on\n",
        "the input features.\n",
        "\n",
        "Note: We are considering both red and white wine subset of the data."
      ]
    },
    {
      "cell_type": "markdown",
      "metadata": {
        "id": "IW80p4xtuxeh"
      },
      "source": [
        "Importing Libraries and Installing required packages"
      ]
    },
    {
      "cell_type": "code",
      "execution_count": 35,
      "metadata": {
        "colab": {
          "base_uri": "https://localhost:8080/"
        },
        "id": "5DUeq6UmCW-O",
        "outputId": "1ae98055-a033-4036-f704-6b80ca4f0983"
      },
      "outputs": [
        {
          "output_type": "stream",
          "name": "stdout",
          "text": [
            "Drive already mounted at /content/drive; to attempt to forcibly remount, call drive.mount(\"/content/drive\", force_remount=True).\n"
          ]
        }
      ],
      "source": [
        "from google.colab import drive\n",
        "drive.mount('/content/drive')"
      ]
    },
    {
      "cell_type": "code",
      "execution_count": 36,
      "metadata": {
        "id": "_5PjgzgJs-bR"
      },
      "outputs": [],
      "source": [
        "import numpy as np\n",
        "import pandas as pd\n",
        "import matplotlib.pyplot as plt\n",
        "import seaborn as sns\n",
        "from time import time\n",
        "from sklearn.model_selection import train_test_split, GridSearchCV\n",
        "from sklearn.metrics import cohen_kappa_score, mean_squared_error, accuracy_score\n",
        "from sklearn.preprocessing import StandardScaler"
      ]
    },
    {
      "cell_type": "markdown",
      "metadata": {
        "id": "J9MepGb5vSvJ"
      },
      "source": [
        "**Task 1: Acquire,preprocess, and analyze the data**\n",
        "\n",
        "1. Download the dataset\n",
        "2. Load the dataset using python\n",
        "3. EDA\n",
        "4. Pre-Processing and Splitting"
      ]
    },
    {
      "cell_type": "markdown",
      "metadata": {
        "id": "MQbhMMBsBKOY"
      },
      "source": [
        "2. *Loading The Dataset*"
      ]
    },
    {
      "cell_type": "code",
      "execution_count": 37,
      "metadata": {
        "id": "91ymYpc5u8v0"
      },
      "outputs": [],
      "source": [
        "# load : red wine dataset\n",
        "red_wine_data = pd.read_csv('/content/drive/MyDrive/ML_Assignment1/2_Dataset/wine+quality/winequality-red.csv', sep=';')\n",
        "\n",
        "#load: white wine dataset\n",
        "\n",
        "white_wine_data = pd.read_csv('/content/drive/MyDrive/ML_Assignment1/2_Dataset/wine+quality/winequality-white.csv', sep=';')"
      ]
    },
    {
      "cell_type": "code",
      "execution_count": 38,
      "metadata": {
        "id": "moeu0JyUC_9u"
      },
      "outputs": [],
      "source": [
        "# combining both the datasets\n",
        "combined_data = pd.concat([red_wine_data, white_wine_data], ignore_index = True)"
      ]
    },
    {
      "cell_type": "markdown",
      "metadata": {
        "id": "moRMZDXCDSta"
      },
      "source": [
        "3. *Exploratory Data Anlysis (EDA)*"
      ]
    },
    {
      "cell_type": "code",
      "execution_count": 39,
      "metadata": {
        "colab": {
          "base_uri": "https://localhost:8080/",
          "height": 224
        },
        "id": "OQdRsXM7Dr3E",
        "outputId": "6dbb86b1-5321-4399-f069-7051d3cd164f"
      },
      "outputs": [
        {
          "output_type": "execute_result",
          "data": {
            "text/plain": [
              "   fixed acidity  volatile acidity  citric acid  residual sugar  chlorides  \\\n",
              "0            7.4              0.70         0.00             1.9      0.076   \n",
              "1            7.8              0.88         0.00             2.6      0.098   \n",
              "2            7.8              0.76         0.04             2.3      0.092   \n",
              "3           11.2              0.28         0.56             1.9      0.075   \n",
              "4            7.4              0.70         0.00             1.9      0.076   \n",
              "\n",
              "   free sulfur dioxide  total sulfur dioxide  density    pH  sulphates  \\\n",
              "0                 11.0                  34.0   0.9978  3.51       0.56   \n",
              "1                 25.0                  67.0   0.9968  3.20       0.68   \n",
              "2                 15.0                  54.0   0.9970  3.26       0.65   \n",
              "3                 17.0                  60.0   0.9980  3.16       0.58   \n",
              "4                 11.0                  34.0   0.9978  3.51       0.56   \n",
              "\n",
              "   alcohol  quality  \n",
              "0      9.4        5  \n",
              "1      9.8        5  \n",
              "2      9.8        5  \n",
              "3      9.8        6  \n",
              "4      9.4        5  "
            ],
            "text/html": [
              "\n",
              "  <div id=\"df-fd7e701e-19d1-42f8-8e28-b3b3b281cbe2\" class=\"colab-df-container\">\n",
              "    <div>\n",
              "<style scoped>\n",
              "    .dataframe tbody tr th:only-of-type {\n",
              "        vertical-align: middle;\n",
              "    }\n",
              "\n",
              "    .dataframe tbody tr th {\n",
              "        vertical-align: top;\n",
              "    }\n",
              "\n",
              "    .dataframe thead th {\n",
              "        text-align: right;\n",
              "    }\n",
              "</style>\n",
              "<table border=\"1\" class=\"dataframe\">\n",
              "  <thead>\n",
              "    <tr style=\"text-align: right;\">\n",
              "      <th></th>\n",
              "      <th>fixed acidity</th>\n",
              "      <th>volatile acidity</th>\n",
              "      <th>citric acid</th>\n",
              "      <th>residual sugar</th>\n",
              "      <th>chlorides</th>\n",
              "      <th>free sulfur dioxide</th>\n",
              "      <th>total sulfur dioxide</th>\n",
              "      <th>density</th>\n",
              "      <th>pH</th>\n",
              "      <th>sulphates</th>\n",
              "      <th>alcohol</th>\n",
              "      <th>quality</th>\n",
              "    </tr>\n",
              "  </thead>\n",
              "  <tbody>\n",
              "    <tr>\n",
              "      <th>0</th>\n",
              "      <td>7.4</td>\n",
              "      <td>0.70</td>\n",
              "      <td>0.00</td>\n",
              "      <td>1.9</td>\n",
              "      <td>0.076</td>\n",
              "      <td>11.0</td>\n",
              "      <td>34.0</td>\n",
              "      <td>0.9978</td>\n",
              "      <td>3.51</td>\n",
              "      <td>0.56</td>\n",
              "      <td>9.4</td>\n",
              "      <td>5</td>\n",
              "    </tr>\n",
              "    <tr>\n",
              "      <th>1</th>\n",
              "      <td>7.8</td>\n",
              "      <td>0.88</td>\n",
              "      <td>0.00</td>\n",
              "      <td>2.6</td>\n",
              "      <td>0.098</td>\n",
              "      <td>25.0</td>\n",
              "      <td>67.0</td>\n",
              "      <td>0.9968</td>\n",
              "      <td>3.20</td>\n",
              "      <td>0.68</td>\n",
              "      <td>9.8</td>\n",
              "      <td>5</td>\n",
              "    </tr>\n",
              "    <tr>\n",
              "      <th>2</th>\n",
              "      <td>7.8</td>\n",
              "      <td>0.76</td>\n",
              "      <td>0.04</td>\n",
              "      <td>2.3</td>\n",
              "      <td>0.092</td>\n",
              "      <td>15.0</td>\n",
              "      <td>54.0</td>\n",
              "      <td>0.9970</td>\n",
              "      <td>3.26</td>\n",
              "      <td>0.65</td>\n",
              "      <td>9.8</td>\n",
              "      <td>5</td>\n",
              "    </tr>\n",
              "    <tr>\n",
              "      <th>3</th>\n",
              "      <td>11.2</td>\n",
              "      <td>0.28</td>\n",
              "      <td>0.56</td>\n",
              "      <td>1.9</td>\n",
              "      <td>0.075</td>\n",
              "      <td>17.0</td>\n",
              "      <td>60.0</td>\n",
              "      <td>0.9980</td>\n",
              "      <td>3.16</td>\n",
              "      <td>0.58</td>\n",
              "      <td>9.8</td>\n",
              "      <td>6</td>\n",
              "    </tr>\n",
              "    <tr>\n",
              "      <th>4</th>\n",
              "      <td>7.4</td>\n",
              "      <td>0.70</td>\n",
              "      <td>0.00</td>\n",
              "      <td>1.9</td>\n",
              "      <td>0.076</td>\n",
              "      <td>11.0</td>\n",
              "      <td>34.0</td>\n",
              "      <td>0.9978</td>\n",
              "      <td>3.51</td>\n",
              "      <td>0.56</td>\n",
              "      <td>9.4</td>\n",
              "      <td>5</td>\n",
              "    </tr>\n",
              "  </tbody>\n",
              "</table>\n",
              "</div>\n",
              "    <div class=\"colab-df-buttons\">\n",
              "\n",
              "  <div class=\"colab-df-container\">\n",
              "    <button class=\"colab-df-convert\" onclick=\"convertToInteractive('df-fd7e701e-19d1-42f8-8e28-b3b3b281cbe2')\"\n",
              "            title=\"Convert this dataframe to an interactive table.\"\n",
              "            style=\"display:none;\">\n",
              "\n",
              "  <svg xmlns=\"http://www.w3.org/2000/svg\" height=\"24px\" viewBox=\"0 -960 960 960\">\n",
              "    <path d=\"M120-120v-720h720v720H120Zm60-500h600v-160H180v160Zm220 220h160v-160H400v160Zm0 220h160v-160H400v160ZM180-400h160v-160H180v160Zm440 0h160v-160H620v160ZM180-180h160v-160H180v160Zm440 0h160v-160H620v160Z\"/>\n",
              "  </svg>\n",
              "    </button>\n",
              "\n",
              "  <style>\n",
              "    .colab-df-container {\n",
              "      display:flex;\n",
              "      gap: 12px;\n",
              "    }\n",
              "\n",
              "    .colab-df-convert {\n",
              "      background-color: #E8F0FE;\n",
              "      border: none;\n",
              "      border-radius: 50%;\n",
              "      cursor: pointer;\n",
              "      display: none;\n",
              "      fill: #1967D2;\n",
              "      height: 32px;\n",
              "      padding: 0 0 0 0;\n",
              "      width: 32px;\n",
              "    }\n",
              "\n",
              "    .colab-df-convert:hover {\n",
              "      background-color: #E2EBFA;\n",
              "      box-shadow: 0px 1px 2px rgba(60, 64, 67, 0.3), 0px 1px 3px 1px rgba(60, 64, 67, 0.15);\n",
              "      fill: #174EA6;\n",
              "    }\n",
              "\n",
              "    .colab-df-buttons div {\n",
              "      margin-bottom: 4px;\n",
              "    }\n",
              "\n",
              "    [theme=dark] .colab-df-convert {\n",
              "      background-color: #3B4455;\n",
              "      fill: #D2E3FC;\n",
              "    }\n",
              "\n",
              "    [theme=dark] .colab-df-convert:hover {\n",
              "      background-color: #434B5C;\n",
              "      box-shadow: 0px 1px 3px 1px rgba(0, 0, 0, 0.15);\n",
              "      filter: drop-shadow(0px 1px 2px rgba(0, 0, 0, 0.3));\n",
              "      fill: #FFFFFF;\n",
              "    }\n",
              "  </style>\n",
              "\n",
              "    <script>\n",
              "      const buttonEl =\n",
              "        document.querySelector('#df-fd7e701e-19d1-42f8-8e28-b3b3b281cbe2 button.colab-df-convert');\n",
              "      buttonEl.style.display =\n",
              "        google.colab.kernel.accessAllowed ? 'block' : 'none';\n",
              "\n",
              "      async function convertToInteractive(key) {\n",
              "        const element = document.querySelector('#df-fd7e701e-19d1-42f8-8e28-b3b3b281cbe2');\n",
              "        const dataTable =\n",
              "          await google.colab.kernel.invokeFunction('convertToInteractive',\n",
              "                                                    [key], {});\n",
              "        if (!dataTable) return;\n",
              "\n",
              "        const docLinkHtml = 'Like what you see? Visit the ' +\n",
              "          '<a target=\"_blank\" href=https://colab.research.google.com/notebooks/data_table.ipynb>data table notebook</a>'\n",
              "          + ' to learn more about interactive tables.';\n",
              "        element.innerHTML = '';\n",
              "        dataTable['output_type'] = 'display_data';\n",
              "        await google.colab.output.renderOutput(dataTable, element);\n",
              "        const docLink = document.createElement('div');\n",
              "        docLink.innerHTML = docLinkHtml;\n",
              "        element.appendChild(docLink);\n",
              "      }\n",
              "    </script>\n",
              "  </div>\n",
              "\n",
              "\n",
              "<div id=\"df-0f3ad553-adff-49d6-b009-220b8d530887\">\n",
              "  <button class=\"colab-df-quickchart\" onclick=\"quickchart('df-0f3ad553-adff-49d6-b009-220b8d530887')\"\n",
              "            title=\"Suggest charts.\"\n",
              "            style=\"display:none;\">\n",
              "\n",
              "<svg xmlns=\"http://www.w3.org/2000/svg\" height=\"24px\"viewBox=\"0 0 24 24\"\n",
              "     width=\"24px\">\n",
              "    <g>\n",
              "        <path d=\"M19 3H5c-1.1 0-2 .9-2 2v14c0 1.1.9 2 2 2h14c1.1 0 2-.9 2-2V5c0-1.1-.9-2-2-2zM9 17H7v-7h2v7zm4 0h-2V7h2v10zm4 0h-2v-4h2v4z\"/>\n",
              "    </g>\n",
              "</svg>\n",
              "  </button>\n",
              "\n",
              "<style>\n",
              "  .colab-df-quickchart {\n",
              "      --bg-color: #E8F0FE;\n",
              "      --fill-color: #1967D2;\n",
              "      --hover-bg-color: #E2EBFA;\n",
              "      --hover-fill-color: #174EA6;\n",
              "      --disabled-fill-color: #AAA;\n",
              "      --disabled-bg-color: #DDD;\n",
              "  }\n",
              "\n",
              "  [theme=dark] .colab-df-quickchart {\n",
              "      --bg-color: #3B4455;\n",
              "      --fill-color: #D2E3FC;\n",
              "      --hover-bg-color: #434B5C;\n",
              "      --hover-fill-color: #FFFFFF;\n",
              "      --disabled-bg-color: #3B4455;\n",
              "      --disabled-fill-color: #666;\n",
              "  }\n",
              "\n",
              "  .colab-df-quickchart {\n",
              "    background-color: var(--bg-color);\n",
              "    border: none;\n",
              "    border-radius: 50%;\n",
              "    cursor: pointer;\n",
              "    display: none;\n",
              "    fill: var(--fill-color);\n",
              "    height: 32px;\n",
              "    padding: 0;\n",
              "    width: 32px;\n",
              "  }\n",
              "\n",
              "  .colab-df-quickchart:hover {\n",
              "    background-color: var(--hover-bg-color);\n",
              "    box-shadow: 0 1px 2px rgba(60, 64, 67, 0.3), 0 1px 3px 1px rgba(60, 64, 67, 0.15);\n",
              "    fill: var(--button-hover-fill-color);\n",
              "  }\n",
              "\n",
              "  .colab-df-quickchart-complete:disabled,\n",
              "  .colab-df-quickchart-complete:disabled:hover {\n",
              "    background-color: var(--disabled-bg-color);\n",
              "    fill: var(--disabled-fill-color);\n",
              "    box-shadow: none;\n",
              "  }\n",
              "\n",
              "  .colab-df-spinner {\n",
              "    border: 2px solid var(--fill-color);\n",
              "    border-color: transparent;\n",
              "    border-bottom-color: var(--fill-color);\n",
              "    animation:\n",
              "      spin 1s steps(1) infinite;\n",
              "  }\n",
              "\n",
              "  @keyframes spin {\n",
              "    0% {\n",
              "      border-color: transparent;\n",
              "      border-bottom-color: var(--fill-color);\n",
              "      border-left-color: var(--fill-color);\n",
              "    }\n",
              "    20% {\n",
              "      border-color: transparent;\n",
              "      border-left-color: var(--fill-color);\n",
              "      border-top-color: var(--fill-color);\n",
              "    }\n",
              "    30% {\n",
              "      border-color: transparent;\n",
              "      border-left-color: var(--fill-color);\n",
              "      border-top-color: var(--fill-color);\n",
              "      border-right-color: var(--fill-color);\n",
              "    }\n",
              "    40% {\n",
              "      border-color: transparent;\n",
              "      border-right-color: var(--fill-color);\n",
              "      border-top-color: var(--fill-color);\n",
              "    }\n",
              "    60% {\n",
              "      border-color: transparent;\n",
              "      border-right-color: var(--fill-color);\n",
              "    }\n",
              "    80% {\n",
              "      border-color: transparent;\n",
              "      border-right-color: var(--fill-color);\n",
              "      border-bottom-color: var(--fill-color);\n",
              "    }\n",
              "    90% {\n",
              "      border-color: transparent;\n",
              "      border-bottom-color: var(--fill-color);\n",
              "    }\n",
              "  }\n",
              "</style>\n",
              "\n",
              "  <script>\n",
              "    async function quickchart(key) {\n",
              "      const quickchartButtonEl =\n",
              "        document.querySelector('#' + key + ' button');\n",
              "      quickchartButtonEl.disabled = true;  // To prevent multiple clicks.\n",
              "      quickchartButtonEl.classList.add('colab-df-spinner');\n",
              "      try {\n",
              "        const charts = await google.colab.kernel.invokeFunction(\n",
              "            'suggestCharts', [key], {});\n",
              "      } catch (error) {\n",
              "        console.error('Error during call to suggestCharts:', error);\n",
              "      }\n",
              "      quickchartButtonEl.classList.remove('colab-df-spinner');\n",
              "      quickchartButtonEl.classList.add('colab-df-quickchart-complete');\n",
              "    }\n",
              "    (() => {\n",
              "      let quickchartButtonEl =\n",
              "        document.querySelector('#df-0f3ad553-adff-49d6-b009-220b8d530887 button');\n",
              "      quickchartButtonEl.style.display =\n",
              "        google.colab.kernel.accessAllowed ? 'block' : 'none';\n",
              "    })();\n",
              "  </script>\n",
              "</div>\n",
              "    </div>\n",
              "  </div>\n"
            ]
          },
          "metadata": {},
          "execution_count": 39
        }
      ],
      "source": [
        "# analyzing the data\n",
        "combined_data.head() # head() will show the top 5 observations\n"
      ]
    },
    {
      "cell_type": "code",
      "execution_count": 40,
      "metadata": {
        "colab": {
          "base_uri": "https://localhost:8080/"
        },
        "id": "qsa7k1RgDSfn",
        "outputId": "2b392df3-2f83-4dee-c8aa-44710dc0141a"
      },
      "outputs": [
        {
          "output_type": "execute_result",
          "data": {
            "text/plain": [
              "(6497, 12)"
            ]
          },
          "metadata": {},
          "execution_count": 40
        }
      ],
      "source": [
        "combined_data.shape\n",
        "#shape will display the number of observations(rows) and features(columns) in the dataset"
      ]
    },
    {
      "cell_type": "code",
      "execution_count": 41,
      "metadata": {
        "colab": {
          "base_uri": "https://localhost:8080/"
        },
        "id": "6qM8p9c-DPyd",
        "outputId": "5e3fdee9-5e20-47a7-ca04-6b89caa2cb0a"
      },
      "outputs": [
        {
          "output_type": "stream",
          "name": "stdout",
          "text": [
            "<class 'pandas.core.frame.DataFrame'>\n",
            "RangeIndex: 6497 entries, 0 to 6496\n",
            "Data columns (total 12 columns):\n",
            " #   Column                Non-Null Count  Dtype  \n",
            "---  ------                --------------  -----  \n",
            " 0   fixed acidity         6497 non-null   float64\n",
            " 1   volatile acidity      6497 non-null   float64\n",
            " 2   citric acid           6497 non-null   float64\n",
            " 3   residual sugar        6497 non-null   float64\n",
            " 4   chlorides             6497 non-null   float64\n",
            " 5   free sulfur dioxide   6497 non-null   float64\n",
            " 6   total sulfur dioxide  6497 non-null   float64\n",
            " 7   density               6497 non-null   float64\n",
            " 8   pH                    6497 non-null   float64\n",
            " 9   sulphates             6497 non-null   float64\n",
            " 10  alcohol               6497 non-null   float64\n",
            " 11  quality               6497 non-null   int64  \n",
            "dtypes: float64(11), int64(1)\n",
            "memory usage: 609.2 KB\n"
          ]
        }
      ],
      "source": [
        "combined_data.info()\n",
        "#info() helps to understand the data type and information about data, including the number of records in each column, data having null or not null, Data type, the memory usage of the dataset"
      ]
    },
    {
      "cell_type": "code",
      "execution_count": 42,
      "metadata": {
        "colab": {
          "base_uri": "https://localhost:8080/"
        },
        "id": "414Zr1vpEKPW",
        "outputId": "4afa8d6b-5b1e-4b86-9732-cb72e262ddf2"
      },
      "outputs": [
        {
          "output_type": "execute_result",
          "data": {
            "text/plain": [
              "fixed acidity           106\n",
              "volatile acidity        187\n",
              "citric acid              89\n",
              "residual sugar          316\n",
              "chlorides               214\n",
              "free sulfur dioxide     135\n",
              "total sulfur dioxide    276\n",
              "density                 998\n",
              "pH                      108\n",
              "sulphates               111\n",
              "alcohol                 111\n",
              "quality                   7\n",
              "dtype: int64"
            ]
          },
          "metadata": {},
          "execution_count": 42
        }
      ],
      "source": [
        "combined_data.nunique()\n",
        "#nunique() based on several unique values in each column and the data description, we can identify the continuous and categorical columns in the data. Duplicated data can be handled or removed based on further analysis"
      ]
    },
    {
      "cell_type": "code",
      "execution_count": 43,
      "metadata": {
        "colab": {
          "base_uri": "https://localhost:8080/"
        },
        "id": "Vu1cTn1-EPHs",
        "outputId": "37dacb15-f6ff-4f10-c791-b4d8eed965e1"
      },
      "outputs": [
        {
          "output_type": "execute_result",
          "data": {
            "text/plain": [
              "fixed acidity           0\n",
              "volatile acidity        0\n",
              "citric acid             0\n",
              "residual sugar          0\n",
              "chlorides               0\n",
              "free sulfur dioxide     0\n",
              "total sulfur dioxide    0\n",
              "density                 0\n",
              "pH                      0\n",
              "sulphates               0\n",
              "alcohol                 0\n",
              "quality                 0\n",
              "dtype: int64"
            ]
          },
          "metadata": {},
          "execution_count": 43
        }
      ],
      "source": [
        "#Missing Values Calculation\n",
        "#isnull() is widely been in all pre-processing steps to identify null values in the data\n",
        "combined_data.isnull().sum()"
      ]
    },
    {
      "cell_type": "code",
      "execution_count": 44,
      "metadata": {
        "colab": {
          "base_uri": "https://localhost:8080/"
        },
        "id": "PH1KRioZFBTr",
        "outputId": "cba5692c-ed63-49a1-84b9-eb859bc1b050"
      },
      "outputs": [
        {
          "output_type": "execute_result",
          "data": {
            "text/plain": [
              "fixed acidity           0.0\n",
              "volatile acidity        0.0\n",
              "citric acid             0.0\n",
              "residual sugar          0.0\n",
              "chlorides               0.0\n",
              "free sulfur dioxide     0.0\n",
              "total sulfur dioxide    0.0\n",
              "density                 0.0\n",
              "pH                      0.0\n",
              "sulphates               0.0\n",
              "alcohol                 0.0\n",
              "quality                 0.0\n",
              "dtype: float64"
            ]
          },
          "metadata": {},
          "execution_count": 44
        }
      ],
      "source": [
        "#The below code helps to calculate the percentage of missing values in each column\n",
        "(combined_data.isnull().sum()/(len(combined_data)))*100\n"
      ]
    },
    {
      "cell_type": "code",
      "execution_count": 45,
      "metadata": {
        "colab": {
          "base_uri": "https://localhost:8080/",
          "height": 448
        },
        "id": "H0yMjAr9ESZ5",
        "outputId": "6c37bb2d-3831-43f7-deaf-61e0707bd84c"
      },
      "outputs": [
        {
          "output_type": "execute_result",
          "data": {
            "text/plain": [
              "<Axes: >"
            ]
          },
          "metadata": {},
          "execution_count": 45
        },
        {
          "output_type": "display_data",
          "data": {
            "text/plain": [
              "<Figure size 640x480 with 1 Axes>"
            ],
            "image/png": "[encoded data removed]"
          },
          "metadata": {}
        }
      ],
      "source": [
        "#visualization\n",
        "sns.boxplot(combined_data['quality'])"
      ]
    },
    {
      "cell_type": "markdown",
      "metadata": {
        "id": "-xYvDr8aFrht"
      },
      "source": [
        "*4. Preprocessing and Splitting the data according to the question*"
      ]
    },
    {
      "cell_type": "code",
      "execution_count": 46,
      "metadata": {
        "id": "aZbEqwkJEds1"
      },
      "outputs": [],
      "source": [
        "combined_data.fillna(combined_data.mean(), inplace=True) #ills missing values (NaNs) in a pandas DataFrame combined_data with the mean value of each respective column."
      ]
    },
    {
      "cell_type": "code",
      "execution_count": 47,
      "metadata": {
        "id": "m-gli-efF0ai"
      },
      "outputs": [],
      "source": [
        "# separating features and the main target feature quality\n",
        "Features_final = combined_data.drop('quality',axis = 1).values\n",
        "target = combined_data['quality'].values"
      ]
    },
    {
      "cell_type": "code",
      "execution_count": 48,
      "metadata": {
        "id": "F5JQrOzFGiYO"
      },
      "outputs": [],
      "source": [
        "# preprocessing\n",
        "Scaler = StandardScaler()\n",
        "Features_final = Scaler.fit_transform(Features_final)"
      ]
    },
    {
      "cell_type": "code",
      "execution_count": 49,
      "metadata": {
        "id": "gk63XD_2HImV"
      },
      "outputs": [],
      "source": [
        "# splitting the data into training and testing dataset\n",
        "# F_train and F_test is features_final data and\n",
        "# T_train and T_test is the target data\n",
        "F_train, F_test, T_train, T_test = train_test_split(Features_final, target, test_size=0.2, random_state=42)"
      ]
    },
    {
      "cell_type": "code",
      "execution_count": null,
      "metadata": {
        "id": "SM4XpmD6Heih"
      },
      "outputs": [],
      "source": []
    },
    {
      "cell_type": "markdown",
      "metadata": {
        "id": "WCRrcxMtIFtg"
      },
      "source": [
        "**Task 2: Using Ordinal Regression and Linear Regression model and Comparing them**\n",
        "\n",
        "1. Parameter tuning and training the model in case of Ordinal Regression Model\n",
        "2. Prediction , Evaluation and Accuracy of the Ordinal Regression Model\n",
        "3. Linear Regression Modelling\n",
        "4. Result Comparison of Ordinal and Linear Regression"
      ]
    },
    {
      "cell_type": "markdown",
      "metadata": {
        "id": "KKTRC8roJRl0"
      },
      "source": [
        "*1. Parameter tuning and training the model in case of Ordinal Regression Model*"
      ]
    },
    {
      "cell_type": "code",
      "execution_count": 50,
      "metadata": {
        "colab": {
          "base_uri": "https://localhost:8080/"
        },
        "id": "gmhtlPLlJewi",
        "outputId": "bf321705-2473-4b2a-d626-4ad1d7b3ab57"
      },
      "outputs": [
        {
          "output_type": "stream",
          "name": "stdout",
          "text": [
            "Requirement already satisfied: mord in /usr/local/lib/python3.10/dist-packages (0.7)\n"
          ]
        }
      ],
      "source": [
        "pip install mord"
      ]
    },
    {
      "cell_type": "code",
      "execution_count": 51,
      "metadata": {
        "colab": {
          "base_uri": "https://localhost:8080/",
          "height": 75
        },
        "id": "DwbtEkynIFG9",
        "outputId": "8a8ff3f1-c5ff-4f9f-99db-7f82594fceab"
      },
      "outputs": [
        {
          "output_type": "execute_result",
          "data": {
            "text/plain": [
              "LogisticAT()"
            ],
            "text/html": [
              "<style>#sk-container-id-2 {color: black;background-color: white;}#sk-container-id-2 pre{padding: 0;}#sk-container-id-2 div.sk-toggleable {background-color: white;}#sk-container-id-2 label.sk-toggleable__label {cursor: pointer;display: block;width: 100%;margin-bottom: 0;padding: 0.3em;box-sizing: border-box;text-align: center;}#sk-container-id-2 label.sk-toggleable__label-arrow:before {content: \"▸\";float: left;margin-right: 0.25em;color: #696969;}#sk-container-id-2 label.sk-toggleable__label-arrow:hover:before {color: black;}#sk-container-id-2 div.sk-estimator:hover label.sk-toggleable__label-arrow:before {color: black;}#sk-container-id-2 div.sk-toggleable__content {max-height: 0;max-width: 0;overflow: hidden;text-align: left;background-color: #f0f8ff;}#sk-container-id-2 div.sk-toggleable__content pre {margin: 0.2em;color: black;border-radius: 0.25em;background-color: #f0f8ff;}#sk-container-id-2 input.sk-toggleable__control:checked~div.sk-toggleable__content {max-height: 200px;max-width: 100%;overflow: auto;}#sk-container-id-2 input.sk-toggleable__control:checked~label.sk-toggleable__label-arrow:before {content: \"▾\";}#sk-container-id-2 div.sk-estimator input.sk-toggleable__control:checked~label.sk-toggleable__label {background-color: #d4ebff;}#sk-container-id-2 div.sk-label input.sk-toggleable__control:checked~label.sk-toggleable__label {background-color: #d4ebff;}#sk-container-id-2 input.sk-hidden--visually {border: 0;clip: rect(1px 1px 1px 1px);clip: rect(1px, 1px, 1px, 1px);height: 1px;margin: -1px;overflow: hidden;padding: 0;position: absolute;width: 1px;}#sk-container-id-2 div.sk-estimator {font-family: monospace;background-color: #f0f8ff;border: 1px dotted black;border-radius: 0.25em;box-sizing: border-box;margin-bottom: 0.5em;}#sk-container-id-2 div.sk-estimator:hover {background-color: #d4ebff;}#sk-container-id-2 div.sk-parallel-item::after {content: \"\";width: 100%;border-bottom: 1px solid gray;flex-grow: 1;}#sk-container-id-2 div.sk-label:hover label.sk-toggleable__label {background-color: #d4ebff;}#sk-container-id-2 div.sk-serial::before {content: \"\";position: absolute;border-left: 1px solid gray;box-sizing: border-box;top: 0;bottom: 0;left: 50%;z-index: 0;}#sk-container-id-2 div.sk-serial {display: flex;flex-direction: column;align-items: center;background-color: white;padding-right: 0.2em;padding-left: 0.2em;position: relative;}#sk-container-id-2 div.sk-item {position: relative;z-index: 1;}#sk-container-id-2 div.sk-parallel {display: flex;align-items: stretch;justify-content: center;background-color: white;position: relative;}#sk-container-id-2 div.sk-item::before, #sk-container-id-2 div.sk-parallel-item::before {content: \"\";position: absolute;border-left: 1px solid gray;box-sizing: border-box;top: 0;bottom: 0;left: 50%;z-index: -1;}#sk-container-id-2 div.sk-parallel-item {display: flex;flex-direction: column;z-index: 1;position: relative;background-color: white;}#sk-container-id-2 div.sk-parallel-item:first-child::after {align-self: flex-end;width: 50%;}#sk-container-id-2 div.sk-parallel-item:last-child::after {align-self: flex-start;width: 50%;}#sk-container-id-2 div.sk-parallel-item:only-child::after {width: 0;}#sk-container-id-2 div.sk-dashed-wrapped {border: 1px dashed gray;margin: 0 0.4em 0.5em 0.4em;box-sizing: border-box;padding-bottom: 0.4em;background-color: white;}#sk-container-id-2 div.sk-label label {font-family: monospace;font-weight: bold;display: inline-block;line-height: 1.2em;}#sk-container-id-2 div.sk-label-container {text-align: center;}#sk-container-id-2 div.sk-container {/* jupyter's `normalize.less` sets `[hidden] { display: none; }` but bootstrap.min.css set `[hidden] { display: none !important; }` so we also need the `!important` here to be able to override the default hidden behavior on the sphinx rendered scikit-learn.org. See: https://github.com/scikit-learn/scikit-learn/issues/21755 */display: inline-block !important;position: relative;}#sk-container-id-2 div.sk-text-repr-fallback {display: none;}</style><div id=\"sk-container-id-2\" class=\"sk-top-container\"><div class=\"sk-text-repr-fallback\"><pre>LogisticAT()</pre><b>In a Jupyter environment, please rerun this cell to show the HTML representation or trust the notebook. <br />On GitHub, the HTML representation is unable to render, please try loading this page with nbviewer.org.</b></div><div class=\"sk-container\" hidden><div class=\"sk-item\"><div class=\"sk-estimator sk-toggleable\"><input class=\"sk-toggleable__control sk-hidden--visually\" id=\"sk-estimator-id-2\" type=\"checkbox\" checked><label for=\"sk-estimator-id-2\" class=\"sk-toggleable__label sk-toggleable__label-arrow\">LogisticAT</label><div class=\"sk-toggleable__content\"><pre>LogisticAT()</pre></div></div></div></div></div>"
            ]
          },
          "metadata": {},
          "execution_count": 51
        }
      ],
      "source": [
        "from mord import LogisticAT\n",
        "\n",
        "#Parameter tuning using GridSearchCV\n",
        "param_grid = {'alpha': [0.1, 1.0, 10.0]}  #Values of alpha which are to be tested\n",
        "\n",
        "ordinal_model = LogisticAT()\n",
        "grid_search = GridSearchCV(ordinal_model, param_grid, cv=5)  #this uses 5-fold cross-validation\n",
        "\n",
        "#Fit the grid search to the dataset\n",
        "grid_search.fit(F_train, T_train)\n",
        "\n",
        "#get the best parameters\n",
        "best_params = grid_search.best_params_\n",
        "\n",
        "#Training the model with the best parameters\n",
        "ordinal_model = LogisticAT(alpha=best_params['alpha'])\n",
        "ordinal_model.fit(F_train, T_train)"
      ]
    },
    {
      "cell_type": "markdown",
      "metadata": {
        "id": "n0UsdgGdJ0X6"
      },
      "source": [
        "2*. Prediction , Evaluation and Accuracy of the Ordinal Regression Model*\n"
      ]
    },
    {
      "cell_type": "code",
      "execution_count": 52,
      "metadata": {
        "colab": {
          "base_uri": "https://localhost:8080/"
        },
        "id": "KGRB_jQPJdg3",
        "outputId": "606128d1-fa6b-4f8c-a35c-c1ccc50c2169"
      },
      "outputs": [
        {
          "output_type": "stream",
          "name": "stdout",
          "text": [
            "Cohen's Kappa: 0.2460596092001287\n",
            "Mean Squared Error: 0.6376923076923077\n",
            "Accuracy: 0.54\n"
          ]
        }
      ],
      "source": [
        "# predicting using the trained model\n",
        "T_pred = ordinal_model.predict(F_test)\n",
        "\n",
        "#Evaluating the trained model using Cohen's Kappa\n",
        "o_kappa = cohen_kappa_score(T_test, T_pred)\n",
        "\n",
        "#Evaluating the trained model using Mean Squared Error (MSE)\n",
        "o_mse = mean_squared_error(T_test, T_pred)\n",
        "\n",
        "#Calculating the accuracy\n",
        "o_accuracy = accuracy_score(T_test, T_pred)\n",
        "\n",
        "\n",
        "print(\"Cohen's Kappa:\", o_kappa)\n",
        "print(\"Mean Squared Error:\", o_mse)\n",
        "print(\"Accuracy:\", o_accuracy)"
      ]
    },
    {
      "cell_type": "markdown",
      "metadata": {
        "id": "hMcEugu8KHmJ"
      },
      "source": [
        "3. *Linear Regression Modelling*\n"
      ]
    },
    {
      "cell_type": "code",
      "execution_count": 53,
      "metadata": {
        "colab": {
          "base_uri": "https://localhost:8080/"
        },
        "id": "A5QUbCZ3KAIX",
        "outputId": "f7a75597-b146-4e0b-bb1d-acbc676aba6e"
      },
      "outputs": [
        {
          "output_type": "stream",
          "name": "stdout",
          "text": [
            "Mean Squared Error: 0.5466964419580582\n",
            "Accuracy: 0.5392307692307692\n"
          ]
        }
      ],
      "source": [
        "# we will use scikit-learn package for linear regression\n",
        "from sklearn.linear_model import LinearRegression\n",
        "\n",
        "linearreg_model = LinearRegression()\n",
        "linearreg_model.fit(F_train, T_train)\n",
        "\n",
        "#Predicting data using the trained model\n",
        "T_pred = linearreg_model.predict(F_test)\n",
        "\n",
        "#Evaluating the model using Mean Squared Error (MSE)\n",
        "lin_mse = mean_squared_error(T_test, T_pred)\n",
        "\n",
        "#Assuming rounding the predicted values to the nearest integer to get classification-like accuracy\n",
        "rounded_T_pred = T_pred.round().astype(int)\n",
        "\n",
        "#Calculating Accuracy\n",
        "lin_accuracy = accuracy_score(T_test, rounded_T_pred)\n",
        "\n",
        "print(\"Mean Squared Error:\", lin_mse)\n",
        "print(\"Accuracy:\", lin_accuracy)"
      ]
    },
    {
      "cell_type": "markdown",
      "metadata": {
        "id": "4YPrCzucLAzk"
      },
      "source": [
        "4. *Result Comparison of Ordinal and Linear Regression*"
      ]
    },
    {
      "cell_type": "code",
      "execution_count": 54,
      "metadata": {
        "id": "KlUfHII6LAi6"
      },
      "outputs": [],
      "source": [
        "models_selected = ['Linear Regression', 'Ordinal Regression', ]\n",
        "acc = [lin_accuracy, o_accuracy]\n",
        "mse = [lin_mse, o_mse]\n"
      ]
    },
    {
      "cell_type": "code",
      "execution_count": 55,
      "metadata": {
        "colab": {
          "base_uri": "https://localhost:8080/",
          "height": 472
        },
        "id": "wiUqrg6OKUSS",
        "outputId": "1ea7c311-d194-4632-dc67-b569b9c41225"
      },
      "outputs": [
        {
          "output_type": "display_data",
          "data": {
            "text/plain": [
              "<Figure size 640x480 with 1 Axes>"
            ],
            "image/png": "[encoded data removed]"
          },
          "metadata": {}
        }
      ],
      "source": [
        "# plotting the accuracy to these models using bar\n",
        "plt.bar(models_selected, acc, color ='green', width = 0.4)\n",
        "\n",
        "plt.xlabel(\"MODELS\")\n",
        "plt.ylabel(\"ACCURACY\")\n",
        "plt.title(\"Accuracy of the models for the given data\")\n",
        "plt.grid()\n",
        "plt.show()\n"
      ]
    },
    {
      "cell_type": "code",
      "execution_count": 56,
      "metadata": {
        "colab": {
          "base_uri": "https://localhost:8080/",
          "height": 472
        },
        "id": "MFJHU9xhM3w4",
        "outputId": "7b9a8a0f-33f1-4bfe-8dd7-1287a6d786c1"
      },
      "outputs": [
        {
          "output_type": "display_data",
          "data": {
            "text/plain": [
              "<Figure size 640x480 with 1 Axes>"
            ],
            "image/png": "[encoded data removed]"
          },
          "metadata": {}
        }
      ],
      "source": [
        "# plotting the MSE for the models\n",
        "plt.bar(models_selected, mse, color ='green', width = 0.4)\n",
        "\n",
        "plt.xlabel(\"MODELS\")\n",
        "plt.ylabel(\"MEAN SQUARED ERRORS\")\n",
        "plt.title(\"Mean Squared Error of the models\")\n",
        "plt.grid()\n",
        "plt.show()"
      ]
    },
    {
      "cell_type": "code",
      "execution_count": null,
      "metadata": {
        "id": "yKWz0WX5NQJI"
      },
      "outputs": [],
      "source": []
    },
    {
      "cell_type": "markdown",
      "metadata": {
        "id": "563njI8UNdVU"
      },
      "source": [
        "**Task 3: Using other Models like Random Forest and Gradient Boosting Machine and comparing with Linear Regression model and ordinal regression model and Comparing them**\n",
        "\n",
        "1. Random Forest Modelling\n",
        "2. Gradient Boosting Machine Modelling\n",
        "3. Result Comparison of RF and GBM with Ordinal and Linear Regression"
      ]
    },
    {
      "cell_type": "markdown",
      "metadata": {
        "id": "FLHpXwF7OfZL"
      },
      "source": [
        "1. *Random Forest*"
      ]
    },
    {
      "cell_type": "code",
      "execution_count": 57,
      "metadata": {
        "colab": {
          "base_uri": "https://localhost:8080/"
        },
        "id": "Ws1vdyTAOXm3",
        "outputId": "ad40b6c0-ef91-4bc2-d3f8-913a009f46dd"
      },
      "outputs": [
        {
          "output_type": "stream",
          "name": "stdout",
          "text": [
            "Cohen's Kappa: 0.4767062849415066\n",
            "Mean Squared Error: 0.369476\n",
            "Accuracy: 0.6684615384615384\n"
          ]
        }
      ],
      "source": [
        "from sklearn.ensemble import RandomForestRegressor\n",
        "\n",
        "\n",
        "#Hyperparameter tuning using GridSearchCV\n",
        "param_grid = {'n_estimators': [50, 100, 150], 'max_depth': [None, 10, 20, 30]}\n",
        "rf_regressor = RandomForestRegressor()\n",
        "grid_rf = GridSearchCV(rf_regressor, param_grid, cv=5, scoring='neg_mean_squared_error')\n",
        "grid_rf.fit(F_train, T_train)\n",
        "\n",
        "#Getting the Best parameters and building the model\n",
        "best_params = grid_rf.best_params_\n",
        "rf_model = grid_rf.best_estimator_\n",
        "\n",
        "#Predicting the data using the trained model\n",
        "T_pred = rf_model.predict(F_test)\n",
        "\n",
        "#Evaluating the trained rf_model using Cohen's Kappa\n",
        "rf_kappa = cohen_kappa_score(T_test, T_pred.round())\n",
        "\n",
        "#Evaluating the trained rf_model using Mean Squared Error (MSE)\n",
        "rf_mse = mean_squared_error(T_test, T_pred)\n",
        "\n",
        "\n",
        "#Calculating accuracy (rounding the predicted values to the nearest integer)\n",
        "rounded_T_pred = T_pred.round().astype(int)\n",
        "rf_accuracy = accuracy_score(T_test, rounded_T_pred)\n",
        "\n",
        "\n",
        "print(\"Cohen's Kappa:\", rf_kappa)\n",
        "print(\"Mean Squared Error:\", rf_mse)\n",
        "print(\"Accuracy:\", rf_accuracy)"
      ]
    },
    {
      "cell_type": "markdown",
      "source": [
        "2. *Gradient Boosting Machine*"
      ],
      "metadata": {
        "id": "G8wDCSjkQ9aH"
      }
    },
    {
      "cell_type": "code",
      "execution_count": 58,
      "metadata": {
        "id": "tCaE8Z3rO14U",
        "colab": {
          "base_uri": "https://localhost:8080/"
        },
        "outputId": "c30e709e-1eeb-4f65-8c14-c996df737abd"
      },
      "outputs": [
        {
          "output_type": "stream",
          "name": "stdout",
          "text": [
            "Cohen's Kappa: 0.4125980314997082\n",
            "Mean Squared Error: 0.4071394873405089\n",
            "Accuracy: 0.6246153846153846\n"
          ]
        }
      ],
      "source": [
        "from sklearn.ensemble import GradientBoostingRegressor\n",
        "from sklearn.model_selection import GridSearchCV\n",
        "from sklearn.metrics import cohen_kappa_score, mean_squared_error, accuracy_score\n",
        "\n",
        "# Hyperparameter tuning using GridSearchCV\n",
        "param_grid = {'n_estimators': [50, 100, 150], 'max_depth': [3, 4, 5, 6], 'learning_rate': [0.01, 0.1, 0.2]}\n",
        "gbm_regressor = GradientBoostingRegressor()\n",
        "grid_gbm = GridSearchCV(gbm_regressor, param_grid, cv=5, scoring='neg_mean_squared_error')\n",
        "grid_gbm.fit(F_train, T_train)\n",
        "\n",
        "# Get the Best parameters and build the model\n",
        "best_params = grid_gbm.best_params_\n",
        "gbm_model = grid_gbm.best_estimator_\n",
        "\n",
        "# Predicting the data using the trained model\n",
        "T_pred = gbm_model.predict(F_test)\n",
        "\n",
        "# Evaluating the trained gbm_model using Cohen's Kappa\n",
        "gbm_kappa = cohen_kappa_score(T_test, T_pred.round())\n",
        "\n",
        "# Evaluating the trained gbm_model using Mean Squared Error (MSE)\n",
        "gbm_mse = mean_squared_error(T_test, T_pred)\n",
        "\n",
        "# Calculating accuracy (rounding the predicted values to the nearest integer)\n",
        "rounded_T_pred = T_pred.round().astype(int)\n",
        "gbm_accuracy = accuracy_score(T_test, rounded_T_pred)\n",
        "\n",
        "print(\"Cohen's Kappa:\", gbm_kappa)\n",
        "print(\"Mean Squared Error:\", gbm_mse)\n",
        "print(\"Accuracy:\", gbm_accuracy)\n"
      ]
    },
    {
      "cell_type": "markdown",
      "source": [
        "3. *Result Comparison of RF and GBM with Ordinal and Linear Regression*"
      ],
      "metadata": {
        "id": "dd_FJ5jYSCsy"
      }
    },
    {
      "cell_type": "markdown",
      "source": [
        "3.1 *Comparing RF and GBM with Ordinal*"
      ],
      "metadata": {
        "id": "7zqrTdbcUKwG"
      }
    },
    {
      "cell_type": "code",
      "source": [
        "algos = ['Gradient Boosting Machine', 'Ordinal Regression', 'Random Forest']\n",
        "acc = [gbm_accuracy, o_accuracy, rf_accuracy]\n",
        "mse = [gbm_mse, o_mse, rf_mse]\n",
        "kappa = [gbm_kappa, o_kappa, rf_kappa]\n",
        "\n",
        "print(acc,mse,kappa, sep='\\n')"
      ],
      "metadata": {
        "colab": {
          "base_uri": "https://localhost:8080/"
        },
        "id": "EQQR9LT2SDzo",
        "outputId": "6f26c59a-5d9c-4cc7-f33f-5290730bedd7"
      },
      "execution_count": 61,
      "outputs": [
        {
          "output_type": "stream",
          "name": "stdout",
          "text": [
            "[0.6246153846153846, 0.54, 0.6684615384615384]\n",
            "[0.4071394873405089, 0.6376923076923077, 0.369476]\n",
            "[0.4125980314997082, 0.2460596092001287, 0.4767062849415066]\n"
          ]
        }
      ]
    },
    {
      "cell_type": "code",
      "source": [
        "#plotting for accuracy\n",
        "plt.bar(algos, acc, color ='blue', width = 0.4)\n",
        "\n",
        "plt.xlabel(\"MODELS\")\n",
        "plt.ylabel(\"ACCURACY\")\n",
        "plt.title(\"Accuracy of each model, for the given data\")\n",
        "plt.grid()\n",
        "plt.show()"
      ],
      "metadata": {
        "colab": {
          "base_uri": "https://localhost:8080/",
          "height": 472
        },
        "id": "s41__9gGUT6p",
        "outputId": "7a7e8f96-427f-4482-f719-0484ca0d88ed"
      },
      "execution_count": 62,
      "outputs": [
        {
          "output_type": "display_data",
          "data": {
            "text/plain": [
              "<Figure size 640x480 with 1 Axes>"
            ],
            "image/png": "[encoded data removed]"
          },
          "metadata": {}
        }
      ]
    },
    {
      "cell_type": "code",
      "source": [
        "# bar plot for MSE\n",
        "plt.bar(algos, mse, color ='blue', width = 0.4)\n",
        "\n",
        "plt.xlabel(\"MODELS\")\n",
        "plt.ylabel(\"MEAN SQUARED ERRORS\")\n",
        "plt.title(\"MSE of each model, for the given data\")\n",
        "plt.grid()\n",
        "plt.show()"
      ],
      "metadata": {
        "colab": {
          "base_uri": "https://localhost:8080/",
          "height": 472
        },
        "id": "wz3vlFnYUaJg",
        "outputId": "dcd3d5a4-b29c-42d4-f026-038ca34d4656"
      },
      "execution_count": 64,
      "outputs": [
        {
          "output_type": "display_data",
          "data": {
            "text/plain": [
              "<Figure size 640x480 with 1 Axes>"
            ],
            "image/png": "[encoded data removed]"
          },
          "metadata": {}
        }
      ]
    },
    {
      "cell_type": "code",
      "source": [
        "# Bar plot for kappa score through various models\n",
        "plt.bar(algos, kappa, color ='red', width = 0.2)\n",
        "\n",
        "plt.xlabel(\"MODELS\")\n",
        "plt.ylabel(\"KAPPA SCORE\")\n",
        "plt.title(\"Cohen Kappa Score of each model, for the given data\")\n",
        "plt.grid()\n",
        "plt.show()"
      ],
      "metadata": {
        "colab": {
          "base_uri": "https://localhost:8080/",
          "height": 472
        },
        "id": "k_TWoEfhU3lT",
        "outputId": "bf05abf7-01c0-430c-db3f-dcd0ac959fcd"
      },
      "execution_count": 66,
      "outputs": [
        {
          "output_type": "display_data",
          "data": {
            "text/plain": [
              "<Figure size 640x480 with 1 Axes>"
            ],
            "image/png": "[encoded data removed]"
          },
          "metadata": {}
        }
      ]
    },
    {
      "cell_type": "markdown",
      "source": [
        "3.2 *Comparison of RF and GBM with Ordinal and Linear Regression*"
      ],
      "metadata": {
        "id": "sbR1d0lCVPS6"
      }
    },
    {
      "cell_type": "code",
      "source": [
        "algos = ['Linear Regression', 'Ordinal Regression', 'Random Forest', 'Gradient Boosting Machine']\n",
        "acc = [lin_accuracy, o_accuracy, rf_accuracy, gbm_accuracy]\n",
        "mse = [lin_mse, o_mse, rf_mse, gbm_mse]"
      ],
      "metadata": {
        "id": "56lTQnmKVGmT"
      },
      "execution_count": 67,
      "outputs": []
    },
    {
      "cell_type": "code",
      "source": [
        "#plotting for accuracy\n",
        "plt.bar(algos, acc, color ='blue', width = 0.4)\n",
        "\n",
        "plt.xlabel(\"MODELS\")\n",
        "plt.ylabel(\"ACCURACY\")\n",
        "plt.title(\"Accuracy of each model, for the given data\")\n",
        "plt.grid()\n",
        "plt.show()"
      ],
      "metadata": {
        "colab": {
          "base_uri": "https://localhost:8080/",
          "height": 472
        },
        "id": "AUnGheHZVgj2",
        "outputId": "65e67854-9d5d-41c5-a4b9-1df2c06f521e"
      },
      "execution_count": 69,
      "outputs": [
        {
          "output_type": "display_data",
          "data": {
            "text/plain": [
              "<Figure size 640x480 with 1 Axes>"
            ],
            "image/png": "[encoded data removed]"
          },
          "metadata": {}
        }
      ]
    },
    {
      "cell_type": "code",
      "source": [
        "# plotting mse\n",
        "plt.bar(algos, mse, color ='green', width = 0.3)\n",
        "\n",
        "plt.xlabel(\"MODELS\")\n",
        "plt.ylabel(\"MEAN SQUARED ERRORS\")\n",
        "plt.title(\"Mean Squared Error of each model, for the given data\")\n",
        "plt.grid()\n",
        "plt.show()"
      ],
      "metadata": {
        "colab": {
          "base_uri": "https://localhost:8080/",
          "height": 472
        },
        "id": "Lm1VlVY7VlkO",
        "outputId": "522a872e-74cf-47c5-b0c6-6f0d0702cab5"
      },
      "execution_count": 70,
      "outputs": [
        {
          "output_type": "display_data",
          "data": {
            "text/plain": [
              "<Figure size 640x480 with 1 Axes>"
            ],
            "image/png": "[encoded data removed]"
          },
          "metadata": {}
        }
      ]
    },
    {
      "cell_type": "code",
      "source": [],
      "metadata": {
        "id": "8zQGQqhdVtM1"
      },
      "execution_count": null,
      "outputs": []
    }
  ],
  "metadata": {
    "colab": {
      "provenance": []
    },
    "kernelspec": {
      "display_name": "Python 3",
      "name": "python3"
    },
    "language_info": {
      "name": "python"
    }
  },
  "nbformat": 4,
  "nbformat_minor": 0
}
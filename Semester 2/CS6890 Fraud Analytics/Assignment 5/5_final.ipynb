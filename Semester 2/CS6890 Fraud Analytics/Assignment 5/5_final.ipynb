{
 "cells": [
  {
   "cell_type": "markdown",
   "metadata": {},
   "source": [
    "---\n",
    "<h1><B> Fraud Analytics (CS6890)  </h1></B></center>\n",
    "\n",
    "---\n",
    "\n",
    "<table>\n",
    "<tr>\n",
    "<td><h3> Assignment : </td>\n",
    "<td><h3> 5 </td>\n",
    "</tr>\n",
    "<tr>\n",
    "<td><h3> Title : </td>\n",
    "<td><h3> Synthetic data generation using Variational Autoencoder\n",
    " </td>\n",
    "</tr>\n",
    "<tr>\n",
    "<td><h3> Team Details : </td>\n",
    "<td>\n",
    "\n",
    "<table>\n",
    "<tr>\n",
    "<th> <h3> Name </th>\n",
    "<th> <h3> Roll Number </th>\n",
    "</tr>\n",
    "\n",
    "\n",
    "\n",
    "<tr>\n",
    "<td><h5> Pramit Sahoo </td>\n",
    "<td><h5> AI23MTECH14004 </td>\n",
    "</tr>\n",
    "<tr>\n",
    "<td><h5> Tarun Jalota </td>\n",
    "<td><h5> AI23MTECH13004 </td>\n",
    "</tr>\n",
    "<tr>\n",
    "<td><h5> Pathlavath Shankar </td>\n",
    "<td><h5> CS21BTECH11064 </td>\n",
    "</tr>\n",
    "<tr>\n",
    "<td><h5> N Sree Harsha </td>\n",
    "<td><h5> CS21BTECH11042 </td>\n",
    "</tr>\n",
    "<tr>\n",
    "<td><h5> Jayachandra Naidu Rajapu </td>\n",
    "<td><h5> CS21BTECH11064</td>\n",
    "</tr>\n",
    "<tr>\n",
    "\n",
    "\n",
    "<table>\n",
    "\n",
    "\n",
    "\n",
    "</td>\n",
    "</tr>\n",
    "<table>\n"
   ]
  },
  {
   "cell_type": "code",
   "execution_count": 2,
   "metadata": {},
   "outputs": [],
   "source": [
    "import pandas as pd\n",
    "import torch\n",
    "from sklearn.preprocessing import LabelEncoder, MinMaxScaler, StandardScaler\n",
    "import numpy as np\n",
    "from tqdm import tqdm\n",
    "import matplotlib.pyplot as plt\n",
    "import datetime\n",
    "\n",
    "import torch    \n",
    "import torch.nn as nn\n",
    "import torch.optim as optim\n",
    "from torch.utils.data import DataLoader, Dataset\n",
    "import pandas as pd"
   ]
  },
  {
   "cell_type": "markdown",
   "metadata": {},
   "source": [
    "## Pre-Processing"
   ]
  },
  {
   "cell_type": "code",
   "execution_count": 3,
   "metadata": {},
   "outputs": [],
   "source": [
    "df = pd.read_csv('/home/ai23mtech14004/CS6890_FraudAnalytics/Assignment_5_SyntheticDataGeneration/card_transaction.v1.csv')"
   ]
  },
  {
   "cell_type": "code",
   "execution_count": 4,
   "metadata": {},
   "outputs": [
    {
     "name": "stdout",
     "output_type": "stream",
     "text": [
      "<class 'pandas.core.frame.DataFrame'>\n",
      "RangeIndex: 2555190 entries, 0 to 2555189\n",
      "Data columns (total 15 columns):\n",
      " #   Column          Dtype  \n",
      "---  ------          -----  \n",
      " 0   User            int64  \n",
      " 1   Card            int64  \n",
      " 2   Year            int64  \n",
      " 3   Month           int64  \n",
      " 4   Day             int64  \n",
      " 5   Time            object \n",
      " 6   Amount          object \n",
      " 7   Use Chip        object \n",
      " 8   Merchant Name   float64\n",
      " 9   Merchant City   object \n",
      " 10  Merchant State  object \n",
      " 11  Zip             float64\n",
      " 12  MCC             float64\n",
      " 13  Errors?         object \n",
      " 14  Is Fraud?       object \n",
      "dtypes: float64(3), int64(5), object(7)\n",
      "memory usage: 292.4+ MB\n"
     ]
    }
   ],
   "source": [
    "df.info()"
   ]
  },
  {
   "cell_type": "code",
   "execution_count": 6,
   "metadata": {},
   "outputs": [
    {
     "name": "stdout",
     "output_type": "stream",
     "text": [
      "Unique users: 216\n",
      "Number of fraudulent transactions: 2963\n",
      "Percentage of fraudulent transactions: 0.12%\n"
     ]
    }
   ],
   "source": [
    "# Calculate the number of unique users\n",
    "unique_users = df['User'].nunique()\n",
    "\n",
    "# Handle NaN and non-string types before applying string methods in 'Is Fraud?'\n",
    "df['Is Fraud?'] = df['Is Fraud?'].apply(lambda x: x.strip().lower() == 'yes' if isinstance(x, str) else False)\n",
    "\n",
    "# Calculate the number of fraudulent transactions\n",
    "fraudulent_transactions_count = df['Is Fraud?'].sum()\n",
    "\n",
    "# Calculate the percentage of fraudulent transactions\n",
    "fraudulent_transactions_percentage = (fraudulent_transactions_count / len(df)) * 100\n",
    "\n",
    "# Print the results\n",
    "print(f\"Unique users: {unique_users}\")\n",
    "print(f\"Number of fraudulent transactions: {fraudulent_transactions_count}\")\n",
    "print(f\"Percentage of fraudulent transactions: {fraudulent_transactions_percentage:.2f}%\")\n"
   ]
  },
  {
   "cell_type": "code",
   "execution_count": 14,
   "metadata": {},
   "outputs": [
    {
     "data": {
      "text/html": [
       "<div>\n",
       "<style scoped>\n",
       "    .dataframe tbody tr th:only-of-type {\n",
       "        vertical-align: middle;\n",
       "    }\n",
       "\n",
       "    .dataframe tbody tr th {\n",
       "        vertical-align: top;\n",
       "    }\n",
       "\n",
       "    .dataframe thead th {\n",
       "        text-align: right;\n",
       "    }\n",
       "</style>\n",
       "<table border=\"1\" class=\"dataframe\">\n",
       "  <thead>\n",
       "    <tr style=\"text-align: right;\">\n",
       "      <th></th>\n",
       "      <th>User</th>\n",
       "      <th>Card</th>\n",
       "      <th>Year</th>\n",
       "      <th>Month</th>\n",
       "      <th>Day</th>\n",
       "      <th>Time</th>\n",
       "      <th>Amount</th>\n",
       "      <th>Use Chip</th>\n",
       "      <th>Merchant Name</th>\n",
       "      <th>Merchant City</th>\n",
       "      <th>Merchant State</th>\n",
       "      <th>Zip</th>\n",
       "      <th>MCC</th>\n",
       "      <th>Errors?</th>\n",
       "      <th>Is Fraud?</th>\n",
       "    </tr>\n",
       "  </thead>\n",
       "  <tbody>\n",
       "    <tr>\n",
       "      <th>0</th>\n",
       "      <td>0</td>\n",
       "      <td>0</td>\n",
       "      <td>2002</td>\n",
       "      <td>9</td>\n",
       "      <td>1</td>\n",
       "      <td>06:21</td>\n",
       "      <td>$134.09</td>\n",
       "      <td>Swipe Transaction</td>\n",
       "      <td>3.527213e+18</td>\n",
       "      <td>La Verne</td>\n",
       "      <td>CA</td>\n",
       "      <td>91750.0</td>\n",
       "      <td>5300.0</td>\n",
       "      <td>NaN</td>\n",
       "      <td>No</td>\n",
       "    </tr>\n",
       "    <tr>\n",
       "      <th>1</th>\n",
       "      <td>0</td>\n",
       "      <td>0</td>\n",
       "      <td>2002</td>\n",
       "      <td>9</td>\n",
       "      <td>1</td>\n",
       "      <td>06:42</td>\n",
       "      <td>$38.48</td>\n",
       "      <td>Swipe Transaction</td>\n",
       "      <td>-7.276121e+17</td>\n",
       "      <td>Monterey Park</td>\n",
       "      <td>CA</td>\n",
       "      <td>91754.0</td>\n",
       "      <td>5411.0</td>\n",
       "      <td>NaN</td>\n",
       "      <td>No</td>\n",
       "    </tr>\n",
       "    <tr>\n",
       "      <th>2</th>\n",
       "      <td>0</td>\n",
       "      <td>0</td>\n",
       "      <td>2002</td>\n",
       "      <td>9</td>\n",
       "      <td>2</td>\n",
       "      <td>06:22</td>\n",
       "      <td>$120.34</td>\n",
       "      <td>Swipe Transaction</td>\n",
       "      <td>-7.276121e+17</td>\n",
       "      <td>Monterey Park</td>\n",
       "      <td>CA</td>\n",
       "      <td>91754.0</td>\n",
       "      <td>5411.0</td>\n",
       "      <td>NaN</td>\n",
       "      <td>No</td>\n",
       "    </tr>\n",
       "    <tr>\n",
       "      <th>3</th>\n",
       "      <td>0</td>\n",
       "      <td>0</td>\n",
       "      <td>2002</td>\n",
       "      <td>9</td>\n",
       "      <td>2</td>\n",
       "      <td>17:45</td>\n",
       "      <td>$128.95</td>\n",
       "      <td>Swipe Transaction</td>\n",
       "      <td>3.414527e+18</td>\n",
       "      <td>Monterey Park</td>\n",
       "      <td>CA</td>\n",
       "      <td>91754.0</td>\n",
       "      <td>5651.0</td>\n",
       "      <td>NaN</td>\n",
       "      <td>No</td>\n",
       "    </tr>\n",
       "    <tr>\n",
       "      <th>4</th>\n",
       "      <td>0</td>\n",
       "      <td>0</td>\n",
       "      <td>2002</td>\n",
       "      <td>9</td>\n",
       "      <td>3</td>\n",
       "      <td>06:23</td>\n",
       "      <td>$104.71</td>\n",
       "      <td>Swipe Transaction</td>\n",
       "      <td>5.817218e+18</td>\n",
       "      <td>La Verne</td>\n",
       "      <td>CA</td>\n",
       "      <td>91750.0</td>\n",
       "      <td>5912.0</td>\n",
       "      <td>NaN</td>\n",
       "      <td>No</td>\n",
       "    </tr>\n",
       "  </tbody>\n",
       "</table>\n",
       "</div>"
      ],
      "text/plain": [
       "   User  Card  Year  Month  Day   Time   Amount           Use Chip  \\\n",
       "0     0     0  2002      9    1  06:21  $134.09  Swipe Transaction   \n",
       "1     0     0  2002      9    1  06:42   $38.48  Swipe Transaction   \n",
       "2     0     0  2002      9    2  06:22  $120.34  Swipe Transaction   \n",
       "3     0     0  2002      9    2  17:45  $128.95  Swipe Transaction   \n",
       "4     0     0  2002      9    3  06:23  $104.71  Swipe Transaction   \n",
       "\n",
       "   Merchant Name  Merchant City Merchant State      Zip     MCC Errors?  \\\n",
       "0   3.527213e+18       La Verne             CA  91750.0  5300.0     NaN   \n",
       "1  -7.276121e+17  Monterey Park             CA  91754.0  5411.0     NaN   \n",
       "2  -7.276121e+17  Monterey Park             CA  91754.0  5411.0     NaN   \n",
       "3   3.414527e+18  Monterey Park             CA  91754.0  5651.0     NaN   \n",
       "4   5.817218e+18       La Verne             CA  91750.0  5912.0     NaN   \n",
       "\n",
       "  Is Fraud?  \n",
       "0        No  \n",
       "1        No  \n",
       "2        No  \n",
       "3        No  \n",
       "4        No  "
      ]
     },
     "execution_count": 14,
     "metadata": {},
     "output_type": "execute_result"
    }
   ],
   "source": [
    "df.head()"
   ]
  },
  {
   "cell_type": "code",
   "execution_count": 15,
   "metadata": {},
   "outputs": [],
   "source": [
    "dfLenOG =len(df)"
   ]
  },
  {
   "cell_type": "markdown",
   "metadata": {},
   "source": [
    "Checking the stats of the dataset"
   ]
  },
  {
   "cell_type": "code",
   "execution_count": 16,
   "metadata": {},
   "outputs": [
    {
     "data": {
      "text/html": [
       "<div>\n",
       "<style scoped>\n",
       "    .dataframe tbody tr th:only-of-type {\n",
       "        vertical-align: middle;\n",
       "    }\n",
       "\n",
       "    .dataframe tbody tr th {\n",
       "        vertical-align: top;\n",
       "    }\n",
       "\n",
       "    .dataframe thead th {\n",
       "        text-align: right;\n",
       "    }\n",
       "</style>\n",
       "<table border=\"1\" class=\"dataframe\">\n",
       "  <thead>\n",
       "    <tr style=\"text-align: right;\">\n",
       "      <th></th>\n",
       "      <th>User</th>\n",
       "      <th>Card</th>\n",
       "      <th>Year</th>\n",
       "      <th>Month</th>\n",
       "      <th>Day</th>\n",
       "      <th>Merchant Name</th>\n",
       "      <th>Zip</th>\n",
       "      <th>MCC</th>\n",
       "    </tr>\n",
       "  </thead>\n",
       "  <tbody>\n",
       "    <tr>\n",
       "      <th>count</th>\n",
       "      <td>2.555190e+06</td>\n",
       "      <td>2.555190e+06</td>\n",
       "      <td>2.555190e+06</td>\n",
       "      <td>2.555190e+06</td>\n",
       "      <td>2.555190e+06</td>\n",
       "      <td>2.555189e+06</td>\n",
       "      <td>2.216985e+06</td>\n",
       "      <td>2.555189e+06</td>\n",
       "    </tr>\n",
       "    <tr>\n",
       "      <th>mean</th>\n",
       "      <td>1.020676e+02</td>\n",
       "      <td>1.238151e+00</td>\n",
       "      <td>2.011793e+03</td>\n",
       "      <td>6.520146e+00</td>\n",
       "      <td>1.571605e+01</td>\n",
       "      <td>-5.783186e+17</td>\n",
       "      <td>5.306903e+04</td>\n",
       "      <td>5.563812e+03</td>\n",
       "    </tr>\n",
       "    <tr>\n",
       "      <th>std</th>\n",
       "      <td>6.215434e+01</td>\n",
       "      <td>1.344876e+00</td>\n",
       "      <td>5.150918e+00</td>\n",
       "      <td>3.470954e+00</td>\n",
       "      <td>8.790976e+00</td>\n",
       "      <td>4.731351e+18</td>\n",
       "      <td>2.851758e+04</td>\n",
       "      <td>8.973669e+02</td>\n",
       "    </tr>\n",
       "    <tr>\n",
       "      <th>min</th>\n",
       "      <td>0.000000e+00</td>\n",
       "      <td>0.000000e+00</td>\n",
       "      <td>1.995000e+03</td>\n",
       "      <td>1.000000e+00</td>\n",
       "      <td>1.000000e+00</td>\n",
       "      <td>-9.222265e+18</td>\n",
       "      <td>1.001000e+03</td>\n",
       "      <td>1.711000e+03</td>\n",
       "    </tr>\n",
       "    <tr>\n",
       "      <th>25%</th>\n",
       "      <td>4.800000e+01</td>\n",
       "      <td>0.000000e+00</td>\n",
       "      <td>2.008000e+03</td>\n",
       "      <td>3.000000e+00</td>\n",
       "      <td>8.000000e+00</td>\n",
       "      <td>-4.693980e+18</td>\n",
       "      <td>3.053500e+04</td>\n",
       "      <td>5.300000e+03</td>\n",
       "    </tr>\n",
       "    <tr>\n",
       "      <th>50%</th>\n",
       "      <td>1.010000e+02</td>\n",
       "      <td>1.000000e+00</td>\n",
       "      <td>2.012000e+03</td>\n",
       "      <td>7.000000e+00</td>\n",
       "      <td>1.600000e+01</td>\n",
       "      <td>-9.844448e+17</td>\n",
       "      <td>4.837500e+04</td>\n",
       "      <td>5.499000e+03</td>\n",
       "    </tr>\n",
       "    <tr>\n",
       "      <th>75%</th>\n",
       "      <td>1.560000e+02</td>\n",
       "      <td>2.000000e+00</td>\n",
       "      <td>2.016000e+03</td>\n",
       "      <td>1.000000e+01</td>\n",
       "      <td>2.300000e+01</td>\n",
       "      <td>3.102660e+18</td>\n",
       "      <td>7.863300e+04</td>\n",
       "      <td>5.813000e+03</td>\n",
       "    </tr>\n",
       "    <tr>\n",
       "      <th>max</th>\n",
       "      <td>2.150000e+02</td>\n",
       "      <td>8.000000e+00</td>\n",
       "      <td>2.020000e+03</td>\n",
       "      <td>1.200000e+01</td>\n",
       "      <td>3.100000e+01</td>\n",
       "      <td>9.222877e+18</td>\n",
       "      <td>9.992800e+04</td>\n",
       "      <td>9.402000e+03</td>\n",
       "    </tr>\n",
       "  </tbody>\n",
       "</table>\n",
       "</div>"
      ],
      "text/plain": [
       "               User          Card          Year         Month           Day  \\\n",
       "count  2.555190e+06  2.555190e+06  2.555190e+06  2.555190e+06  2.555190e+06   \n",
       "mean   1.020676e+02  1.238151e+00  2.011793e+03  6.520146e+00  1.571605e+01   \n",
       "std    6.215434e+01  1.344876e+00  5.150918e+00  3.470954e+00  8.790976e+00   \n",
       "min    0.000000e+00  0.000000e+00  1.995000e+03  1.000000e+00  1.000000e+00   \n",
       "25%    4.800000e+01  0.000000e+00  2.008000e+03  3.000000e+00  8.000000e+00   \n",
       "50%    1.010000e+02  1.000000e+00  2.012000e+03  7.000000e+00  1.600000e+01   \n",
       "75%    1.560000e+02  2.000000e+00  2.016000e+03  1.000000e+01  2.300000e+01   \n",
       "max    2.150000e+02  8.000000e+00  2.020000e+03  1.200000e+01  3.100000e+01   \n",
       "\n",
       "       Merchant Name           Zip           MCC  \n",
       "count   2.555189e+06  2.216985e+06  2.555189e+06  \n",
       "mean   -5.783186e+17  5.306903e+04  5.563812e+03  \n",
       "std     4.731351e+18  2.851758e+04  8.973669e+02  \n",
       "min    -9.222265e+18  1.001000e+03  1.711000e+03  \n",
       "25%    -4.693980e+18  3.053500e+04  5.300000e+03  \n",
       "50%    -9.844448e+17  4.837500e+04  5.499000e+03  \n",
       "75%     3.102660e+18  7.863300e+04  5.813000e+03  \n",
       "max     9.222877e+18  9.992800e+04  9.402000e+03  "
      ]
     },
     "execution_count": 16,
     "metadata": {},
     "output_type": "execute_result"
    }
   ],
   "source": [
    "df.describe()"
   ]
  },
  {
   "cell_type": "markdown",
   "metadata": {},
   "source": [
    "Finding NA Value count in each column"
   ]
  },
  {
   "cell_type": "code",
   "execution_count": 17,
   "metadata": {},
   "outputs": [
    {
     "data": {
      "text/plain": [
       "User                    0\n",
       "Card                    0\n",
       "Year                    0\n",
       "Month                   0\n",
       "Day                     0\n",
       "Time                    0\n",
       "Amount                  1\n",
       "Use Chip                1\n",
       "Merchant Name           1\n",
       "Merchant City           1\n",
       "Merchant State     321041\n",
       "Zip                338205\n",
       "MCC                     1\n",
       "Errors?           2515428\n",
       "Is Fraud?               1\n",
       "dtype: int64"
      ]
     },
     "execution_count": 17,
     "metadata": {},
     "output_type": "execute_result"
    }
   ],
   "source": [
    "df.isna().sum()"
   ]
  },
  {
   "cell_type": "code",
   "execution_count": 18,
   "metadata": {},
   "outputs": [
    {
     "data": {
      "text/plain": [
       "0.9844387305836356"
      ]
     },
     "execution_count": 18,
     "metadata": {},
     "output_type": "execute_result"
    }
   ],
   "source": [
    "#Upon inspection, The NA Value in `Errors?` Column is very high. Calculating the percentage of NA values in `Errors?` Column\n",
    "df['Errors?'].isna().sum()/len(df)"
   ]
  },
  {
   "cell_type": "code",
   "execution_count": 19,
   "metadata": {},
   "outputs": [],
   "source": [
    "df = df.drop(['Errors?'],axis=1)"
   ]
  },
  {
   "cell_type": "code",
   "execution_count": 20,
   "metadata": {},
   "outputs": [
    {
     "data": {
      "text/plain": [
       "User                   0\n",
       "Card                   0\n",
       "Year                   0\n",
       "Month                  0\n",
       "Day                    0\n",
       "Time                   0\n",
       "Amount                 1\n",
       "Use Chip               1\n",
       "Merchant Name          1\n",
       "Merchant City          1\n",
       "Merchant State    321041\n",
       "Zip               338205\n",
       "MCC                    1\n",
       "Is Fraud?              1\n",
       "dtype: int64"
      ]
     },
     "execution_count": 20,
     "metadata": {},
     "output_type": "execute_result"
    }
   ],
   "source": [
    "df.isna().sum()"
   ]
  },
  {
   "cell_type": "markdown",
   "metadata": {},
   "source": [
    "Checking for the 1 NA value in the amount column to drop it"
   ]
  },
  {
   "cell_type": "code",
   "execution_count": 21,
   "metadata": {},
   "outputs": [
    {
     "data": {
      "text/plain": [
       "Index([2555189], dtype='int64')"
      ]
     },
     "execution_count": 21,
     "metadata": {},
     "output_type": "execute_result"
    }
   ],
   "source": [
    "df['Amount'][df['Amount'].isnull()].index"
   ]
  },
  {
   "cell_type": "code",
   "execution_count": 22,
   "metadata": {},
   "outputs": [],
   "source": [
    "df = df.drop(index=[2555189])"
   ]
  },
  {
   "cell_type": "code",
   "execution_count": 23,
   "metadata": {},
   "outputs": [
    {
     "data": {
      "text/plain": [
       "User                   0\n",
       "Card                   0\n",
       "Year                   0\n",
       "Month                  0\n",
       "Day                    0\n",
       "Time                   0\n",
       "Amount                 0\n",
       "Use Chip               0\n",
       "Merchant Name          0\n",
       "Merchant City          0\n",
       "Merchant State    321040\n",
       "Zip               338204\n",
       "MCC                    0\n",
       "Is Fraud?              0\n",
       "dtype: int64"
      ]
     },
     "execution_count": 23,
     "metadata": {},
     "output_type": "execute_result"
    }
   ],
   "source": [
    "df.isna().sum()"
   ]
  },
  {
   "cell_type": "markdown",
   "metadata": {},
   "source": [
    "Upon dropping row 2555189, the NA values in `Amount`, `Use Chip`, `Merchant Name`, `Merchant City`, `MCC` and `Is Fraud?` were also 0. This implies that the row 2555189 was containing all null values"
   ]
  },
  {
   "cell_type": "code",
   "execution_count": 24,
   "metadata": {},
   "outputs": [
    {
     "data": {
      "text/plain": [
       "array(['CA', nan, 'NE', 'IL', 'MO', 'Switzerland', 'IA', 'TX', 'Estonia',\n",
       "       'NJ', 'NV', 'NY', 'Japan', 'AZ', 'UT', 'FL', 'MI', 'Mexico', 'WA',\n",
       "       'OH', 'Dominican Republic', 'NM', 'China', 'SC', 'AK', 'PA', 'VA',\n",
       "       'Portugal', 'HI', 'CT', 'MA', 'MN', 'CO', 'Italy', 'GA',\n",
       "       'Philippines', 'Jamaica', 'AR', 'Canada', 'OR', 'WI', 'NC',\n",
       "       'France', 'WV', 'Norway', 'ME', 'NH', 'VT', 'MD', 'AL', 'KY', 'TN',\n",
       "       'MS', 'New Zealand', 'Netherlands', 'KS', 'ND', 'DC',\n",
       "       'Sierra Leone', 'Haiti', 'MT', 'South Korea', 'Spain', 'OK',\n",
       "       'Algeria', 'Egypt', 'WY', 'ID', 'Indonesia', 'RI',\n",
       "       'United Kingdom', 'Colombia', 'South Africa', 'IN', 'The Bahamas',\n",
       "       'Singapore', 'Pakistan', 'Malaysia', 'Mongolia', 'Israel',\n",
       "       'Hong Kong', 'Guatemala', 'Peru', 'Thailand', 'Sweden', 'Taiwan',\n",
       "       'LA', 'Germany', 'Czech Republic', 'India', 'Poland', 'DE',\n",
       "       'Costa Rica', 'Denmark', 'Bangladesh', 'Macedonia', 'Nigeria',\n",
       "       'SD', 'Tuvalu', 'Ireland', 'Vatican City', 'Lithuania',\n",
       "       'Papua New Guinea', 'Belgium', 'Benin', 'Croatia', 'Saudi Arabia',\n",
       "       'Latvia', 'Austria', 'Slovenia', 'Turkey', 'Russia', 'Greece',\n",
       "       'Slovakia', 'Brazil', 'Hungary', 'Argentina', 'Serbia', 'Ghana',\n",
       "       'Oman', 'United Arab Emirates', 'Finland', 'Barbados', 'Australia',\n",
       "       'Vietnam', 'Micronesia', 'Aruba', 'Liechtenstein', 'Cambodia',\n",
       "       'Kosovo', 'South Sudan', 'Luxembourg', 'Myanmar (Burma)',\n",
       "       'Maldives', 'Samoa', 'Burkina Faso', 'Moldova', 'Eritrea', 'Chile',\n",
       "       'Belarus', 'Venezuela', 'Georgia', 'Tanzania', 'Iceland', 'Iran'],\n",
       "      dtype=object)"
      ]
     },
     "execution_count": 24,
     "metadata": {},
     "output_type": "execute_result"
    }
   ],
   "source": [
    "df['Merchant State'].unique()"
   ]
  },
  {
   "cell_type": "code",
   "execution_count": 25,
   "metadata": {},
   "outputs": [
    {
     "data": {
      "text/plain": [
       "(0.12564236931201567, 0.13235968063419185)"
      ]
     },
     "execution_count": 25,
     "metadata": {},
     "output_type": "execute_result"
    }
   ],
   "source": [
    "df['Merchant State'].isna().sum()/len(df), df['Zip'].isna().sum()/len(df)"
   ]
  },
  {
   "cell_type": "markdown",
   "metadata": {},
   "source": [
    "Only 12 - 13% values were NA in `Merchant State` and `Zip` Column. Dropping them"
   ]
  },
  {
   "cell_type": "code",
   "execution_count": 26,
   "metadata": {},
   "outputs": [],
   "source": [
    "df = df.dropna()"
   ]
  },
  {
   "cell_type": "code",
   "execution_count": 27,
   "metadata": {},
   "outputs": [
    {
     "data": {
      "text/plain": [
       "User              0\n",
       "Card              0\n",
       "Year              0\n",
       "Month             0\n",
       "Day               0\n",
       "Time              0\n",
       "Amount            0\n",
       "Use Chip          0\n",
       "Merchant Name     0\n",
       "Merchant City     0\n",
       "Merchant State    0\n",
       "Zip               0\n",
       "MCC               0\n",
       "Is Fraud?         0\n",
       "dtype: int64"
      ]
     },
     "execution_count": 27,
     "metadata": {},
     "output_type": "execute_result"
    }
   ],
   "source": [
    "df.isna().sum()"
   ]
  },
  {
   "cell_type": "code",
   "execution_count": 28,
   "metadata": {},
   "outputs": [
    {
     "data": {
      "text/plain": [
       "0.867639979805807"
      ]
     },
     "execution_count": 28,
     "metadata": {},
     "output_type": "execute_result"
    }
   ],
   "source": [
    "len(df)/dfLenOG"
   ]
  },
  {
   "cell_type": "markdown",
   "metadata": {},
   "source": [
    "After dropping all the NA value columns, we are still able to retai >86% of the data"
   ]
  },
  {
   "cell_type": "code",
   "execution_count": 29,
   "metadata": {},
   "outputs": [],
   "source": [
    "converted = []\n",
    "for i in df['Time'].values:\n",
    "\n",
    "    xs = i.replace(\":\",\"\")\n",
    "    if len(xs)>1:\n",
    "        \n",
    "        converted.append(int(xs))\n",
    "\n"
   ]
  },
  {
   "cell_type": "code",
   "execution_count": 30,
   "metadata": {},
   "outputs": [],
   "source": [
    "df['Time_Num'] = converted\n"
   ]
  },
  {
   "cell_type": "code",
   "execution_count": 31,
   "metadata": {},
   "outputs": [],
   "source": [
    "df = df.drop(['Time'],axis=1)"
   ]
  },
  {
   "cell_type": "code",
   "execution_count": 32,
   "metadata": {},
   "outputs": [
    {
     "data": {
      "text/html": [
       "<div>\n",
       "<style scoped>\n",
       "    .dataframe tbody tr th:only-of-type {\n",
       "        vertical-align: middle;\n",
       "    }\n",
       "\n",
       "    .dataframe tbody tr th {\n",
       "        vertical-align: top;\n",
       "    }\n",
       "\n",
       "    .dataframe thead th {\n",
       "        text-align: right;\n",
       "    }\n",
       "</style>\n",
       "<table border=\"1\" class=\"dataframe\">\n",
       "  <thead>\n",
       "    <tr style=\"text-align: right;\">\n",
       "      <th></th>\n",
       "      <th>User</th>\n",
       "      <th>Card</th>\n",
       "      <th>Year</th>\n",
       "      <th>Month</th>\n",
       "      <th>Day</th>\n",
       "      <th>Amount</th>\n",
       "      <th>Use Chip</th>\n",
       "      <th>Merchant Name</th>\n",
       "      <th>Merchant City</th>\n",
       "      <th>Merchant State</th>\n",
       "      <th>Zip</th>\n",
       "      <th>MCC</th>\n",
       "      <th>Is Fraud?</th>\n",
       "      <th>Time_Num</th>\n",
       "    </tr>\n",
       "  </thead>\n",
       "  <tbody>\n",
       "    <tr>\n",
       "      <th>0</th>\n",
       "      <td>0</td>\n",
       "      <td>0</td>\n",
       "      <td>2002</td>\n",
       "      <td>9</td>\n",
       "      <td>1</td>\n",
       "      <td>$134.09</td>\n",
       "      <td>Swipe Transaction</td>\n",
       "      <td>3.527213e+18</td>\n",
       "      <td>La Verne</td>\n",
       "      <td>CA</td>\n",
       "      <td>91750.0</td>\n",
       "      <td>5300.0</td>\n",
       "      <td>No</td>\n",
       "      <td>621</td>\n",
       "    </tr>\n",
       "    <tr>\n",
       "      <th>1</th>\n",
       "      <td>0</td>\n",
       "      <td>0</td>\n",
       "      <td>2002</td>\n",
       "      <td>9</td>\n",
       "      <td>1</td>\n",
       "      <td>$38.48</td>\n",
       "      <td>Swipe Transaction</td>\n",
       "      <td>-7.276121e+17</td>\n",
       "      <td>Monterey Park</td>\n",
       "      <td>CA</td>\n",
       "      <td>91754.0</td>\n",
       "      <td>5411.0</td>\n",
       "      <td>No</td>\n",
       "      <td>642</td>\n",
       "    </tr>\n",
       "    <tr>\n",
       "      <th>2</th>\n",
       "      <td>0</td>\n",
       "      <td>0</td>\n",
       "      <td>2002</td>\n",
       "      <td>9</td>\n",
       "      <td>2</td>\n",
       "      <td>$120.34</td>\n",
       "      <td>Swipe Transaction</td>\n",
       "      <td>-7.276121e+17</td>\n",
       "      <td>Monterey Park</td>\n",
       "      <td>CA</td>\n",
       "      <td>91754.0</td>\n",
       "      <td>5411.0</td>\n",
       "      <td>No</td>\n",
       "      <td>622</td>\n",
       "    </tr>\n",
       "    <tr>\n",
       "      <th>3</th>\n",
       "      <td>0</td>\n",
       "      <td>0</td>\n",
       "      <td>2002</td>\n",
       "      <td>9</td>\n",
       "      <td>2</td>\n",
       "      <td>$128.95</td>\n",
       "      <td>Swipe Transaction</td>\n",
       "      <td>3.414527e+18</td>\n",
       "      <td>Monterey Park</td>\n",
       "      <td>CA</td>\n",
       "      <td>91754.0</td>\n",
       "      <td>5651.0</td>\n",
       "      <td>No</td>\n",
       "      <td>1745</td>\n",
       "    </tr>\n",
       "    <tr>\n",
       "      <th>4</th>\n",
       "      <td>0</td>\n",
       "      <td>0</td>\n",
       "      <td>2002</td>\n",
       "      <td>9</td>\n",
       "      <td>3</td>\n",
       "      <td>$104.71</td>\n",
       "      <td>Swipe Transaction</td>\n",
       "      <td>5.817218e+18</td>\n",
       "      <td>La Verne</td>\n",
       "      <td>CA</td>\n",
       "      <td>91750.0</td>\n",
       "      <td>5912.0</td>\n",
       "      <td>No</td>\n",
       "      <td>623</td>\n",
       "    </tr>\n",
       "  </tbody>\n",
       "</table>\n",
       "</div>"
      ],
      "text/plain": [
       "   User  Card  Year  Month  Day   Amount           Use Chip  Merchant Name  \\\n",
       "0     0     0  2002      9    1  $134.09  Swipe Transaction   3.527213e+18   \n",
       "1     0     0  2002      9    1   $38.48  Swipe Transaction  -7.276121e+17   \n",
       "2     0     0  2002      9    2  $120.34  Swipe Transaction  -7.276121e+17   \n",
       "3     0     0  2002      9    2  $128.95  Swipe Transaction   3.414527e+18   \n",
       "4     0     0  2002      9    3  $104.71  Swipe Transaction   5.817218e+18   \n",
       "\n",
       "   Merchant City Merchant State      Zip     MCC Is Fraud?  Time_Num  \n",
       "0       La Verne             CA  91750.0  5300.0        No       621  \n",
       "1  Monterey Park             CA  91754.0  5411.0        No       642  \n",
       "2  Monterey Park             CA  91754.0  5411.0        No       622  \n",
       "3  Monterey Park             CA  91754.0  5651.0        No      1745  \n",
       "4       La Verne             CA  91750.0  5912.0        No       623  "
      ]
     },
     "execution_count": 32,
     "metadata": {},
     "output_type": "execute_result"
    }
   ],
   "source": [
    "df.head()"
   ]
  },
  {
   "cell_type": "code",
   "execution_count": 33,
   "metadata": {},
   "outputs": [
    {
     "data": {
      "text/plain": [
       "User                int64\n",
       "Card                int64\n",
       "Year                int64\n",
       "Month               int64\n",
       "Day                 int64\n",
       "Amount             object\n",
       "Use Chip           object\n",
       "Merchant Name     float64\n",
       "Merchant City      object\n",
       "Merchant State     object\n",
       "Zip               float64\n",
       "MCC               float64\n",
       "Is Fraud?          object\n",
       "Time_Num            int64\n",
       "dtype: object"
      ]
     },
     "execution_count": 33,
     "metadata": {},
     "output_type": "execute_result"
    }
   ],
   "source": [
    "df.dtypes"
   ]
  },
  {
   "cell_type": "code",
   "execution_count": 34,
   "metadata": {},
   "outputs": [
    {
     "data": {
      "text/html": [
       "<div>\n",
       "<style scoped>\n",
       "    .dataframe tbody tr th:only-of-type {\n",
       "        vertical-align: middle;\n",
       "    }\n",
       "\n",
       "    .dataframe tbody tr th {\n",
       "        vertical-align: top;\n",
       "    }\n",
       "\n",
       "    .dataframe thead th {\n",
       "        text-align: right;\n",
       "    }\n",
       "</style>\n",
       "<table border=\"1\" class=\"dataframe\">\n",
       "  <thead>\n",
       "    <tr style=\"text-align: right;\">\n",
       "      <th></th>\n",
       "      <th>User</th>\n",
       "      <th>Card</th>\n",
       "      <th>Year</th>\n",
       "      <th>Month</th>\n",
       "      <th>Day</th>\n",
       "      <th>Amount</th>\n",
       "      <th>Use Chip</th>\n",
       "      <th>Merchant Name</th>\n",
       "      <th>Merchant City</th>\n",
       "      <th>Merchant State</th>\n",
       "      <th>Zip</th>\n",
       "      <th>MCC</th>\n",
       "      <th>Is Fraud?</th>\n",
       "      <th>Time_Num</th>\n",
       "    </tr>\n",
       "  </thead>\n",
       "  <tbody>\n",
       "    <tr>\n",
       "      <th>0</th>\n",
       "      <td>0</td>\n",
       "      <td>0</td>\n",
       "      <td>2002</td>\n",
       "      <td>9</td>\n",
       "      <td>1</td>\n",
       "      <td>$134.09</td>\n",
       "      <td>Swipe Transaction</td>\n",
       "      <td>3.527213e+18</td>\n",
       "      <td>La Verne</td>\n",
       "      <td>CA</td>\n",
       "      <td>91750.0</td>\n",
       "      <td>5300.0</td>\n",
       "      <td>No</td>\n",
       "      <td>621</td>\n",
       "    </tr>\n",
       "    <tr>\n",
       "      <th>1</th>\n",
       "      <td>0</td>\n",
       "      <td>0</td>\n",
       "      <td>2002</td>\n",
       "      <td>9</td>\n",
       "      <td>1</td>\n",
       "      <td>$38.48</td>\n",
       "      <td>Swipe Transaction</td>\n",
       "      <td>-7.276121e+17</td>\n",
       "      <td>Monterey Park</td>\n",
       "      <td>CA</td>\n",
       "      <td>91754.0</td>\n",
       "      <td>5411.0</td>\n",
       "      <td>No</td>\n",
       "      <td>642</td>\n",
       "    </tr>\n",
       "    <tr>\n",
       "      <th>2</th>\n",
       "      <td>0</td>\n",
       "      <td>0</td>\n",
       "      <td>2002</td>\n",
       "      <td>9</td>\n",
       "      <td>2</td>\n",
       "      <td>$120.34</td>\n",
       "      <td>Swipe Transaction</td>\n",
       "      <td>-7.276121e+17</td>\n",
       "      <td>Monterey Park</td>\n",
       "      <td>CA</td>\n",
       "      <td>91754.0</td>\n",
       "      <td>5411.0</td>\n",
       "      <td>No</td>\n",
       "      <td>622</td>\n",
       "    </tr>\n",
       "    <tr>\n",
       "      <th>3</th>\n",
       "      <td>0</td>\n",
       "      <td>0</td>\n",
       "      <td>2002</td>\n",
       "      <td>9</td>\n",
       "      <td>2</td>\n",
       "      <td>$128.95</td>\n",
       "      <td>Swipe Transaction</td>\n",
       "      <td>3.414527e+18</td>\n",
       "      <td>Monterey Park</td>\n",
       "      <td>CA</td>\n",
       "      <td>91754.0</td>\n",
       "      <td>5651.0</td>\n",
       "      <td>No</td>\n",
       "      <td>1745</td>\n",
       "    </tr>\n",
       "    <tr>\n",
       "      <th>4</th>\n",
       "      <td>0</td>\n",
       "      <td>0</td>\n",
       "      <td>2002</td>\n",
       "      <td>9</td>\n",
       "      <td>3</td>\n",
       "      <td>$104.71</td>\n",
       "      <td>Swipe Transaction</td>\n",
       "      <td>5.817218e+18</td>\n",
       "      <td>La Verne</td>\n",
       "      <td>CA</td>\n",
       "      <td>91750.0</td>\n",
       "      <td>5912.0</td>\n",
       "      <td>No</td>\n",
       "      <td>623</td>\n",
       "    </tr>\n",
       "  </tbody>\n",
       "</table>\n",
       "</div>"
      ],
      "text/plain": [
       "   User  Card  Year  Month  Day   Amount           Use Chip  Merchant Name  \\\n",
       "0     0     0  2002      9    1  $134.09  Swipe Transaction   3.527213e+18   \n",
       "1     0     0  2002      9    1   $38.48  Swipe Transaction  -7.276121e+17   \n",
       "2     0     0  2002      9    2  $120.34  Swipe Transaction  -7.276121e+17   \n",
       "3     0     0  2002      9    2  $128.95  Swipe Transaction   3.414527e+18   \n",
       "4     0     0  2002      9    3  $104.71  Swipe Transaction   5.817218e+18   \n",
       "\n",
       "   Merchant City Merchant State      Zip     MCC Is Fraud?  Time_Num  \n",
       "0       La Verne             CA  91750.0  5300.0        No       621  \n",
       "1  Monterey Park             CA  91754.0  5411.0        No       642  \n",
       "2  Monterey Park             CA  91754.0  5411.0        No       622  \n",
       "3  Monterey Park             CA  91754.0  5651.0        No      1745  \n",
       "4       La Verne             CA  91750.0  5912.0        No       623  "
      ]
     },
     "execution_count": 34,
     "metadata": {},
     "output_type": "execute_result"
    }
   ],
   "source": [
    "df.head()"
   ]
  },
  {
   "cell_type": "code",
   "execution_count": 35,
   "metadata": {},
   "outputs": [
    {
     "data": {
      "text/plain": [
       "array(['$134.09', '$38.48', '$120.34', ..., '$391.10', '$293.51',\n",
       "       '$296.08'], dtype=object)"
      ]
     },
     "execution_count": 35,
     "metadata": {},
     "output_type": "execute_result"
    }
   ],
   "source": [
    "df['Amount'].unique()"
   ]
  },
  {
   "cell_type": "code",
   "execution_count": 36,
   "metadata": {},
   "outputs": [
    {
     "data": {
      "text/plain": [
       "2216985"
      ]
     },
     "execution_count": 36,
     "metadata": {},
     "output_type": "execute_result"
    }
   ],
   "source": [
    "len(df['Amount'])"
   ]
  },
  {
   "cell_type": "code",
   "execution_count": 37,
   "metadata": {},
   "outputs": [
    {
     "name": "stderr",
     "output_type": "stream",
     "text": [
      "100%|██████████| 2216985/2216985 [00:01<00:00, 1578827.91it/s]\n"
     ]
    }
   ],
   "source": [
    "converted = []\n",
    "for i in tqdm(df['Amount'].values):\n",
    "    if type(i) == str:\n",
    "        \n",
    "        xs = i.strip('$')\n",
    "        \n",
    "        converted.append(float(xs))"
   ]
  },
  {
   "cell_type": "code",
   "execution_count": 38,
   "metadata": {},
   "outputs": [],
   "source": [
    "converted = np.array(converted)"
   ]
  },
  {
   "cell_type": "code",
   "execution_count": 39,
   "metadata": {},
   "outputs": [],
   "source": [
    "# df = df.drop(['AmountX'],axis=1)\n",
    "df['AmountX'] = converted"
   ]
  },
  {
   "cell_type": "code",
   "execution_count": 40,
   "metadata": {},
   "outputs": [],
   "source": [
    "df = df.drop(['Amount'],axis=1)"
   ]
  },
  {
   "cell_type": "code",
   "execution_count": 41,
   "metadata": {},
   "outputs": [
    {
     "data": {
      "text/html": [
       "<div>\n",
       "<style scoped>\n",
       "    .dataframe tbody tr th:only-of-type {\n",
       "        vertical-align: middle;\n",
       "    }\n",
       "\n",
       "    .dataframe tbody tr th {\n",
       "        vertical-align: top;\n",
       "    }\n",
       "\n",
       "    .dataframe thead th {\n",
       "        text-align: right;\n",
       "    }\n",
       "</style>\n",
       "<table border=\"1\" class=\"dataframe\">\n",
       "  <thead>\n",
       "    <tr style=\"text-align: right;\">\n",
       "      <th></th>\n",
       "      <th>User</th>\n",
       "      <th>Card</th>\n",
       "      <th>Year</th>\n",
       "      <th>Month</th>\n",
       "      <th>Day</th>\n",
       "      <th>Use Chip</th>\n",
       "      <th>Merchant Name</th>\n",
       "      <th>Merchant City</th>\n",
       "      <th>Merchant State</th>\n",
       "      <th>Zip</th>\n",
       "      <th>MCC</th>\n",
       "      <th>Is Fraud?</th>\n",
       "      <th>Time_Num</th>\n",
       "      <th>AmountX</th>\n",
       "    </tr>\n",
       "  </thead>\n",
       "  <tbody>\n",
       "    <tr>\n",
       "      <th>0</th>\n",
       "      <td>0</td>\n",
       "      <td>0</td>\n",
       "      <td>2002</td>\n",
       "      <td>9</td>\n",
       "      <td>1</td>\n",
       "      <td>Swipe Transaction</td>\n",
       "      <td>3.527213e+18</td>\n",
       "      <td>La Verne</td>\n",
       "      <td>CA</td>\n",
       "      <td>91750.0</td>\n",
       "      <td>5300.0</td>\n",
       "      <td>No</td>\n",
       "      <td>621</td>\n",
       "      <td>134.09</td>\n",
       "    </tr>\n",
       "    <tr>\n",
       "      <th>1</th>\n",
       "      <td>0</td>\n",
       "      <td>0</td>\n",
       "      <td>2002</td>\n",
       "      <td>9</td>\n",
       "      <td>1</td>\n",
       "      <td>Swipe Transaction</td>\n",
       "      <td>-7.276121e+17</td>\n",
       "      <td>Monterey Park</td>\n",
       "      <td>CA</td>\n",
       "      <td>91754.0</td>\n",
       "      <td>5411.0</td>\n",
       "      <td>No</td>\n",
       "      <td>642</td>\n",
       "      <td>38.48</td>\n",
       "    </tr>\n",
       "    <tr>\n",
       "      <th>2</th>\n",
       "      <td>0</td>\n",
       "      <td>0</td>\n",
       "      <td>2002</td>\n",
       "      <td>9</td>\n",
       "      <td>2</td>\n",
       "      <td>Swipe Transaction</td>\n",
       "      <td>-7.276121e+17</td>\n",
       "      <td>Monterey Park</td>\n",
       "      <td>CA</td>\n",
       "      <td>91754.0</td>\n",
       "      <td>5411.0</td>\n",
       "      <td>No</td>\n",
       "      <td>622</td>\n",
       "      <td>120.34</td>\n",
       "    </tr>\n",
       "    <tr>\n",
       "      <th>3</th>\n",
       "      <td>0</td>\n",
       "      <td>0</td>\n",
       "      <td>2002</td>\n",
       "      <td>9</td>\n",
       "      <td>2</td>\n",
       "      <td>Swipe Transaction</td>\n",
       "      <td>3.414527e+18</td>\n",
       "      <td>Monterey Park</td>\n",
       "      <td>CA</td>\n",
       "      <td>91754.0</td>\n",
       "      <td>5651.0</td>\n",
       "      <td>No</td>\n",
       "      <td>1745</td>\n",
       "      <td>128.95</td>\n",
       "    </tr>\n",
       "    <tr>\n",
       "      <th>4</th>\n",
       "      <td>0</td>\n",
       "      <td>0</td>\n",
       "      <td>2002</td>\n",
       "      <td>9</td>\n",
       "      <td>3</td>\n",
       "      <td>Swipe Transaction</td>\n",
       "      <td>5.817218e+18</td>\n",
       "      <td>La Verne</td>\n",
       "      <td>CA</td>\n",
       "      <td>91750.0</td>\n",
       "      <td>5912.0</td>\n",
       "      <td>No</td>\n",
       "      <td>623</td>\n",
       "      <td>104.71</td>\n",
       "    </tr>\n",
       "  </tbody>\n",
       "</table>\n",
       "</div>"
      ],
      "text/plain": [
       "   User  Card  Year  Month  Day           Use Chip  Merchant Name  \\\n",
       "0     0     0  2002      9    1  Swipe Transaction   3.527213e+18   \n",
       "1     0     0  2002      9    1  Swipe Transaction  -7.276121e+17   \n",
       "2     0     0  2002      9    2  Swipe Transaction  -7.276121e+17   \n",
       "3     0     0  2002      9    2  Swipe Transaction   3.414527e+18   \n",
       "4     0     0  2002      9    3  Swipe Transaction   5.817218e+18   \n",
       "\n",
       "   Merchant City Merchant State      Zip     MCC Is Fraud?  Time_Num  AmountX  \n",
       "0       La Verne             CA  91750.0  5300.0        No       621   134.09  \n",
       "1  Monterey Park             CA  91754.0  5411.0        No       642    38.48  \n",
       "2  Monterey Park             CA  91754.0  5411.0        No       622   120.34  \n",
       "3  Monterey Park             CA  91754.0  5651.0        No      1745   128.95  \n",
       "4       La Verne             CA  91750.0  5912.0        No       623   104.71  "
      ]
     },
     "execution_count": 41,
     "metadata": {},
     "output_type": "execute_result"
    }
   ],
   "source": [
    "df.head()"
   ]
  },
  {
   "cell_type": "code",
   "execution_count": 42,
   "metadata": {},
   "outputs": [
    {
     "data": {
      "text/plain": [
       "User                int64\n",
       "Card                int64\n",
       "Year                int64\n",
       "Month               int64\n",
       "Day                 int64\n",
       "Use Chip           object\n",
       "Merchant Name     float64\n",
       "Merchant City      object\n",
       "Merchant State     object\n",
       "Zip               float64\n",
       "MCC               float64\n",
       "Is Fraud?          object\n",
       "Time_Num            int64\n",
       "AmountX           float64\n",
       "dtype: object"
      ]
     },
     "execution_count": 42,
     "metadata": {},
     "output_type": "execute_result"
    }
   ],
   "source": [
    "df.dtypes"
   ]
  },
  {
   "cell_type": "markdown",
   "metadata": {},
   "source": [
    "Giving rest of the columns to Label Encoder"
   ]
  },
  {
   "cell_type": "code",
   "execution_count": 43,
   "metadata": {},
   "outputs": [],
   "source": [
    "toEncode = ['Use Chip','Merchant Name','Merchant City','Merchant State','Is Fraud?']\n",
    "\n",
    "for i in toEncode:\n",
    "    label_encoder = LabelEncoder()\n",
    "    df[i] = label_encoder.fit_transform(df[i])\n",
    "\n"
   ]
  },
  {
   "cell_type": "code",
   "execution_count": 44,
   "metadata": {},
   "outputs": [
    {
     "data": {
      "text/html": [
       "<div>\n",
       "<style scoped>\n",
       "    .dataframe tbody tr th:only-of-type {\n",
       "        vertical-align: middle;\n",
       "    }\n",
       "\n",
       "    .dataframe tbody tr th {\n",
       "        vertical-align: top;\n",
       "    }\n",
       "\n",
       "    .dataframe thead th {\n",
       "        text-align: right;\n",
       "    }\n",
       "</style>\n",
       "<table border=\"1\" class=\"dataframe\">\n",
       "  <thead>\n",
       "    <tr style=\"text-align: right;\">\n",
       "      <th></th>\n",
       "      <th>User</th>\n",
       "      <th>Card</th>\n",
       "      <th>Year</th>\n",
       "      <th>Month</th>\n",
       "      <th>Day</th>\n",
       "      <th>Use Chip</th>\n",
       "      <th>Merchant Name</th>\n",
       "      <th>Merchant City</th>\n",
       "      <th>Merchant State</th>\n",
       "      <th>Zip</th>\n",
       "      <th>MCC</th>\n",
       "      <th>Is Fraud?</th>\n",
       "      <th>Time_Num</th>\n",
       "      <th>AmountX</th>\n",
       "    </tr>\n",
       "  </thead>\n",
       "  <tbody>\n",
       "    <tr>\n",
       "      <th>0</th>\n",
       "      <td>0</td>\n",
       "      <td>0</td>\n",
       "      <td>2002</td>\n",
       "      <td>9</td>\n",
       "      <td>1</td>\n",
       "      <td>1</td>\n",
       "      <td>15108</td>\n",
       "      <td>3654</td>\n",
       "      <td>4</td>\n",
       "      <td>91750.0</td>\n",
       "      <td>5300.0</td>\n",
       "      <td>0</td>\n",
       "      <td>621</td>\n",
       "      <td>134.09</td>\n",
       "    </tr>\n",
       "    <tr>\n",
       "      <th>1</th>\n",
       "      <td>0</td>\n",
       "      <td>0</td>\n",
       "      <td>2002</td>\n",
       "      <td>9</td>\n",
       "      <td>1</td>\n",
       "      <td>1</td>\n",
       "      <td>10137</td>\n",
       "      <td>4552</td>\n",
       "      <td>4</td>\n",
       "      <td>91754.0</td>\n",
       "      <td>5411.0</td>\n",
       "      <td>0</td>\n",
       "      <td>642</td>\n",
       "      <td>38.48</td>\n",
       "    </tr>\n",
       "    <tr>\n",
       "      <th>2</th>\n",
       "      <td>0</td>\n",
       "      <td>0</td>\n",
       "      <td>2002</td>\n",
       "      <td>9</td>\n",
       "      <td>2</td>\n",
       "      <td>1</td>\n",
       "      <td>10137</td>\n",
       "      <td>4552</td>\n",
       "      <td>4</td>\n",
       "      <td>91754.0</td>\n",
       "      <td>5411.0</td>\n",
       "      <td>0</td>\n",
       "      <td>622</td>\n",
       "      <td>120.34</td>\n",
       "    </tr>\n",
       "    <tr>\n",
       "      <th>3</th>\n",
       "      <td>0</td>\n",
       "      <td>0</td>\n",
       "      <td>2002</td>\n",
       "      <td>9</td>\n",
       "      <td>2</td>\n",
       "      <td>1</td>\n",
       "      <td>14970</td>\n",
       "      <td>4552</td>\n",
       "      <td>4</td>\n",
       "      <td>91754.0</td>\n",
       "      <td>5651.0</td>\n",
       "      <td>0</td>\n",
       "      <td>1745</td>\n",
       "      <td>128.95</td>\n",
       "    </tr>\n",
       "    <tr>\n",
       "      <th>4</th>\n",
       "      <td>0</td>\n",
       "      <td>0</td>\n",
       "      <td>2002</td>\n",
       "      <td>9</td>\n",
       "      <td>3</td>\n",
       "      <td>1</td>\n",
       "      <td>17876</td>\n",
       "      <td>3654</td>\n",
       "      <td>4</td>\n",
       "      <td>91750.0</td>\n",
       "      <td>5912.0</td>\n",
       "      <td>0</td>\n",
       "      <td>623</td>\n",
       "      <td>104.71</td>\n",
       "    </tr>\n",
       "  </tbody>\n",
       "</table>\n",
       "</div>"
      ],
      "text/plain": [
       "   User  Card  Year  Month  Day  Use Chip  Merchant Name  Merchant City  \\\n",
       "0     0     0  2002      9    1         1          15108           3654   \n",
       "1     0     0  2002      9    1         1          10137           4552   \n",
       "2     0     0  2002      9    2         1          10137           4552   \n",
       "3     0     0  2002      9    2         1          14970           4552   \n",
       "4     0     0  2002      9    3         1          17876           3654   \n",
       "\n",
       "   Merchant State      Zip     MCC  Is Fraud?  Time_Num  AmountX  \n",
       "0               4  91750.0  5300.0          0       621   134.09  \n",
       "1               4  91754.0  5411.0          0       642    38.48  \n",
       "2               4  91754.0  5411.0          0       622   120.34  \n",
       "3               4  91754.0  5651.0          0      1745   128.95  \n",
       "4               4  91750.0  5912.0          0       623   104.71  "
      ]
     },
     "execution_count": 44,
     "metadata": {},
     "output_type": "execute_result"
    }
   ],
   "source": [
    "df.head()"
   ]
  },
  {
   "cell_type": "code",
   "execution_count": 45,
   "metadata": {},
   "outputs": [
    {
     "data": {
      "text/plain": [
       "User                int64\n",
       "Card                int64\n",
       "Year                int64\n",
       "Month               int64\n",
       "Day                 int64\n",
       "Use Chip            int64\n",
       "Merchant Name       int64\n",
       "Merchant City       int64\n",
       "Merchant State      int64\n",
       "Zip               float64\n",
       "MCC               float64\n",
       "Is Fraud?           int64\n",
       "Time_Num            int64\n",
       "AmountX           float64\n",
       "dtype: object"
      ]
     },
     "execution_count": 45,
     "metadata": {},
     "output_type": "execute_result"
    }
   ],
   "source": [
    "df.dtypes"
   ]
  },
  {
   "cell_type": "code",
   "execution_count": 46,
   "metadata": {},
   "outputs": [
    {
     "name": "stdout",
     "output_type": "stream",
     "text": [
      "Columns with NA values and their counts:\n",
      "User              0\n",
      "Card              0\n",
      "Year              0\n",
      "Month             0\n",
      "Day               0\n",
      "Use Chip          0\n",
      "Merchant Name     0\n",
      "Merchant City     0\n",
      "Merchant State    0\n",
      "Zip               0\n",
      "MCC               0\n",
      "Is Fraud?         0\n",
      "Time_Num          0\n",
      "AmountX           0\n",
      "dtype: int64\n"
     ]
    }
   ],
   "source": [
    "na_count = df.isna().sum()\n",
    "\n",
    "\n",
    "print(\"Columns with NA values and their counts:\")\n",
    "print(na_count)"
   ]
  },
  {
   "cell_type": "code",
   "execution_count": 48,
   "metadata": {},
   "outputs": [],
   "source": [
    "df.to_csv('/home/ai23mtech14004/CS6890_FraudAnalytics/Assignment_5_SyntheticDataGeneration/new_good_data.csv')"
   ]
  },
  {
   "cell_type": "markdown",
   "metadata": {},
   "source": [
    "## Reading the Pre-Processed CSV"
   ]
  },
  {
   "cell_type": "code",
   "execution_count": 49,
   "metadata": {},
   "outputs": [],
   "source": [
    "df = pd.read_csv('/home/ai23mtech14004/CS6890_FraudAnalytics/Assignment_5_SyntheticDataGeneration/new_good_data.csv',)"
   ]
  },
  {
   "cell_type": "code",
   "execution_count": 50,
   "metadata": {},
   "outputs": [
    {
     "data": {
      "text/html": [
       "<div>\n",
       "<style scoped>\n",
       "    .dataframe tbody tr th:only-of-type {\n",
       "        vertical-align: middle;\n",
       "    }\n",
       "\n",
       "    .dataframe tbody tr th {\n",
       "        vertical-align: top;\n",
       "    }\n",
       "\n",
       "    .dataframe thead th {\n",
       "        text-align: right;\n",
       "    }\n",
       "</style>\n",
       "<table border=\"1\" class=\"dataframe\">\n",
       "  <thead>\n",
       "    <tr style=\"text-align: right;\">\n",
       "      <th></th>\n",
       "      <th>User</th>\n",
       "      <th>Card</th>\n",
       "      <th>Year</th>\n",
       "      <th>Month</th>\n",
       "      <th>Day</th>\n",
       "      <th>Use Chip</th>\n",
       "      <th>Merchant Name</th>\n",
       "      <th>Merchant City</th>\n",
       "      <th>Merchant State</th>\n",
       "      <th>Zip</th>\n",
       "      <th>MCC</th>\n",
       "      <th>Is Fraud?</th>\n",
       "      <th>Time_Num</th>\n",
       "      <th>AmountX</th>\n",
       "    </tr>\n",
       "  </thead>\n",
       "  <tbody>\n",
       "    <tr>\n",
       "      <th>0</th>\n",
       "      <td>0</td>\n",
       "      <td>0</td>\n",
       "      <td>2002</td>\n",
       "      <td>9</td>\n",
       "      <td>1</td>\n",
       "      <td>1</td>\n",
       "      <td>15108</td>\n",
       "      <td>3654</td>\n",
       "      <td>4</td>\n",
       "      <td>91750.0</td>\n",
       "      <td>5300.0</td>\n",
       "      <td>0</td>\n",
       "      <td>621</td>\n",
       "      <td>134.09</td>\n",
       "    </tr>\n",
       "    <tr>\n",
       "      <th>1</th>\n",
       "      <td>0</td>\n",
       "      <td>0</td>\n",
       "      <td>2002</td>\n",
       "      <td>9</td>\n",
       "      <td>1</td>\n",
       "      <td>1</td>\n",
       "      <td>10137</td>\n",
       "      <td>4552</td>\n",
       "      <td>4</td>\n",
       "      <td>91754.0</td>\n",
       "      <td>5411.0</td>\n",
       "      <td>0</td>\n",
       "      <td>642</td>\n",
       "      <td>38.48</td>\n",
       "    </tr>\n",
       "    <tr>\n",
       "      <th>2</th>\n",
       "      <td>0</td>\n",
       "      <td>0</td>\n",
       "      <td>2002</td>\n",
       "      <td>9</td>\n",
       "      <td>2</td>\n",
       "      <td>1</td>\n",
       "      <td>10137</td>\n",
       "      <td>4552</td>\n",
       "      <td>4</td>\n",
       "      <td>91754.0</td>\n",
       "      <td>5411.0</td>\n",
       "      <td>0</td>\n",
       "      <td>622</td>\n",
       "      <td>120.34</td>\n",
       "    </tr>\n",
       "    <tr>\n",
       "      <th>3</th>\n",
       "      <td>0</td>\n",
       "      <td>0</td>\n",
       "      <td>2002</td>\n",
       "      <td>9</td>\n",
       "      <td>2</td>\n",
       "      <td>1</td>\n",
       "      <td>14970</td>\n",
       "      <td>4552</td>\n",
       "      <td>4</td>\n",
       "      <td>91754.0</td>\n",
       "      <td>5651.0</td>\n",
       "      <td>0</td>\n",
       "      <td>1745</td>\n",
       "      <td>128.95</td>\n",
       "    </tr>\n",
       "    <tr>\n",
       "      <th>4</th>\n",
       "      <td>0</td>\n",
       "      <td>0</td>\n",
       "      <td>2002</td>\n",
       "      <td>9</td>\n",
       "      <td>3</td>\n",
       "      <td>1</td>\n",
       "      <td>17876</td>\n",
       "      <td>3654</td>\n",
       "      <td>4</td>\n",
       "      <td>91750.0</td>\n",
       "      <td>5912.0</td>\n",
       "      <td>0</td>\n",
       "      <td>623</td>\n",
       "      <td>104.71</td>\n",
       "    </tr>\n",
       "  </tbody>\n",
       "</table>\n",
       "</div>"
      ],
      "text/plain": [
       "   User  Card  Year  Month  Day  Use Chip  Merchant Name  Merchant City  \\\n",
       "0     0     0  2002      9    1         1          15108           3654   \n",
       "1     0     0  2002      9    1         1          10137           4552   \n",
       "2     0     0  2002      9    2         1          10137           4552   \n",
       "3     0     0  2002      9    2         1          14970           4552   \n",
       "4     0     0  2002      9    3         1          17876           3654   \n",
       "\n",
       "   Merchant State      Zip     MCC  Is Fraud?  Time_Num  AmountX  \n",
       "0               4  91750.0  5300.0          0       621   134.09  \n",
       "1               4  91754.0  5411.0          0       642    38.48  \n",
       "2               4  91754.0  5411.0          0       622   120.34  \n",
       "3               4  91754.0  5651.0          0      1745   128.95  \n",
       "4               4  91750.0  5912.0          0       623   104.71  "
      ]
     },
     "execution_count": 50,
     "metadata": {},
     "output_type": "execute_result"
    }
   ],
   "source": [
    "df = df.drop('Unnamed: 0',axis=1)\n",
    "df.head()"
   ]
  },
  {
   "cell_type": "code",
   "execution_count": 51,
   "metadata": {},
   "outputs": [
    {
     "data": {
      "text/plain": [
       "14"
      ]
     },
     "execution_count": 51,
     "metadata": {},
     "output_type": "execute_result"
    }
   ],
   "source": [
    "len(list(df.columns))"
   ]
  },
  {
   "cell_type": "code",
   "execution_count": 52,
   "metadata": {},
   "outputs": [
    {
     "data": {
      "text/plain": [
       "2216985"
      ]
     },
     "execution_count": 52,
     "metadata": {},
     "output_type": "execute_result"
    }
   ],
   "source": [
    "len(df)"
   ]
  },
  {
   "cell_type": "markdown",
   "metadata": {},
   "source": [
    "## Normalizing the Values"
   ]
  },
  {
   "cell_type": "markdown",
   "metadata": {},
   "source": [
    "Using Standard Scaler to Normalize the values, as the assumption of VAE is that the latent space follows gaussian distribution"
   ]
  },
  {
   "cell_type": "code",
   "execution_count": 53,
   "metadata": {},
   "outputs": [],
   "source": [
    "scaler = StandardScaler()\n",
    "normalized_data = scaler.fit_transform(df.values)\n",
    "normalized_dataframe = pd.DataFrame(normalized_data, columns=df.columns)"
   ]
  },
  {
   "cell_type": "code",
   "execution_count": 54,
   "metadata": {},
   "outputs": [
    {
     "data": {
      "text/html": [
       "<div>\n",
       "<style scoped>\n",
       "    .dataframe tbody tr th:only-of-type {\n",
       "        vertical-align: middle;\n",
       "    }\n",
       "\n",
       "    .dataframe tbody tr th {\n",
       "        vertical-align: top;\n",
       "    }\n",
       "\n",
       "    .dataframe thead th {\n",
       "        text-align: right;\n",
       "    }\n",
       "</style>\n",
       "<table border=\"1\" class=\"dataframe\">\n",
       "  <thead>\n",
       "    <tr style=\"text-align: right;\">\n",
       "      <th></th>\n",
       "      <th>User</th>\n",
       "      <th>Card</th>\n",
       "      <th>Year</th>\n",
       "      <th>Month</th>\n",
       "      <th>Day</th>\n",
       "      <th>Use Chip</th>\n",
       "      <th>Merchant Name</th>\n",
       "      <th>Merchant City</th>\n",
       "      <th>Merchant State</th>\n",
       "      <th>Zip</th>\n",
       "      <th>MCC</th>\n",
       "      <th>Is Fraud?</th>\n",
       "      <th>Time_Num</th>\n",
       "      <th>AmountX</th>\n",
       "    </tr>\n",
       "  </thead>\n",
       "  <tbody>\n",
       "    <tr>\n",
       "      <th>0</th>\n",
       "      <td>-1.667172</td>\n",
       "      <td>-0.932706</td>\n",
       "      <td>-1.867914</td>\n",
       "      <td>0.712584</td>\n",
       "      <td>-1.674383</td>\n",
       "      <td>0.630024</td>\n",
       "      <td>0.822126</td>\n",
       "      <td>-0.097789</td>\n",
       "      <td>-1.191026</td>\n",
       "      <td>1.356391</td>\n",
       "      <td>-0.399476</td>\n",
       "      <td>-0.015361</td>\n",
       "      <td>-1.295325</td>\n",
       "      <td>1.111510</td>\n",
       "    </tr>\n",
       "    <tr>\n",
       "      <th>1</th>\n",
       "      <td>-1.667172</td>\n",
       "      <td>-0.932706</td>\n",
       "      <td>-1.867914</td>\n",
       "      <td>0.712584</td>\n",
       "      <td>-1.674383</td>\n",
       "      <td>0.630024</td>\n",
       "      <td>-0.054085</td>\n",
       "      <td>0.298392</td>\n",
       "      <td>-1.191026</td>\n",
       "      <td>1.356531</td>\n",
       "      <td>-0.274037</td>\n",
       "      <td>-0.015361</td>\n",
       "      <td>-1.253902</td>\n",
       "      <td>-0.053743</td>\n",
       "    </tr>\n",
       "    <tr>\n",
       "      <th>2</th>\n",
       "      <td>-1.667172</td>\n",
       "      <td>-0.932706</td>\n",
       "      <td>-1.867914</td>\n",
       "      <td>0.712584</td>\n",
       "      <td>-1.560579</td>\n",
       "      <td>0.630024</td>\n",
       "      <td>-0.054085</td>\n",
       "      <td>0.298392</td>\n",
       "      <td>-1.191026</td>\n",
       "      <td>1.356531</td>\n",
       "      <td>-0.274037</td>\n",
       "      <td>-0.015361</td>\n",
       "      <td>-1.293352</td>\n",
       "      <td>0.943931</td>\n",
       "    </tr>\n",
       "    <tr>\n",
       "      <th>3</th>\n",
       "      <td>-1.667172</td>\n",
       "      <td>-0.932706</td>\n",
       "      <td>-1.867914</td>\n",
       "      <td>0.712584</td>\n",
       "      <td>-1.560579</td>\n",
       "      <td>0.630024</td>\n",
       "      <td>0.797802</td>\n",
       "      <td>0.298392</td>\n",
       "      <td>-1.191026</td>\n",
       "      <td>1.356531</td>\n",
       "      <td>-0.002817</td>\n",
       "      <td>-0.015361</td>\n",
       "      <td>0.921802</td>\n",
       "      <td>1.048865</td>\n",
       "    </tr>\n",
       "    <tr>\n",
       "      <th>4</th>\n",
       "      <td>-1.667172</td>\n",
       "      <td>-0.932706</td>\n",
       "      <td>-1.867914</td>\n",
       "      <td>0.712584</td>\n",
       "      <td>-1.446775</td>\n",
       "      <td>0.630024</td>\n",
       "      <td>1.310027</td>\n",
       "      <td>-0.097789</td>\n",
       "      <td>-1.191026</td>\n",
       "      <td>1.356391</td>\n",
       "      <td>0.292135</td>\n",
       "      <td>-0.015361</td>\n",
       "      <td>-1.291380</td>\n",
       "      <td>0.753439</td>\n",
       "    </tr>\n",
       "  </tbody>\n",
       "</table>\n",
       "</div>"
      ],
      "text/plain": [
       "       User      Card      Year     Month       Day  Use Chip  Merchant Name  \\\n",
       "0 -1.667172 -0.932706 -1.867914  0.712584 -1.674383  0.630024       0.822126   \n",
       "1 -1.667172 -0.932706 -1.867914  0.712584 -1.674383  0.630024      -0.054085   \n",
       "2 -1.667172 -0.932706 -1.867914  0.712584 -1.560579  0.630024      -0.054085   \n",
       "3 -1.667172 -0.932706 -1.867914  0.712584 -1.560579  0.630024       0.797802   \n",
       "4 -1.667172 -0.932706 -1.867914  0.712584 -1.446775  0.630024       1.310027   \n",
       "\n",
       "   Merchant City  Merchant State       Zip       MCC  Is Fraud?  Time_Num  \\\n",
       "0      -0.097789       -1.191026  1.356391 -0.399476  -0.015361 -1.295325   \n",
       "1       0.298392       -1.191026  1.356531 -0.274037  -0.015361 -1.253902   \n",
       "2       0.298392       -1.191026  1.356531 -0.274037  -0.015361 -1.293352   \n",
       "3       0.298392       -1.191026  1.356531 -0.002817  -0.015361  0.921802   \n",
       "4      -0.097789       -1.191026  1.356391  0.292135  -0.015361 -1.291380   \n",
       "\n",
       "    AmountX  \n",
       "0  1.111510  \n",
       "1 -0.053743  \n",
       "2  0.943931  \n",
       "3  1.048865  \n",
       "4  0.753439  "
      ]
     },
     "execution_count": 54,
     "metadata": {},
     "output_type": "execute_result"
    }
   ],
   "source": [
    "normalized_dataframe.head()"
   ]
  },
  {
   "cell_type": "code",
   "execution_count": 55,
   "metadata": {},
   "outputs": [
    {
     "data": {
      "text/html": [
       "<div>\n",
       "<style scoped>\n",
       "    .dataframe tbody tr th:only-of-type {\n",
       "        vertical-align: middle;\n",
       "    }\n",
       "\n",
       "    .dataframe tbody tr th {\n",
       "        vertical-align: top;\n",
       "    }\n",
       "\n",
       "    .dataframe thead th {\n",
       "        text-align: right;\n",
       "    }\n",
       "</style>\n",
       "<table border=\"1\" class=\"dataframe\">\n",
       "  <thead>\n",
       "    <tr style=\"text-align: right;\">\n",
       "      <th></th>\n",
       "      <th>User</th>\n",
       "      <th>Card</th>\n",
       "      <th>Year</th>\n",
       "      <th>Month</th>\n",
       "      <th>Day</th>\n",
       "      <th>Use Chip</th>\n",
       "      <th>Merchant Name</th>\n",
       "      <th>Merchant City</th>\n",
       "      <th>Merchant State</th>\n",
       "      <th>Zip</th>\n",
       "      <th>MCC</th>\n",
       "      <th>Is Fraud?</th>\n",
       "      <th>Time_Num</th>\n",
       "      <th>AmountX</th>\n",
       "    </tr>\n",
       "  </thead>\n",
       "  <tbody>\n",
       "    <tr>\n",
       "      <th>0</th>\n",
       "      <td>0</td>\n",
       "      <td>0</td>\n",
       "      <td>2002</td>\n",
       "      <td>9</td>\n",
       "      <td>1</td>\n",
       "      <td>1</td>\n",
       "      <td>15108</td>\n",
       "      <td>3654</td>\n",
       "      <td>4</td>\n",
       "      <td>91750.0</td>\n",
       "      <td>5300.0</td>\n",
       "      <td>0</td>\n",
       "      <td>621</td>\n",
       "      <td>134.09</td>\n",
       "    </tr>\n",
       "    <tr>\n",
       "      <th>1</th>\n",
       "      <td>0</td>\n",
       "      <td>0</td>\n",
       "      <td>2002</td>\n",
       "      <td>9</td>\n",
       "      <td>1</td>\n",
       "      <td>1</td>\n",
       "      <td>10137</td>\n",
       "      <td>4552</td>\n",
       "      <td>4</td>\n",
       "      <td>91754.0</td>\n",
       "      <td>5411.0</td>\n",
       "      <td>0</td>\n",
       "      <td>642</td>\n",
       "      <td>38.48</td>\n",
       "    </tr>\n",
       "    <tr>\n",
       "      <th>2</th>\n",
       "      <td>0</td>\n",
       "      <td>0</td>\n",
       "      <td>2002</td>\n",
       "      <td>9</td>\n",
       "      <td>2</td>\n",
       "      <td>1</td>\n",
       "      <td>10137</td>\n",
       "      <td>4552</td>\n",
       "      <td>4</td>\n",
       "      <td>91754.0</td>\n",
       "      <td>5411.0</td>\n",
       "      <td>0</td>\n",
       "      <td>622</td>\n",
       "      <td>120.34</td>\n",
       "    </tr>\n",
       "    <tr>\n",
       "      <th>3</th>\n",
       "      <td>0</td>\n",
       "      <td>0</td>\n",
       "      <td>2002</td>\n",
       "      <td>9</td>\n",
       "      <td>2</td>\n",
       "      <td>1</td>\n",
       "      <td>14970</td>\n",
       "      <td>4552</td>\n",
       "      <td>4</td>\n",
       "      <td>91754.0</td>\n",
       "      <td>5651.0</td>\n",
       "      <td>0</td>\n",
       "      <td>1745</td>\n",
       "      <td>128.95</td>\n",
       "    </tr>\n",
       "    <tr>\n",
       "      <th>4</th>\n",
       "      <td>0</td>\n",
       "      <td>0</td>\n",
       "      <td>2002</td>\n",
       "      <td>9</td>\n",
       "      <td>3</td>\n",
       "      <td>1</td>\n",
       "      <td>17876</td>\n",
       "      <td>3654</td>\n",
       "      <td>4</td>\n",
       "      <td>91750.0</td>\n",
       "      <td>5912.0</td>\n",
       "      <td>0</td>\n",
       "      <td>623</td>\n",
       "      <td>104.71</td>\n",
       "    </tr>\n",
       "  </tbody>\n",
       "</table>\n",
       "</div>"
      ],
      "text/plain": [
       "   User  Card  Year  Month  Day  Use Chip  Merchant Name  Merchant City  \\\n",
       "0     0     0  2002      9    1         1          15108           3654   \n",
       "1     0     0  2002      9    1         1          10137           4552   \n",
       "2     0     0  2002      9    2         1          10137           4552   \n",
       "3     0     0  2002      9    2         1          14970           4552   \n",
       "4     0     0  2002      9    3         1          17876           3654   \n",
       "\n",
       "   Merchant State      Zip     MCC  Is Fraud?  Time_Num  AmountX  \n",
       "0               4  91750.0  5300.0          0       621   134.09  \n",
       "1               4  91754.0  5411.0          0       642    38.48  \n",
       "2               4  91754.0  5411.0          0       622   120.34  \n",
       "3               4  91754.0  5651.0          0      1745   128.95  \n",
       "4               4  91750.0  5912.0          0       623   104.71  "
      ]
     },
     "execution_count": 55,
     "metadata": {},
     "output_type": "execute_result"
    }
   ],
   "source": [
    "df.head()"
   ]
  },
  {
   "cell_type": "code",
   "execution_count": 56,
   "metadata": {},
   "outputs": [],
   "source": [
    "df = normalized_dataframe"
   ]
  },
  {
   "cell_type": "code",
   "execution_count": 57,
   "metadata": {},
   "outputs": [],
   "source": [
    "device = torch.device(\"cuda\" if torch.cuda.is_available() else \"cpu\")\n"
   ]
  },
  {
   "cell_type": "code",
   "execution_count": 58,
   "metadata": {},
   "outputs": [
    {
     "data": {
      "text/plain": [
       "device(type='cuda')"
      ]
     },
     "execution_count": 58,
     "metadata": {},
     "output_type": "execute_result"
    }
   ],
   "source": [
    "device"
   ]
  },
  {
   "cell_type": "markdown",
   "metadata": {},
   "source": [
    "## Varitational Autoencoder"
   ]
  },
  {
   "cell_type": "markdown",
   "metadata": {},
   "source": [
    "### Model Definition"
   ]
  },
  {
   "cell_type": "code",
   "execution_count": 59,
   "metadata": {},
   "outputs": [],
   "source": [
    "class VAE(nn.Module):\n",
    "    def __init__(self, input_dim, latent_dim):\n",
    "        super(VAE, self).__init__()\n",
    "\n",
    "        self.encoder = nn.Sequential(\n",
    "            nn.Linear(input_dim, 1024),\n",
    "            nn.BatchNorm1d(1024),\n",
    "            nn.LeakyReLU(0.2),\n",
    "            nn.Linear(1024, 512),\n",
    "            nn.BatchNorm1d(512),\n",
    "            nn.LeakyReLU(0.2),\n",
    "            nn.Linear(512, 256),\n",
    "            nn.BatchNorm1d(256),\n",
    "            nn.LeakyReLU(0.2),\n",
    "        )\n",
    "\n",
    "        self.fc_mu = nn.Linear(256, latent_dim)\n",
    "        self.fc_var = nn.Linear(256, latent_dim)\n",
    "\n",
    "        self.decoder = nn.Sequential(\n",
    "            nn.Linear(latent_dim, 256),\n",
    "            nn.LeakyReLU(0.2),\n",
    "            nn.Linear(256, 512),\n",
    "            nn.LeakyReLU(0.2),\n",
    "            nn.Linear(512, 1024),\n",
    "            nn.LeakyReLU(0.2),\n",
    "            nn.Linear(1024, input_dim),\n",
    "\n",
    "        )\n",
    "\n",
    "    def reparameterize(self, mu, log_var):\n",
    "        std = torch.exp(0.5 * log_var)\n",
    "        eps = torch.randn_like(std)\n",
    "        return mu + eps * std\n",
    "\n",
    "    def forward(self, x):\n",
    "        encoded = self.encoder(x)\n",
    "        mu = self.fc_mu(encoded)\n",
    "        log_var = self.fc_var(encoded)\n",
    "        z = self.reparameterize(mu, log_var)\n",
    "        decoded = self.decoder(z)\n",
    "        return decoded, mu, log_var\n",
    "\n",
    "\n",
    "\n",
    "class CustomDataset(Dataset):\n",
    "    def __init__(self, data):\n",
    "        self.data = data.values.astype(float)\n",
    "        self.scaler = StandardScaler()\n",
    "        self.data = self.scaler.fit_transform(self.data)\n",
    "\n",
    "    def __len__(self):\n",
    "        return len(self.data)\n",
    "\n",
    "    def __getitem__(self, idx):\n",
    "        return torch.tensor(self.data[idx], dtype=torch.float32)\n"
   ]
  },
  {
   "cell_type": "code",
   "execution_count": 60,
   "metadata": {},
   "outputs": [],
   "source": [
    "input_dim = len(df.columns)\n",
    "hidden_dim = 1024\n",
    "latent_dim = 128\n",
    "lr = 1e-3\n",
    "batch_size = 512\n",
    "num_epochs = 25\n",
    "\n",
    "\n",
    "vae = VAE(input_dim, latent_dim)\n",
    "\n"
   ]
  },
  {
   "cell_type": "code",
   "execution_count": 61,
   "metadata": {},
   "outputs": [],
   "source": [
    "optimizer = optim.Adam(vae.parameters(), lr=lr)\n",
    "\n",
    "custom_dataset = CustomDataset(df)\n",
    "dataloader = DataLoader(custom_dataset, batch_size=batch_size, shuffle=True)\n",
    "\n",
    "\n"
   ]
  },
  {
   "cell_type": "code",
   "execution_count": 62,
   "metadata": {},
   "outputs": [],
   "source": [
    "def loss_function(recon_x, x, mu, logvar):\n",
    "\n",
    "    mse_loss = nn.MSELoss(reduction='sum')\n",
    "    MSE = mse_loss(recon_x, x)\n",
    "    KLD = -0.5 * torch.sum(1 + logvar - mu.pow(2) - logvar.exp())\n",
    "    KLD.to(device)\n",
    "\n",
    "    return MSE + KLD"
   ]
  },
  {
   "cell_type": "code",
   "execution_count": 63,
   "metadata": {},
   "outputs": [],
   "source": [
    "vals = next(iter(dataloader))"
   ]
  },
  {
   "cell_type": "code",
   "execution_count": 64,
   "metadata": {},
   "outputs": [
    {
     "data": {
      "text/plain": [
       "torch.Size([512, 14])"
      ]
     },
     "execution_count": 64,
     "metadata": {},
     "output_type": "execute_result"
    }
   ],
   "source": [
    "vals.shape"
   ]
  },
  {
   "cell_type": "code",
   "execution_count": 65,
   "metadata": {},
   "outputs": [],
   "source": [
    "vae = vae.to(device)"
   ]
  },
  {
   "cell_type": "markdown",
   "metadata": {},
   "source": [
    "### Training "
   ]
  },
  {
   "cell_type": "code",
   "execution_count": 66,
   "metadata": {},
   "outputs": [
    {
     "name": "stderr",
     "output_type": "stream",
     "text": [
      "0it [00:00, ?it/s]"
     ]
    },
    {
     "name": "stderr",
     "output_type": "stream",
     "text": [
      "4331it [00:44, 97.41it/s] \n"
     ]
    },
    {
     "name": "stdout",
     "output_type": "stream",
     "text": [
      "Epoch 1, Loss: 13.95\n"
     ]
    },
    {
     "name": "stderr",
     "output_type": "stream",
     "text": [
      "4331it [00:43, 100.25it/s]\n"
     ]
    },
    {
     "name": "stdout",
     "output_type": "stream",
     "text": [
      "Epoch 2, Loss: 10.89\n"
     ]
    },
    {
     "name": "stderr",
     "output_type": "stream",
     "text": [
      "4331it [00:40, 106.25it/s]\n"
     ]
    },
    {
     "name": "stdout",
     "output_type": "stream",
     "text": [
      "Epoch 3, Loss: 10.29\n"
     ]
    },
    {
     "name": "stderr",
     "output_type": "stream",
     "text": [
      "4331it [00:48, 88.96it/s] \n"
     ]
    },
    {
     "name": "stdout",
     "output_type": "stream",
     "text": [
      "Epoch 4, Loss: 10.30\n"
     ]
    },
    {
     "name": "stderr",
     "output_type": "stream",
     "text": [
      "4331it [00:47, 91.90it/s] \n"
     ]
    },
    {
     "name": "stdout",
     "output_type": "stream",
     "text": [
      "Epoch 5, Loss: 10.05\n"
     ]
    },
    {
     "name": "stderr",
     "output_type": "stream",
     "text": [
      "4331it [00:42, 101.44it/s]\n"
     ]
    },
    {
     "name": "stdout",
     "output_type": "stream",
     "text": [
      "Epoch 6, Loss: 10.21\n"
     ]
    },
    {
     "name": "stderr",
     "output_type": "stream",
     "text": [
      "4331it [00:41, 105.57it/s]\n"
     ]
    },
    {
     "name": "stdout",
     "output_type": "stream",
     "text": [
      "Epoch 7, Loss: 9.91\n"
     ]
    },
    {
     "name": "stderr",
     "output_type": "stream",
     "text": [
      "4331it [00:42, 102.81it/s]\n"
     ]
    },
    {
     "name": "stdout",
     "output_type": "stream",
     "text": [
      "Epoch 8, Loss: 9.96\n"
     ]
    },
    {
     "name": "stderr",
     "output_type": "stream",
     "text": [
      "4331it [00:43, 98.86it/s] \n"
     ]
    },
    {
     "name": "stdout",
     "output_type": "stream",
     "text": [
      "Epoch 9, Loss: 9.85\n"
     ]
    },
    {
     "name": "stderr",
     "output_type": "stream",
     "text": [
      "4331it [00:45, 94.51it/s] \n"
     ]
    },
    {
     "name": "stdout",
     "output_type": "stream",
     "text": [
      "Epoch 10, Loss: 9.82\n"
     ]
    },
    {
     "name": "stderr",
     "output_type": "stream",
     "text": [
      "4331it [00:49, 88.00it/s] \n"
     ]
    },
    {
     "name": "stdout",
     "output_type": "stream",
     "text": [
      "Epoch 11, Loss: 9.79\n"
     ]
    },
    {
     "name": "stderr",
     "output_type": "stream",
     "text": [
      "4331it [00:45, 96.10it/s] \n"
     ]
    },
    {
     "name": "stdout",
     "output_type": "stream",
     "text": [
      "Epoch 12, Loss: 9.78\n"
     ]
    },
    {
     "name": "stderr",
     "output_type": "stream",
     "text": [
      "4331it [00:45, 94.42it/s] \n"
     ]
    },
    {
     "name": "stdout",
     "output_type": "stream",
     "text": [
      "Epoch 13, Loss: 9.76\n"
     ]
    },
    {
     "name": "stderr",
     "output_type": "stream",
     "text": [
      "4331it [00:44, 96.41it/s] \n"
     ]
    },
    {
     "name": "stdout",
     "output_type": "stream",
     "text": [
      "Epoch 14, Loss: 9.75\n"
     ]
    },
    {
     "name": "stderr",
     "output_type": "stream",
     "text": [
      "4331it [00:50, 85.65it/s] \n"
     ]
    },
    {
     "name": "stdout",
     "output_type": "stream",
     "text": [
      "Epoch 15, Loss: 9.74\n"
     ]
    },
    {
     "name": "stderr",
     "output_type": "stream",
     "text": [
      "4331it [00:43, 100.02it/s]\n"
     ]
    },
    {
     "name": "stdout",
     "output_type": "stream",
     "text": [
      "Epoch 16, Loss: 9.73\n"
     ]
    },
    {
     "name": "stderr",
     "output_type": "stream",
     "text": [
      "4331it [00:42, 102.85it/s]\n"
     ]
    },
    {
     "name": "stdout",
     "output_type": "stream",
     "text": [
      "Epoch 17, Loss: 9.73\n"
     ]
    },
    {
     "name": "stderr",
     "output_type": "stream",
     "text": [
      "4331it [00:46, 92.31it/s] \n"
     ]
    },
    {
     "name": "stdout",
     "output_type": "stream",
     "text": [
      "Epoch 18, Loss: 9.72\n"
     ]
    },
    {
     "name": "stderr",
     "output_type": "stream",
     "text": [
      "4331it [00:42, 102.55it/s]\n"
     ]
    },
    {
     "name": "stdout",
     "output_type": "stream",
     "text": [
      "Epoch 19, Loss: 9.72\n"
     ]
    },
    {
     "name": "stderr",
     "output_type": "stream",
     "text": [
      "4331it [00:42, 102.56it/s]\n"
     ]
    },
    {
     "name": "stdout",
     "output_type": "stream",
     "text": [
      "Epoch 20, Loss: 9.71\n"
     ]
    },
    {
     "name": "stderr",
     "output_type": "stream",
     "text": [
      "4331it [00:46, 92.98it/s] \n"
     ]
    },
    {
     "name": "stdout",
     "output_type": "stream",
     "text": [
      "Epoch 21, Loss: 9.71\n"
     ]
    },
    {
     "name": "stderr",
     "output_type": "stream",
     "text": [
      "4331it [00:42, 102.37it/s]\n"
     ]
    },
    {
     "name": "stdout",
     "output_type": "stream",
     "text": [
      "Epoch 22, Loss: 9.71\n"
     ]
    },
    {
     "name": "stderr",
     "output_type": "stream",
     "text": [
      "4331it [00:42, 101.42it/s]\n"
     ]
    },
    {
     "name": "stdout",
     "output_type": "stream",
     "text": [
      "Epoch 23, Loss: 9.70\n"
     ]
    },
    {
     "name": "stderr",
     "output_type": "stream",
     "text": [
      "4331it [00:41, 103.79it/s]\n"
     ]
    },
    {
     "name": "stdout",
     "output_type": "stream",
     "text": [
      "Epoch 24, Loss: 9.70\n"
     ]
    },
    {
     "name": "stderr",
     "output_type": "stream",
     "text": [
      "4331it [00:48, 89.31it/s] "
     ]
    },
    {
     "name": "stdout",
     "output_type": "stream",
     "text": [
      "Epoch 25, Loss: 9.70\n"
     ]
    },
    {
     "name": "stderr",
     "output_type": "stream",
     "text": [
      "\n"
     ]
    }
   ],
   "source": [
    "vae.train()\n",
    "for epoch in range(num_epochs):\n",
    "    total_loss = 0\n",
    "    for batch_idx, data in tqdm(enumerate(dataloader)):\n",
    "        optimizer.zero_grad()\n",
    "\n",
    "        recon_batch, mu, logvar = vae(data.to(device))\n",
    "        \n",
    "        loss = loss_function(recon_batch.to(device), data.to(device), mu.to(device), logvar.to(device))\n",
    "        loss.backward()\n",
    "        \n",
    "        total_loss += loss.detach().cpu().item()/batch_size\n",
    "        optimizer.step()\n",
    "    # if epoch%50==0:\n",
    "    print('Epoch {}, Loss: {:.2f}'.format(epoch+1, total_loss / len(dataloader)))\n",
    "        \n"
   ]
  },
  {
   "cell_type": "markdown",
   "metadata": {},
   "source": [
    "### Saving the Model"
   ]
  },
  {
   "cell_type": "code",
   "execution_count": 67,
   "metadata": {},
   "outputs": [
    {
     "data": {
      "text/plain": [
       "'9.70'"
      ]
     },
     "execution_count": 67,
     "metadata": {},
     "output_type": "execute_result"
    }
   ],
   "source": [
    "f\"{total_loss / len(dataloader):.2f}\""
   ]
  },
  {
   "cell_type": "code",
   "execution_count": 68,
   "metadata": {},
   "outputs": [],
   "source": [
    "current_time = datetime.datetime.now()"
   ]
  },
  {
   "cell_type": "code",
   "execution_count": 73,
   "metadata": {},
   "outputs": [],
   "source": [
    "root = '/home/ai23mtech14004/CS6890_FraudAnalytics/Assignment_5_SyntheticDataGeneration'"
   ]
  },
  {
   "cell_type": "code",
   "execution_count": 74,
   "metadata": {},
   "outputs": [],
   "source": [
    "savePath = f'{root}/{str(current_time).split(\".\")[0]}-{total_loss / len(dataloader):.2f}-2X.pth'"
   ]
  },
  {
   "cell_type": "code",
   "execution_count": 75,
   "metadata": {},
   "outputs": [
    {
     "data": {
      "text/plain": [
       "'/home/ai23mtech14004/CS6890_FraudAnalytics/Assignment_5_SyntheticDataGeneration/2024-05-02 19:57:00-9.70-2X.pth'"
      ]
     },
     "execution_count": 75,
     "metadata": {},
     "output_type": "execute_result"
    }
   ],
   "source": [
    "savePath"
   ]
  },
  {
   "cell_type": "code",
   "execution_count": 76,
   "metadata": {},
   "outputs": [],
   "source": [
    "torch.save(vae.state_dict(), savePath)"
   ]
  },
  {
   "cell_type": "markdown",
   "metadata": {},
   "source": [
    "### Loading the Model"
   ]
  },
  {
   "cell_type": "code",
   "execution_count": 78,
   "metadata": {},
   "outputs": [
    {
     "data": {
      "text/plain": [
       "<All keys matched successfully>"
      ]
     },
     "execution_count": 78,
     "metadata": {},
     "output_type": "execute_result"
    }
   ],
   "source": [
    "vae.load_state_dict(torch.load('/home/ai23mtech14004/CS6890_FraudAnalytics/Assignment_5_SyntheticDataGeneration/2024-05-02 19:57:00-9.70-2X.pth'))\n"
   ]
  },
  {
   "cell_type": "code",
   "execution_count": 79,
   "metadata": {},
   "outputs": [
    {
     "data": {
      "text/plain": [
       "2216985"
      ]
     },
     "execution_count": 79,
     "metadata": {},
     "output_type": "execute_result"
    }
   ],
   "source": [
    "len(df)"
   ]
  },
  {
   "cell_type": "code",
   "execution_count": 80,
   "metadata": {},
   "outputs": [],
   "source": [
    "device = 'cpu' #Sending the model to cpu to generate >2 Million samples as the GPU VRAM gets full."
   ]
  },
  {
   "cell_type": "code",
   "execution_count": 81,
   "metadata": {},
   "outputs": [
    {
     "data": {
      "text/plain": [
       "VAE(\n",
       "  (encoder): Sequential(\n",
       "    (0): Linear(in_features=14, out_features=1024, bias=True)\n",
       "    (1): BatchNorm1d(1024, eps=1e-05, momentum=0.1, affine=True, track_running_stats=True)\n",
       "    (2): LeakyReLU(negative_slope=0.2)\n",
       "    (3): Linear(in_features=1024, out_features=512, bias=True)\n",
       "    (4): BatchNorm1d(512, eps=1e-05, momentum=0.1, affine=True, track_running_stats=True)\n",
       "    (5): LeakyReLU(negative_slope=0.2)\n",
       "    (6): Linear(in_features=512, out_features=256, bias=True)\n",
       "    (7): BatchNorm1d(256, eps=1e-05, momentum=0.1, affine=True, track_running_stats=True)\n",
       "    (8): LeakyReLU(negative_slope=0.2)\n",
       "  )\n",
       "  (fc_mu): Linear(in_features=256, out_features=128, bias=True)\n",
       "  (fc_var): Linear(in_features=256, out_features=128, bias=True)\n",
       "  (decoder): Sequential(\n",
       "    (0): Linear(in_features=128, out_features=256, bias=True)\n",
       "    (1): LeakyReLU(negative_slope=0.2)\n",
       "    (2): Linear(in_features=256, out_features=512, bias=True)\n",
       "    (3): LeakyReLU(negative_slope=0.2)\n",
       "    (4): Linear(in_features=512, out_features=1024, bias=True)\n",
       "    (5): LeakyReLU(negative_slope=0.2)\n",
       "    (6): Linear(in_features=1024, out_features=14, bias=True)\n",
       "  )\n",
       ")"
      ]
     },
     "execution_count": 81,
     "metadata": {},
     "output_type": "execute_result"
    }
   ],
   "source": [
    "vae.to(device)"
   ]
  },
  {
   "cell_type": "markdown",
   "metadata": {},
   "source": [
    "## Generating Synthetic Data"
   ]
  },
  {
   "cell_type": "code",
   "execution_count": 82,
   "metadata": {},
   "outputs": [],
   "source": [
    "num_samples = len(df)\n",
    "z_samples = torch.randn(num_samples, 128)\n",
    "\n",
    "with torch.no_grad():\n",
    "    generated_data = vae.decoder(z_samples.to(device)).cpu().numpy()\n",
    "generated_df = pd.DataFrame(generated_data, columns=df.columns)\n"
   ]
  },
  {
   "cell_type": "code",
   "execution_count": 83,
   "metadata": {},
   "outputs": [
    {
     "data": {
      "text/html": [
       "<div>\n",
       "<style scoped>\n",
       "    .dataframe tbody tr th:only-of-type {\n",
       "        vertical-align: middle;\n",
       "    }\n",
       "\n",
       "    .dataframe tbody tr th {\n",
       "        vertical-align: top;\n",
       "    }\n",
       "\n",
       "    .dataframe thead th {\n",
       "        text-align: right;\n",
       "    }\n",
       "</style>\n",
       "<table border=\"1\" class=\"dataframe\">\n",
       "  <thead>\n",
       "    <tr style=\"text-align: right;\">\n",
       "      <th></th>\n",
       "      <th>User</th>\n",
       "      <th>Card</th>\n",
       "      <th>Year</th>\n",
       "      <th>Month</th>\n",
       "      <th>Day</th>\n",
       "      <th>Use Chip</th>\n",
       "      <th>Merchant Name</th>\n",
       "      <th>Merchant City</th>\n",
       "      <th>Merchant State</th>\n",
       "      <th>Zip</th>\n",
       "      <th>MCC</th>\n",
       "      <th>Is Fraud?</th>\n",
       "      <th>Time_Num</th>\n",
       "      <th>AmountX</th>\n",
       "    </tr>\n",
       "  </thead>\n",
       "  <tbody>\n",
       "    <tr>\n",
       "      <th>0</th>\n",
       "      <td>0.281006</td>\n",
       "      <td>0.112855</td>\n",
       "      <td>0.449398</td>\n",
       "      <td>0.442254</td>\n",
       "      <td>-1.056524</td>\n",
       "      <td>0.303730</td>\n",
       "      <td>-0.899201</td>\n",
       "      <td>0.948262</td>\n",
       "      <td>-0.683853</td>\n",
       "      <td>0.777892</td>\n",
       "      <td>-0.345565</td>\n",
       "      <td>0.017208</td>\n",
       "      <td>0.079178</td>\n",
       "      <td>0.175440</td>\n",
       "    </tr>\n",
       "    <tr>\n",
       "      <th>1</th>\n",
       "      <td>-0.969588</td>\n",
       "      <td>1.657131</td>\n",
       "      <td>-0.908314</td>\n",
       "      <td>-0.269679</td>\n",
       "      <td>0.466485</td>\n",
       "      <td>0.615268</td>\n",
       "      <td>-0.846056</td>\n",
       "      <td>0.354773</td>\n",
       "      <td>-0.828601</td>\n",
       "      <td>-0.368986</td>\n",
       "      <td>-0.226749</td>\n",
       "      <td>-0.020696</td>\n",
       "      <td>0.347564</td>\n",
       "      <td>-0.114135</td>\n",
       "    </tr>\n",
       "    <tr>\n",
       "      <th>2</th>\n",
       "      <td>-0.342690</td>\n",
       "      <td>-0.453999</td>\n",
       "      <td>0.016570</td>\n",
       "      <td>0.612651</td>\n",
       "      <td>-0.190398</td>\n",
       "      <td>0.598286</td>\n",
       "      <td>0.022785</td>\n",
       "      <td>0.016062</td>\n",
       "      <td>0.716940</td>\n",
       "      <td>-0.575541</td>\n",
       "      <td>-0.010197</td>\n",
       "      <td>-0.015852</td>\n",
       "      <td>-0.442483</td>\n",
       "      <td>-0.260100</td>\n",
       "    </tr>\n",
       "    <tr>\n",
       "      <th>3</th>\n",
       "      <td>0.140016</td>\n",
       "      <td>0.317855</td>\n",
       "      <td>-0.877203</td>\n",
       "      <td>0.231578</td>\n",
       "      <td>-0.512958</td>\n",
       "      <td>0.586545</td>\n",
       "      <td>-1.078290</td>\n",
       "      <td>0.146159</td>\n",
       "      <td>-0.789896</td>\n",
       "      <td>0.086990</td>\n",
       "      <td>-0.156090</td>\n",
       "      <td>0.005905</td>\n",
       "      <td>0.330588</td>\n",
       "      <td>-0.126605</td>\n",
       "    </tr>\n",
       "    <tr>\n",
       "      <th>4</th>\n",
       "      <td>0.935204</td>\n",
       "      <td>-0.583300</td>\n",
       "      <td>0.102907</td>\n",
       "      <td>0.828548</td>\n",
       "      <td>-1.161082</td>\n",
       "      <td>0.608203</td>\n",
       "      <td>-0.152778</td>\n",
       "      <td>0.278216</td>\n",
       "      <td>0.177716</td>\n",
       "      <td>-0.617618</td>\n",
       "      <td>0.468613</td>\n",
       "      <td>-0.017964</td>\n",
       "      <td>-0.099327</td>\n",
       "      <td>-0.226208</td>\n",
       "    </tr>\n",
       "  </tbody>\n",
       "</table>\n",
       "</div>"
      ],
      "text/plain": [
       "       User      Card      Year     Month       Day  Use Chip  Merchant Name  \\\n",
       "0  0.281006  0.112855  0.449398  0.442254 -1.056524  0.303730      -0.899201   \n",
       "1 -0.969588  1.657131 -0.908314 -0.269679  0.466485  0.615268      -0.846056   \n",
       "2 -0.342690 -0.453999  0.016570  0.612651 -0.190398  0.598286       0.022785   \n",
       "3  0.140016  0.317855 -0.877203  0.231578 -0.512958  0.586545      -1.078290   \n",
       "4  0.935204 -0.583300  0.102907  0.828548 -1.161082  0.608203      -0.152778   \n",
       "\n",
       "   Merchant City  Merchant State       Zip       MCC  Is Fraud?  Time_Num  \\\n",
       "0       0.948262       -0.683853  0.777892 -0.345565   0.017208  0.079178   \n",
       "1       0.354773       -0.828601 -0.368986 -0.226749  -0.020696  0.347564   \n",
       "2       0.016062        0.716940 -0.575541 -0.010197  -0.015852 -0.442483   \n",
       "3       0.146159       -0.789896  0.086990 -0.156090   0.005905  0.330588   \n",
       "4       0.278216        0.177716 -0.617618  0.468613  -0.017964 -0.099327   \n",
       "\n",
       "    AmountX  \n",
       "0  0.175440  \n",
       "1 -0.114135  \n",
       "2 -0.260100  \n",
       "3 -0.126605  \n",
       "4 -0.226208  "
      ]
     },
     "execution_count": 83,
     "metadata": {},
     "output_type": "execute_result"
    }
   ],
   "source": [
    "generated_df.head()"
   ]
  },
  {
   "cell_type": "code",
   "execution_count": 84,
   "metadata": {},
   "outputs": [
    {
     "data": {
      "text/html": [
       "<div>\n",
       "<style scoped>\n",
       "    .dataframe tbody tr th:only-of-type {\n",
       "        vertical-align: middle;\n",
       "    }\n",
       "\n",
       "    .dataframe tbody tr th {\n",
       "        vertical-align: top;\n",
       "    }\n",
       "\n",
       "    .dataframe thead th {\n",
       "        text-align: right;\n",
       "    }\n",
       "</style>\n",
       "<table border=\"1\" class=\"dataframe\">\n",
       "  <thead>\n",
       "    <tr style=\"text-align: right;\">\n",
       "      <th></th>\n",
       "      <th>User</th>\n",
       "      <th>Card</th>\n",
       "      <th>Year</th>\n",
       "      <th>Month</th>\n",
       "      <th>Day</th>\n",
       "      <th>Use Chip</th>\n",
       "      <th>Merchant Name</th>\n",
       "      <th>Merchant City</th>\n",
       "      <th>Merchant State</th>\n",
       "      <th>Zip</th>\n",
       "      <th>MCC</th>\n",
       "      <th>Is Fraud?</th>\n",
       "      <th>Time_Num</th>\n",
       "      <th>AmountX</th>\n",
       "    </tr>\n",
       "  </thead>\n",
       "  <tbody>\n",
       "    <tr>\n",
       "      <th>0</th>\n",
       "      <td>-1.667172</td>\n",
       "      <td>-0.932706</td>\n",
       "      <td>-1.867914</td>\n",
       "      <td>0.712584</td>\n",
       "      <td>-1.674383</td>\n",
       "      <td>0.630024</td>\n",
       "      <td>0.822126</td>\n",
       "      <td>-0.097789</td>\n",
       "      <td>-1.191026</td>\n",
       "      <td>1.356391</td>\n",
       "      <td>-0.399476</td>\n",
       "      <td>-0.015361</td>\n",
       "      <td>-1.295325</td>\n",
       "      <td>1.111510</td>\n",
       "    </tr>\n",
       "    <tr>\n",
       "      <th>1</th>\n",
       "      <td>-1.667172</td>\n",
       "      <td>-0.932706</td>\n",
       "      <td>-1.867914</td>\n",
       "      <td>0.712584</td>\n",
       "      <td>-1.674383</td>\n",
       "      <td>0.630024</td>\n",
       "      <td>-0.054085</td>\n",
       "      <td>0.298392</td>\n",
       "      <td>-1.191026</td>\n",
       "      <td>1.356531</td>\n",
       "      <td>-0.274037</td>\n",
       "      <td>-0.015361</td>\n",
       "      <td>-1.253902</td>\n",
       "      <td>-0.053743</td>\n",
       "    </tr>\n",
       "    <tr>\n",
       "      <th>2</th>\n",
       "      <td>-1.667172</td>\n",
       "      <td>-0.932706</td>\n",
       "      <td>-1.867914</td>\n",
       "      <td>0.712584</td>\n",
       "      <td>-1.560579</td>\n",
       "      <td>0.630024</td>\n",
       "      <td>-0.054085</td>\n",
       "      <td>0.298392</td>\n",
       "      <td>-1.191026</td>\n",
       "      <td>1.356531</td>\n",
       "      <td>-0.274037</td>\n",
       "      <td>-0.015361</td>\n",
       "      <td>-1.293352</td>\n",
       "      <td>0.943931</td>\n",
       "    </tr>\n",
       "    <tr>\n",
       "      <th>3</th>\n",
       "      <td>-1.667172</td>\n",
       "      <td>-0.932706</td>\n",
       "      <td>-1.867914</td>\n",
       "      <td>0.712584</td>\n",
       "      <td>-1.560579</td>\n",
       "      <td>0.630024</td>\n",
       "      <td>0.797802</td>\n",
       "      <td>0.298392</td>\n",
       "      <td>-1.191026</td>\n",
       "      <td>1.356531</td>\n",
       "      <td>-0.002817</td>\n",
       "      <td>-0.015361</td>\n",
       "      <td>0.921802</td>\n",
       "      <td>1.048865</td>\n",
       "    </tr>\n",
       "    <tr>\n",
       "      <th>4</th>\n",
       "      <td>-1.667172</td>\n",
       "      <td>-0.932706</td>\n",
       "      <td>-1.867914</td>\n",
       "      <td>0.712584</td>\n",
       "      <td>-1.446775</td>\n",
       "      <td>0.630024</td>\n",
       "      <td>1.310027</td>\n",
       "      <td>-0.097789</td>\n",
       "      <td>-1.191026</td>\n",
       "      <td>1.356391</td>\n",
       "      <td>0.292135</td>\n",
       "      <td>-0.015361</td>\n",
       "      <td>-1.291380</td>\n",
       "      <td>0.753439</td>\n",
       "    </tr>\n",
       "  </tbody>\n",
       "</table>\n",
       "</div>"
      ],
      "text/plain": [
       "       User      Card      Year     Month       Day  Use Chip  Merchant Name  \\\n",
       "0 -1.667172 -0.932706 -1.867914  0.712584 -1.674383  0.630024       0.822126   \n",
       "1 -1.667172 -0.932706 -1.867914  0.712584 -1.674383  0.630024      -0.054085   \n",
       "2 -1.667172 -0.932706 -1.867914  0.712584 -1.560579  0.630024      -0.054085   \n",
       "3 -1.667172 -0.932706 -1.867914  0.712584 -1.560579  0.630024       0.797802   \n",
       "4 -1.667172 -0.932706 -1.867914  0.712584 -1.446775  0.630024       1.310027   \n",
       "\n",
       "   Merchant City  Merchant State       Zip       MCC  Is Fraud?  Time_Num  \\\n",
       "0      -0.097789       -1.191026  1.356391 -0.399476  -0.015361 -1.295325   \n",
       "1       0.298392       -1.191026  1.356531 -0.274037  -0.015361 -1.253902   \n",
       "2       0.298392       -1.191026  1.356531 -0.274037  -0.015361 -1.293352   \n",
       "3       0.298392       -1.191026  1.356531 -0.002817  -0.015361  0.921802   \n",
       "4      -0.097789       -1.191026  1.356391  0.292135  -0.015361 -1.291380   \n",
       "\n",
       "    AmountX  \n",
       "0  1.111510  \n",
       "1 -0.053743  \n",
       "2  0.943931  \n",
       "3  1.048865  \n",
       "4  0.753439  "
      ]
     },
     "execution_count": 84,
     "metadata": {},
     "output_type": "execute_result"
    }
   ],
   "source": [
    "df.head()"
   ]
  },
  {
   "cell_type": "code",
   "execution_count": 85,
   "metadata": {},
   "outputs": [
    {
     "data": {
      "text/plain": [
       "14"
      ]
     },
     "execution_count": 85,
     "metadata": {},
     "output_type": "execute_result"
    }
   ],
   "source": [
    "len(df.columns)"
   ]
  },
  {
   "cell_type": "code",
   "execution_count": 86,
   "metadata": {},
   "outputs": [],
   "source": [
    "generated_df.to_csv('/home/ai23mtech14004/CS6890_FraudAnalytics/Assignment_5_SyntheticDataGeneration/generated_data_1.csv')"
   ]
  },
  {
   "cell_type": "markdown",
   "metadata": {},
   "source": [
    "## Results"
   ]
  },
  {
   "cell_type": "markdown",
   "metadata": {},
   "source": [
    "### Comparison with Original Data"
   ]
  },
  {
   "cell_type": "code",
   "execution_count": 87,
   "metadata": {},
   "outputs": [
    {
     "data": {
      "image/png": "[encoded data removed]",
      "text/plain": [
       "<Figure size 1200x1600 with 14 Axes>"
      ]
     },
     "metadata": {},
     "output_type": "display_data"
    }
   ],
   "source": [
    "import matplotlib.pyplot as plt\n",
    "import numpy as np\n",
    "\n",
    "num_histograms = len(df.columns)\n",
    "\n",
    "fig, axs = plt.subplots(nrows=7, ncols=2, figsize=(12, 16))\n",
    "axs = axs.flatten()\n",
    "\n",
    "\n",
    "for i in range(num_histograms):\n",
    "    axs[i].hist(df[df.columns[i]].values, bins=20, color='orange', alpha=0.3, label='Original')\n",
    "    \n",
    "    \n",
    "    # axs[i].hist(scale_value(generated_df[df.columns[i]].values), bins=20, color='blue', alpha=0.1, label='Histogram 2')\n",
    "    axs[i].hist(generated_df[df.columns[i]].values, bins=20, color='blue', alpha=0.1, label='Synthetically Generated')\n",
    "    \n",
    "    axs[i].set_title(f'Plot of {df.columns[i]}')\n",
    "    axs[i].set_xlabel('Value')\n",
    "    axs[i].set_ylabel('Count')\n",
    "    axs[i].legend()\n",
    "\n",
    "\n",
    "for i in range(num_histograms, len(axs)):\n",
    "    axs[i].axis('off')\n",
    "\n",
    "\n",
    "plt.tight_layout()\n",
    "\n",
    "\n",
    "plt.show()\n"
   ]
  },
  {
   "cell_type": "code",
   "execution_count": 88,
   "metadata": {},
   "outputs": [],
   "source": [
    "colList = list(df.columns)"
   ]
  },
  {
   "cell_type": "code",
   "execution_count": 89,
   "metadata": {},
   "outputs": [],
   "source": [
    "def mse(y_true, y_pred):\n",
    "    return np.mean(np.square(np.sort(y_true) - np.sort(y_pred)))"
   ]
  },
  {
   "cell_type": "markdown",
   "metadata": {},
   "source": [
    "MSE"
   ]
  },
  {
   "cell_type": "code",
   "execution_count": 90,
   "metadata": {},
   "outputs": [
    {
     "name": "stdout",
     "output_type": "stream",
     "text": [
      "MSE for User: 0.07046667703435938\n",
      "MSE for Card: 0.1198466011325095\n",
      "MSE for Year: 0.06814461911958836\n",
      "MSE for Month: 0.0862397273350159\n",
      "MSE for Day: 0.08584125748242542\n",
      "MSE for Use Chip: 0.05076748468010624\n",
      "MSE for Merchant Name: 0.09471854207512159\n",
      "MSE for Merchant City: 0.09921563512079695\n",
      "MSE for Merchant State: 0.04578501883068713\n",
      "MSE for Zip: 0.08206956030787248\n",
      "MSE for MCC: 0.11514243123235884\n",
      "MSE for Is Fraud?: 0.9446066205352812\n",
      "MSE for Time_Num: 0.09541883313947591\n",
      "MSE for AmountX: 0.3047201768159431\n"
     ]
    }
   ],
   "source": [
    "MSEs = []\n",
    "\n",
    "for i in list(df.columns):\n",
    "\n",
    "    mseVal = mse(df[i].values, generated_df[i].values)\n",
    "\n",
    "    print(f\"MSE for {i}:\", mseVal)\n",
    "    MSEs.append(mseVal)\n",
    "MSEs = np.array(MSEs)"
   ]
  },
  {
   "cell_type": "code",
   "execution_count": 91,
   "metadata": {},
   "outputs": [
    {
     "name": "stdout",
     "output_type": "stream",
     "text": [
      "MSE for full Data: 0.16164165606011016\n"
     ]
    }
   ],
   "source": [
    "print(f'MSE for full Data: {np.mean(MSEs)}')"
   ]
  },
  {
   "cell_type": "code",
   "execution_count": 92,
   "metadata": {},
   "outputs": [
    {
     "name": "stdout",
     "output_type": "stream",
     "text": [
      "[-0.93270616 -0.19355703  0.54559211  1.28474124  2.02389038  2.76303951\n",
      "  3.50218865  4.24133778  4.98048691], Card\n",
      "[-1.8679139  -1.67527281 -1.48263172 -1.28999064 -1.09734955 -0.90470846\n",
      " -0.71206737 -0.51942628 -0.32678519 -0.1341441   0.05849699  0.25113808\n",
      "  0.44377917  0.63642025  0.82906134  1.02170243  1.21434352  1.40698461\n",
      "  1.5996257  -2.44583717 -2.25319608 -2.06055499 -2.63847826 -3.02376044\n",
      " -2.83111935 -3.21640152], Year\n",
      "[ 0.71258382  1.00050188  1.28841993  1.57633798 -1.59076061 -1.30284255\n",
      " -1.0149245  -0.72700645 -0.43908839 -0.15117034  0.13674772  0.42466577], Month\n",
      "[-1.67438307 -1.56057901 -1.44677495 -1.3329709  -1.21916684 -1.10536278\n",
      " -0.99155872 -0.87775467 -0.76395061 -0.65014655 -0.53634249 -0.42253843\n",
      " -0.30873438 -0.19493032 -0.08112626  0.0326778   0.14648185  0.26028591\n",
      "  0.37408997  0.48789403  0.60169808  0.71550214  0.8293062   0.94311026\n",
      "  1.05691432  1.17071837  1.28452243  1.39832649  1.51213055  1.6259346\n",
      "  1.73973866], Day\n",
      "[ 0.63002442 -1.58724007], Use Chip\n",
      "[-1.53610428e-02  6.50997470e+01], Is Fraud?\n"
     ]
    }
   ],
   "source": [
    "for i in list(df.columns):\n",
    "    if len(list(df[i].unique()))<50:\n",
    "        print(f'{df[i].unique()}, {i}')"
   ]
  },
  {
   "cell_type": "markdown",
   "metadata": {},
   "source": [
    "### Quantizing Synthetic Data\n",
    "Quantizing Synthetic Data values whose categories are <50"
   ]
  },
  {
   "cell_type": "code",
   "execution_count": 93,
   "metadata": {},
   "outputs": [],
   "source": [
    "def round_to_nearest(value, value_list):\n",
    "    return value_list[np.abs(value_list - value).argmin()]"
   ]
  },
  {
   "cell_type": "code",
   "execution_count": 94,
   "metadata": {},
   "outputs": [],
   "source": [
    "def returnQuantized(df,dfGen):\n",
    "    colstoQuantize = ['Card',\t'Year'\t,'Month',\t'Day'\t,'Use Chip', 'Is Fraud?']\n",
    "\n",
    "    quantized_dfGen = dfGen\n",
    "    for i in tqdm(colstoQuantize):\n",
    "\n",
    "        x = dfGen[i].values\n",
    "        \n",
    "        value_list = list(df[i].unique())\n",
    "\n",
    "        rounded_values = np.array([round_to_nearest(value=val, value_list=value_list) for val in x])\n",
    "        \n",
    "        quantized_dfGen[i] = rounded_values\n",
    "\n",
    "\n",
    "    return quantized_dfGen"
   ]
  },
  {
   "cell_type": "code",
   "execution_count": 95,
   "metadata": {},
   "outputs": [
    {
     "name": "stderr",
     "output_type": "stream",
     "text": [
      "100%|██████████| 6/6 [01:21<00:00, 13.58s/it]\n"
     ]
    }
   ],
   "source": [
    "qdf = returnQuantized(df,generated_df)"
   ]
  },
  {
   "cell_type": "code",
   "execution_count": 96,
   "metadata": {},
   "outputs": [
    {
     "data": {
      "text/html": [
       "<div>\n",
       "<style scoped>\n",
       "    .dataframe tbody tr th:only-of-type {\n",
       "        vertical-align: middle;\n",
       "    }\n",
       "\n",
       "    .dataframe tbody tr th {\n",
       "        vertical-align: top;\n",
       "    }\n",
       "\n",
       "    .dataframe thead th {\n",
       "        text-align: right;\n",
       "    }\n",
       "</style>\n",
       "<table border=\"1\" class=\"dataframe\">\n",
       "  <thead>\n",
       "    <tr style=\"text-align: right;\">\n",
       "      <th></th>\n",
       "      <th>User</th>\n",
       "      <th>Card</th>\n",
       "      <th>Year</th>\n",
       "      <th>Month</th>\n",
       "      <th>Day</th>\n",
       "      <th>Use Chip</th>\n",
       "      <th>Merchant Name</th>\n",
       "      <th>Merchant City</th>\n",
       "      <th>Merchant State</th>\n",
       "      <th>Zip</th>\n",
       "      <th>MCC</th>\n",
       "      <th>Is Fraud?</th>\n",
       "      <th>Time_Num</th>\n",
       "      <th>AmountX</th>\n",
       "    </tr>\n",
       "  </thead>\n",
       "  <tbody>\n",
       "    <tr>\n",
       "      <th>0</th>\n",
       "      <td>0.281006</td>\n",
       "      <td>-0.193557</td>\n",
       "      <td>0.443779</td>\n",
       "      <td>0.424666</td>\n",
       "      <td>-1.105363</td>\n",
       "      <td>0.630024</td>\n",
       "      <td>-0.899201</td>\n",
       "      <td>0.948262</td>\n",
       "      <td>-0.683853</td>\n",
       "      <td>0.777892</td>\n",
       "      <td>-0.345565</td>\n",
       "      <td>-0.015361</td>\n",
       "      <td>0.079178</td>\n",
       "      <td>0.175440</td>\n",
       "    </tr>\n",
       "    <tr>\n",
       "      <th>1</th>\n",
       "      <td>-0.969588</td>\n",
       "      <td>2.023890</td>\n",
       "      <td>-0.904708</td>\n",
       "      <td>-0.151170</td>\n",
       "      <td>0.487894</td>\n",
       "      <td>0.630024</td>\n",
       "      <td>-0.846056</td>\n",
       "      <td>0.354773</td>\n",
       "      <td>-0.828601</td>\n",
       "      <td>-0.368986</td>\n",
       "      <td>-0.226749</td>\n",
       "      <td>-0.015361</td>\n",
       "      <td>0.347564</td>\n",
       "      <td>-0.114135</td>\n",
       "    </tr>\n",
       "    <tr>\n",
       "      <th>2</th>\n",
       "      <td>-0.342690</td>\n",
       "      <td>-0.193557</td>\n",
       "      <td>0.058497</td>\n",
       "      <td>0.712584</td>\n",
       "      <td>-0.194930</td>\n",
       "      <td>0.630024</td>\n",
       "      <td>0.022785</td>\n",
       "      <td>0.016062</td>\n",
       "      <td>0.716940</td>\n",
       "      <td>-0.575541</td>\n",
       "      <td>-0.010197</td>\n",
       "      <td>-0.015361</td>\n",
       "      <td>-0.442483</td>\n",
       "      <td>-0.260100</td>\n",
       "    </tr>\n",
       "    <tr>\n",
       "      <th>3</th>\n",
       "      <td>0.140016</td>\n",
       "      <td>0.545592</td>\n",
       "      <td>-0.904708</td>\n",
       "      <td>0.136748</td>\n",
       "      <td>-0.536342</td>\n",
       "      <td>0.630024</td>\n",
       "      <td>-1.078290</td>\n",
       "      <td>0.146159</td>\n",
       "      <td>-0.789896</td>\n",
       "      <td>0.086990</td>\n",
       "      <td>-0.156090</td>\n",
       "      <td>-0.015361</td>\n",
       "      <td>0.330588</td>\n",
       "      <td>-0.126605</td>\n",
       "    </tr>\n",
       "    <tr>\n",
       "      <th>4</th>\n",
       "      <td>0.935204</td>\n",
       "      <td>-0.932706</td>\n",
       "      <td>0.058497</td>\n",
       "      <td>0.712584</td>\n",
       "      <td>-1.105363</td>\n",
       "      <td>0.630024</td>\n",
       "      <td>-0.152778</td>\n",
       "      <td>0.278216</td>\n",
       "      <td>0.177716</td>\n",
       "      <td>-0.617618</td>\n",
       "      <td>0.468613</td>\n",
       "      <td>-0.015361</td>\n",
       "      <td>-0.099327</td>\n",
       "      <td>-0.226208</td>\n",
       "    </tr>\n",
       "    <tr>\n",
       "      <th>...</th>\n",
       "      <td>...</td>\n",
       "      <td>...</td>\n",
       "      <td>...</td>\n",
       "      <td>...</td>\n",
       "      <td>...</td>\n",
       "      <td>...</td>\n",
       "      <td>...</td>\n",
       "      <td>...</td>\n",
       "      <td>...</td>\n",
       "      <td>...</td>\n",
       "      <td>...</td>\n",
       "      <td>...</td>\n",
       "      <td>...</td>\n",
       "      <td>...</td>\n",
       "    </tr>\n",
       "    <tr>\n",
       "      <th>2216980</th>\n",
       "      <td>1.419578</td>\n",
       "      <td>0.545592</td>\n",
       "      <td>-0.712067</td>\n",
       "      <td>-1.014924</td>\n",
       "      <td>-0.763951</td>\n",
       "      <td>0.630024</td>\n",
       "      <td>-1.162059</td>\n",
       "      <td>-0.317552</td>\n",
       "      <td>0.377765</td>\n",
       "      <td>-1.071459</td>\n",
       "      <td>-0.355888</td>\n",
       "      <td>-0.015361</td>\n",
       "      <td>-0.852775</td>\n",
       "      <td>0.180238</td>\n",
       "    </tr>\n",
       "    <tr>\n",
       "      <th>2216981</th>\n",
       "      <td>0.014640</td>\n",
       "      <td>-0.932706</td>\n",
       "      <td>0.829061</td>\n",
       "      <td>-0.151170</td>\n",
       "      <td>-0.081126</td>\n",
       "      <td>-1.587240</td>\n",
       "      <td>-0.485145</td>\n",
       "      <td>0.639417</td>\n",
       "      <td>1.295579</td>\n",
       "      <td>1.062342</td>\n",
       "      <td>-0.052302</td>\n",
       "      <td>-0.015361</td>\n",
       "      <td>1.197418</td>\n",
       "      <td>-0.002154</td>\n",
       "    </tr>\n",
       "    <tr>\n",
       "      <th>2216982</th>\n",
       "      <td>0.938202</td>\n",
       "      <td>-0.193557</td>\n",
       "      <td>-0.134144</td>\n",
       "      <td>1.000502</td>\n",
       "      <td>0.487894</td>\n",
       "      <td>0.630024</td>\n",
       "      <td>-0.994646</td>\n",
       "      <td>-0.061548</td>\n",
       "      <td>0.413011</td>\n",
       "      <td>-0.868320</td>\n",
       "      <td>-0.053851</td>\n",
       "      <td>-0.015361</td>\n",
       "      <td>-0.727028</td>\n",
       "      <td>-0.172785</td>\n",
       "    </tr>\n",
       "    <tr>\n",
       "      <th>2216983</th>\n",
       "      <td>-0.719826</td>\n",
       "      <td>-0.193557</td>\n",
       "      <td>-0.134144</td>\n",
       "      <td>1.000502</td>\n",
       "      <td>1.056914</td>\n",
       "      <td>0.630024</td>\n",
       "      <td>0.780797</td>\n",
       "      <td>0.344885</td>\n",
       "      <td>-0.982420</td>\n",
       "      <td>0.652356</td>\n",
       "      <td>-0.040334</td>\n",
       "      <td>-0.015361</td>\n",
       "      <td>0.143342</td>\n",
       "      <td>-0.101714</td>\n",
       "    </tr>\n",
       "    <tr>\n",
       "      <th>2216984</th>\n",
       "      <td>-1.173661</td>\n",
       "      <td>-0.193557</td>\n",
       "      <td>-1.097350</td>\n",
       "      <td>-0.727006</td>\n",
       "      <td>-0.763951</td>\n",
       "      <td>0.630024</td>\n",
       "      <td>0.358699</td>\n",
       "      <td>1.007626</td>\n",
       "      <td>-1.152297</td>\n",
       "      <td>1.232945</td>\n",
       "      <td>-0.151032</td>\n",
       "      <td>-0.015361</td>\n",
       "      <td>-1.071822</td>\n",
       "      <td>-0.135698</td>\n",
       "    </tr>\n",
       "  </tbody>\n",
       "</table>\n",
       "<p>2216985 rows × 14 columns</p>\n",
       "</div>"
      ],
      "text/plain": [
       "             User      Card      Year     Month       Day  Use Chip  \\\n",
       "0        0.281006 -0.193557  0.443779  0.424666 -1.105363  0.630024   \n",
       "1       -0.969588  2.023890 -0.904708 -0.151170  0.487894  0.630024   \n",
       "2       -0.342690 -0.193557  0.058497  0.712584 -0.194930  0.630024   \n",
       "3        0.140016  0.545592 -0.904708  0.136748 -0.536342  0.630024   \n",
       "4        0.935204 -0.932706  0.058497  0.712584 -1.105363  0.630024   \n",
       "...           ...       ...       ...       ...       ...       ...   \n",
       "2216980  1.419578  0.545592 -0.712067 -1.014924 -0.763951  0.630024   \n",
       "2216981  0.014640 -0.932706  0.829061 -0.151170 -0.081126 -1.587240   \n",
       "2216982  0.938202 -0.193557 -0.134144  1.000502  0.487894  0.630024   \n",
       "2216983 -0.719826 -0.193557 -0.134144  1.000502  1.056914  0.630024   \n",
       "2216984 -1.173661 -0.193557 -1.097350 -0.727006 -0.763951  0.630024   \n",
       "\n",
       "         Merchant Name  Merchant City  Merchant State       Zip       MCC  \\\n",
       "0            -0.899201       0.948262       -0.683853  0.777892 -0.345565   \n",
       "1            -0.846056       0.354773       -0.828601 -0.368986 -0.226749   \n",
       "2             0.022785       0.016062        0.716940 -0.575541 -0.010197   \n",
       "3            -1.078290       0.146159       -0.789896  0.086990 -0.156090   \n",
       "4            -0.152778       0.278216        0.177716 -0.617618  0.468613   \n",
       "...                ...            ...             ...       ...       ...   \n",
       "2216980      -1.162059      -0.317552        0.377765 -1.071459 -0.355888   \n",
       "2216981      -0.485145       0.639417        1.295579  1.062342 -0.052302   \n",
       "2216982      -0.994646      -0.061548        0.413011 -0.868320 -0.053851   \n",
       "2216983       0.780797       0.344885       -0.982420  0.652356 -0.040334   \n",
       "2216984       0.358699       1.007626       -1.152297  1.232945 -0.151032   \n",
       "\n",
       "         Is Fraud?  Time_Num   AmountX  \n",
       "0        -0.015361  0.079178  0.175440  \n",
       "1        -0.015361  0.347564 -0.114135  \n",
       "2        -0.015361 -0.442483 -0.260100  \n",
       "3        -0.015361  0.330588 -0.126605  \n",
       "4        -0.015361 -0.099327 -0.226208  \n",
       "...            ...       ...       ...  \n",
       "2216980  -0.015361 -0.852775  0.180238  \n",
       "2216981  -0.015361  1.197418 -0.002154  \n",
       "2216982  -0.015361 -0.727028 -0.172785  \n",
       "2216983  -0.015361  0.143342 -0.101714  \n",
       "2216984  -0.015361 -1.071822 -0.135698  \n",
       "\n",
       "[2216985 rows x 14 columns]"
      ]
     },
     "execution_count": 96,
     "metadata": {},
     "output_type": "execute_result"
    }
   ],
   "source": [
    "qdf"
   ]
  },
  {
   "cell_type": "code",
   "execution_count": 98,
   "metadata": {},
   "outputs": [
    {
     "data": {
      "text/plain": [
       "Index(['User', 'Card', 'Year', 'Month', 'Day', 'Use Chip', 'Merchant Name',\n",
       "       'Merchant City', 'Merchant State', 'Zip', 'MCC', 'Is Fraud?',\n",
       "       'Time_Num', 'AmountX'],\n",
       "      dtype='object')"
      ]
     },
     "execution_count": 98,
     "metadata": {},
     "output_type": "execute_result"
    }
   ],
   "source": [
    "qdf.columns"
   ]
  },
  {
   "cell_type": "code",
   "execution_count": 100,
   "metadata": {},
   "outputs": [],
   "source": [
    "qdf.to_csv('/home/ai23mtech14004/CS6890_FraudAnalytics/Assignment_5_SyntheticDataGeneration/qdf_generated_data.csv')"
   ]
  },
  {
   "cell_type": "markdown",
   "metadata": {},
   "source": [
    "### Comparing the Quantised Data with the original"
   ]
  },
  {
   "cell_type": "code",
   "execution_count": 101,
   "metadata": {},
   "outputs": [
    {
     "data": {
      "image/png": "[encoded data removed]",
      "text/plain": [
       "<Figure size 1200x1600 with 14 Axes>"
      ]
     },
     "metadata": {},
     "output_type": "display_data"
    }
   ],
   "source": [
    "import matplotlib.pyplot as plt\n",
    "import numpy as np\n",
    "\n",
    "num_histograms = len(df.columns)\n",
    "\n",
    "fig, axs = plt.subplots(nrows=7, ncols=2, figsize=(12, 16))\n",
    "axs = axs.flatten()\n",
    "\n",
    "\n",
    "for i in range(num_histograms):\n",
    "    axs[i].hist(df[df.columns[i]].values, bins=20, color='orange', alpha=0.3, label='Original')\n",
    "    \n",
    "    \n",
    "    axs[i].hist(qdf[df.columns[i]].values, bins=20, color='blue', alpha=0.1, label='Synthetically Generated')\n",
    "    \n",
    "    axs[i].set_title(f'Plot of {df.columns[i]}')\n",
    "    axs[i].set_xlabel('Value')\n",
    "    axs[i].set_ylabel('Count')\n",
    "    axs[i].legend()\n",
    "\n",
    "\n",
    "for i in range(num_histograms, len(axs)):\n",
    "    axs[i].axis('off')\n",
    "\n",
    "\n",
    "plt.tight_layout()\n",
    "\n",
    "\n",
    "plt.show()\n"
   ]
  },
  {
   "cell_type": "code",
   "execution_count": 102,
   "metadata": {},
   "outputs": [
    {
     "name": "stdout",
     "output_type": "stream",
     "text": [
      "MSE for User: 0.07046667703435938\n",
      "MSE for Card: 0.19566549048236342\n",
      "MSE for Year: 0.07216879987022938\n",
      "MSE for Month: 0.09158610991229205\n",
      "MSE for Day: 0.08687871430141769\n",
      "MSE for Use Chip: 0.05043138597688299\n",
      "MSE for Merchant Name: 0.09471854207512159\n",
      "MSE for Merchant City: 0.09921563512079695\n",
      "MSE for Merchant State: 0.04578501883068713\n",
      "MSE for Zip: 0.08206956030787248\n",
      "MSE for MCC: 0.11514243123235884\n",
      "MSE for Is Fraud?: 1.0002359616361582\n",
      "MSE for Time_Num: 0.09541883313947591\n",
      "MSE for AmountX: 0.3047201768159431\n"
     ]
    }
   ],
   "source": [
    "MSEs = []\n",
    "\n",
    "for i in list(df.columns):\n",
    "\n",
    "    mseVal = mse(df[i].values, qdf[i].values)\n",
    "\n",
    "    print(f\"MSE for {i}:\", mseVal)\n",
    "    MSEs.append(mseVal)\n",
    "MSEs = np.array(MSEs)"
   ]
  },
  {
   "cell_type": "code",
   "execution_count": 103,
   "metadata": {},
   "outputs": [
    {
     "name": "stdout",
     "output_type": "stream",
     "text": [
      "MSE for full Data: 0.1717502383382828\n"
     ]
    }
   ],
   "source": [
    "print(f'MSE for full Data: {np.mean(MSEs)}')"
   ]
  },
  {
   "cell_type": "markdown",
   "metadata": {},
   "source": [
    "### Comparison using coarse grained"
   ]
  },
  {
   "cell_type": "code",
   "execution_count": 104,
   "metadata": {},
   "outputs": [],
   "source": [
    "train_df = pd.read_csv('/home/ai23mtech14004/CS6890_FraudAnalytics/Assignment_5_SyntheticDataGeneration/new_good_data.csv')\n",
    "generated_df = pd.read_csv('/home/ai23mtech14004/CS6890_FraudAnalytics/Assignment_5_SyntheticDataGeneration/generated_data_1.csv')\n",
    "generated_qdf = pd.read_csv('/home/ai23mtech14004/CS6890_FraudAnalytics/Assignment_5_SyntheticDataGeneration/qdf_generated_data.csv')"
   ]
  },
  {
   "cell_type": "code",
   "execution_count": 105,
   "metadata": {},
   "outputs": [],
   "source": [
    "fullData = pd.concat([train_df,generated_df])"
   ]
  },
  {
   "cell_type": "code",
   "execution_count": 106,
   "metadata": {},
   "outputs": [],
   "source": [
    "dup_total = len(fullData) - len(fullData.drop_duplicates())"
   ]
  },
  {
   "cell_type": "code",
   "execution_count": 107,
   "metadata": {},
   "outputs": [],
   "source": [
    "dup_real = len(train_df) - len(train_df.drop_duplicates())"
   ]
  },
  {
   "cell_type": "code",
   "execution_count": 108,
   "metadata": {},
   "outputs": [
    {
     "data": {
      "text/plain": [
       "0"
      ]
     },
     "execution_count": 108,
     "metadata": {},
     "output_type": "execute_result"
    }
   ],
   "source": [
    "dup_real"
   ]
  },
  {
   "cell_type": "code",
   "execution_count": 109,
   "metadata": {},
   "outputs": [],
   "source": [
    "dup_synthetic = len(generated_df) - len(generated_df.drop_duplicates())"
   ]
  },
  {
   "cell_type": "code",
   "execution_count": 110,
   "metadata": {},
   "outputs": [
    {
     "data": {
      "text/plain": [
       "0"
      ]
     },
     "execution_count": 110,
     "metadata": {},
     "output_type": "execute_result"
    }
   ],
   "source": [
    "dup_synthetic"
   ]
  },
  {
   "cell_type": "code",
   "execution_count": 111,
   "metadata": {},
   "outputs": [
    {
     "data": {
      "text/plain": [
       "0"
      ]
     },
     "execution_count": 111,
     "metadata": {},
     "output_type": "execute_result"
    }
   ],
   "source": [
    "dup_total"
   ]
  },
  {
   "cell_type": "code",
   "execution_count": 112,
   "metadata": {},
   "outputs": [],
   "source": [
    "copies = dup_total - dup_real - dup_synthetic"
   ]
  },
  {
   "cell_type": "code",
   "execution_count": 113,
   "metadata": {},
   "outputs": [
    {
     "data": {
      "text/plain": [
       "'dup_total = 0, dup_real = 0'"
      ]
     },
     "execution_count": 113,
     "metadata": {},
     "output_type": "execute_result"
    }
   ],
   "source": [
    "f'dup_total = {dup_total}, dup_real = {dup_real}'"
   ]
  },
  {
   "cell_type": "code",
   "execution_count": 114,
   "metadata": {},
   "outputs": [
    {
     "data": {
      "text/plain": [
       "0"
      ]
     },
     "execution_count": 114,
     "metadata": {},
     "output_type": "execute_result"
    }
   ],
   "source": [
    "copies"
   ]
  },
  {
   "cell_type": "markdown",
   "metadata": {},
   "source": [
    "Percentage of duplicates in generated data\n"
   ]
  },
  {
   "cell_type": "code",
   "execution_count": 115,
   "metadata": {},
   "outputs": [
    {
     "name": "stdout",
     "output_type": "stream",
     "text": [
      "% of synthetic data is a self copy in: 0.0\n"
     ]
    }
   ],
   "source": [
    "print(f'% of synthetic data is a self copy in: {((len(generated_df) - len(generated_df.drop_duplicates())) / len(generated_df))*100}')\n"
   ]
  },
  {
   "cell_type": "markdown",
   "metadata": {},
   "source": [
    "### Comparison using medium grained"
   ]
  },
  {
   "cell_type": "code",
   "execution_count": 116,
   "metadata": {},
   "outputs": [
    {
     "name": "stdout",
     "output_type": "stream",
     "text": [
      "KL Divergence between the original and synthetic dataset: 0.1384790408781272\n"
     ]
    }
   ],
   "source": [
    "import numpy as np\n",
    "import pandas as pd\n",
    "from scipy.stats import entropy\n",
    "\n",
    "def calculate_kl_divergence(data_p, data_q):\n",
    "    kl_div = entropy(data_p, data_q)\n",
    "    return kl_div\n",
    "\n",
    "def calc_hist(data, bins=100):\n",
    "    hist, bins = np.histogram(data, bins=bins, density=True)\n",
    "    return hist, bins\n",
    "\n",
    "\n",
    "train_df = pd.read_csv('/home/ai23mtech14004/CS6890_FraudAnalytics/Assignment_5_SyntheticDataGeneration/new_good_data.csv')\n",
    "generated_df = pd.read_csv('/home/ai23mtech14004/CS6890_FraudAnalytics/Assignment_5_SyntheticDataGeneration/qdf_generated_data.csv')\n",
    "\n",
    "\n",
    "train_data = train_df.to_numpy().flatten()\n",
    "generated_data = generated_df.to_numpy().flatten()\n",
    "\n",
    "train_hist, train_bins = calc_hist(train_data)\n",
    "gen_hist, gen_bins = calc_hist(generated_data)\n",
    "\n",
    "kl_div = calculate_kl_divergence(train_hist, gen_hist)\n",
    "print(\"KL Divergence between the original and synthetic dataset:\", kl_div)\n"
   ]
  },
  {
   "cell_type": "code",
   "execution_count": null,
   "metadata": {},
   "outputs": [],
   "source": []
  }
 ],
 "metadata": {
  "kernelspec": {
   "display_name": "ivp",
   "language": "python",
   "name": "python3"
  },
  "language_info": {
   "codemirror_mode": {
    "name": "ipython",
    "version": 3
   },
   "file_extension": ".py",
   "mimetype": "text/x-python",
   "name": "python",
   "nbconvert_exporter": "python",
   "pygments_lexer": "ipython3",
   "version": "3.11.7"
  }
 },
 "nbformat": 4,
 "nbformat_minor": 2
}

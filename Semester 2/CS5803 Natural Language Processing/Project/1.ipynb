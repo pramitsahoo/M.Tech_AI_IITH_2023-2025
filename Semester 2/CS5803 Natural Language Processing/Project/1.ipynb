{
 "cells": [
  {
   "cell_type": "code",
   "execution_count": 3,
   "metadata": {},
   "outputs": [
    {
     "data": {
      "text/plain": [
       "(   ID section_header                                       section_text  \\\n",
       " 0   0          GENHX  The patient is a 55-year-old African-American ...   \n",
       " 1   1      FAM/SOCHX               Positive for stroke and sleep apnea.   \n",
       " 2   2            ROS  MSK: Negative myalgia, negative joint pain, ne...   \n",
       " 3   3      FAM/SOCHX                                   Noncontributory.   \n",
       " 4   4      FAM/SOCHX  Father died of a thoracic aortic aneurysm, age...   \n",
       " \n",
       "                                             dialogue  \n",
       " 0  Doctor: Good afternoon, sir. Did you just have...  \n",
       " 1  Doctor: Any medical issues running in your fam...  \n",
       " 2  Doctor: Any pain in your muscles? \\nPatient: N...  \n",
       " 3  Doctor: Anyone in family with any blood or hea...  \n",
       " 4  Doctor: Can you tell me about your family? Did...  ,\n",
       "    ID section_header                                       section_text  \\\n",
       " 0   0             CC                              Congestion and cough.   \n",
       " 1   1      FAM/SOCHX  At home lives mom, dad, a 2-1/2-year-old broth...   \n",
       " 2   2          GENHX  A 51-year-old white male diagnosed with PTLD i...   \n",
       " 3   3        ALLERGY                                   None by history.   \n",
       " 4   4     ASSESSMENT  Urinary tract infection, the patient was start...   \n",
       " \n",
       "                                             dialogue  \n",
       " 0  Doctor: Hello, how are you today?\\nPatient: No...  \n",
       " 1  Guest_family: My two and half year old son and...  \n",
       " 2  Doctor: Good afternoon, sir. My chart here say...  \n",
       " 3  Doctor: Do you have any known history of aller...  \n",
       " 4  Doctor: Are you taking Macrodantin?\\nPatient: ...  ,\n",
       "    ID section_header                                       section_text  \\\n",
       " 0   0          GENHX  The patient is a 76-year-old white female who ...   \n",
       " 1   1          GENHX  The patient is a 25-year-old right-handed Cauc...   \n",
       " 2   2          GENHX  This is a 22-year-old female, who presented to...   \n",
       " 3   3    MEDICATIONS  Prescribed medications were Salmeterol inhaler...   \n",
       " 4   4             CC                                   Burn, right arm.   \n",
       " \n",
       "                                             dialogue  \n",
       " 0  Doctor: What brings you back into the clinic t...  \n",
       " 1  Doctor: How're you feeling today?  \\r\\nPatient...  \n",
       " 2  Doctor: Hello, miss. What is the reason for yo...  \n",
       " 3  Doctor: Are you taking any over the counter me...  \n",
       " 4  Doctor: Hi, how are you? \\r\\nPatient: I burned...  ,\n",
       "    ID section_header                                       section_text  \\\n",
       " 0   0          GENHX  The patient is a 26-year-old female, referred ...   \n",
       " 1   1            ROS  As mentioned denies any oropharyngeal swelling...   \n",
       " 2   2  PASTMEDICALHX  Essentially unchanged from her visit of 04/15/...   \n",
       " 3   3    MEDICATIONS                                          Accutane.   \n",
       " 4   4             CC                      Confusion and hallucinations.   \n",
       " \n",
       "                                             dialogue  \n",
       " 0  Doctor: When did your pain begin? \\nPatient: I...  \n",
       " 1  Doctor: Hey, bud. What brings you in today? \\n...  \n",
       " 2  Doctor: Has anything changed in your medical h...  \n",
       " 3  Doctor: How've you been treating your acne? \\n...  \n",
       " 4  Doctor: Have you been experiencing any mental ...  )"
      ]
     },
     "execution_count": 3,
     "metadata": {},
     "output_type": "execute_result"
    }
   ],
   "source": [
    "import pandas as pd\n",
    "\n",
    "# Load the datasets to examine their structure\n",
    "dataset1_path = \"/home/ai23mtech14004/CS5803_NLP/MTS-Dialog/Main-Dataset/MTS-Dialog-TestSet-1-MEDIQA-Chat-2023.csv\"\n",
    "dataset2_path = \"/home/ai23mtech14004/CS5803_NLP/MTS-Dialog/Main-Dataset/MTS-Dialog-TestSet-2-MEDIQA-Sum-2023.csv\"\n",
    "training_set_path = \"/home/ai23mtech14004/CS5803_NLP/MTS-Dialog/Main-Dataset/MTS-Dialog-TrainingSet.csv\"\n",
    "validation_set_path = \"/home/ai23mtech14004/CS5803_NLP/MTS-Dialog/Main-Dataset/MTS-Dialog-ValidationSet.csv\"\n",
    "\n",
    "# Load the datasets\n",
    "dataset1 = pd.read_csv(dataset1_path)\n",
    "dataset2 = pd.read_csv(dataset2_path)\n",
    "training_set = pd.read_csv(training_set_path)\n",
    "validation_set = pd.read_csv(validation_set_path)\n",
    "\n",
    "# Display the first few rows and the structure of each dataset\n",
    "dataset1.head(), dataset2.head(), training_set.head(), validation_set.head()\n"
   ]
  },
  {
   "cell_type": "markdown",
   "metadata": {},
   "source": [
    "preprocess"
   ]
  },
  {
   "cell_type": "code",
   "execution_count": 4,
   "metadata": {},
   "outputs": [
    {
     "data": {
      "text/html": [
       "<div>\n",
       "<style scoped>\n",
       "    .dataframe tbody tr th:only-of-type {\n",
       "        vertical-align: middle;\n",
       "    }\n",
       "\n",
       "    .dataframe tbody tr th {\n",
       "        vertical-align: top;\n",
       "    }\n",
       "\n",
       "    .dataframe thead th {\n",
       "        text-align: right;\n",
       "    }\n",
       "</style>\n",
       "<table border=\"1\" class=\"dataframe\">\n",
       "  <thead>\n",
       "    <tr style=\"text-align: right;\">\n",
       "      <th></th>\n",
       "      <th>ID</th>\n",
       "      <th>section_header</th>\n",
       "      <th>section_text</th>\n",
       "      <th>dialogue</th>\n",
       "    </tr>\n",
       "  </thead>\n",
       "  <tbody>\n",
       "    <tr>\n",
       "      <th>0</th>\n",
       "      <td>0</td>\n",
       "      <td>GENHX</td>\n",
       "      <td>The patient is a 76-year-old white female who ...</td>\n",
       "      <td>Doctor: What brings you back into the clinic t...</td>\n",
       "    </tr>\n",
       "    <tr>\n",
       "      <th>1</th>\n",
       "      <td>1</td>\n",
       "      <td>GENHX</td>\n",
       "      <td>The patient is a 25-year-old right-handed Cauc...</td>\n",
       "      <td>Doctor: How're you feeling today? Patient: Ter...</td>\n",
       "    </tr>\n",
       "    <tr>\n",
       "      <th>2</th>\n",
       "      <td>2</td>\n",
       "      <td>GENHX</td>\n",
       "      <td>This is a 22-year-old female, who presented to...</td>\n",
       "      <td>Doctor: Hello, miss. What is the reason for yo...</td>\n",
       "    </tr>\n",
       "    <tr>\n",
       "      <th>3</th>\n",
       "      <td>3</td>\n",
       "      <td>MEDICATIONS</td>\n",
       "      <td>Prescribed medications were Salmeterol inhaler...</td>\n",
       "      <td>Doctor: Are you taking any over the counter me...</td>\n",
       "    </tr>\n",
       "    <tr>\n",
       "      <th>4</th>\n",
       "      <td>4</td>\n",
       "      <td>CC</td>\n",
       "      <td>Burn, right arm.</td>\n",
       "      <td>Doctor: Hi, how are you? Patient: I burned my ...</td>\n",
       "    </tr>\n",
       "  </tbody>\n",
       "</table>\n",
       "</div>"
      ],
      "text/plain": [
       "   ID section_header                                       section_text  \\\n",
       "0   0          GENHX  The patient is a 76-year-old white female who ...   \n",
       "1   1          GENHX  The patient is a 25-year-old right-handed Cauc...   \n",
       "2   2          GENHX  This is a 22-year-old female, who presented to...   \n",
       "3   3    MEDICATIONS  Prescribed medications were Salmeterol inhaler...   \n",
       "4   4             CC                                   Burn, right arm.   \n",
       "\n",
       "                                            dialogue  \n",
       "0  Doctor: What brings you back into the clinic t...  \n",
       "1  Doctor: How're you feeling today? Patient: Ter...  \n",
       "2  Doctor: Hello, miss. What is the reason for yo...  \n",
       "3  Doctor: Are you taking any over the counter me...  \n",
       "4  Doctor: Hi, how are you? Patient: I burned my ...  "
      ]
     },
     "execution_count": 4,
     "metadata": {},
     "output_type": "execute_result"
    }
   ],
   "source": [
    "# Preprocessing the dialogue text to remove unwanted characters and simplify the text for model training\n",
    "\n",
    "def preprocess_text(df):\n",
    "    # Simplify whitespace and strip leading/trailing whitespace\n",
    "    df['dialogue'] = df['dialogue'].str.replace(r'\\s+', ' ', regex=True).str.strip()\n",
    "    # Remove non-standard quotes and other special characters\n",
    "    df['dialogue'] = df['dialogue'].str.replace(r\"[\\“\\”\\‘\\’]\", \"'\", regex=True)\n",
    "    return df\n",
    "\n",
    "# Preprocess each dataset\n",
    "dataset1_preprocessed = preprocess_text(dataset1)\n",
    "dataset2_preprocessed = preprocess_text(dataset2)\n",
    "training_set_preprocessed = preprocess_text(training_set)\n",
    "validation_set_preprocessed = preprocess_text(validation_set)\n",
    "\n",
    "# Display the first few rows of the preprocessed training set to verify changes\n",
    "training_set_preprocessed.head()\n"
   ]
  },
  {
   "cell_type": "code",
   "execution_count": 5,
   "metadata": {},
   "outputs": [
    {
     "data": {
      "text/html": [
       "<div>\n",
       "<style scoped>\n",
       "    .dataframe tbody tr th:only-of-type {\n",
       "        vertical-align: middle;\n",
       "    }\n",
       "\n",
       "    .dataframe tbody tr th {\n",
       "        vertical-align: top;\n",
       "    }\n",
       "\n",
       "    .dataframe thead th {\n",
       "        text-align: right;\n",
       "    }\n",
       "</style>\n",
       "<table border=\"1\" class=\"dataframe\">\n",
       "  <thead>\n",
       "    <tr style=\"text-align: right;\">\n",
       "      <th></th>\n",
       "      <th>ID</th>\n",
       "      <th>section_header</th>\n",
       "      <th>section_text</th>\n",
       "      <th>dialogue</th>\n",
       "      <th>exchanges</th>\n",
       "    </tr>\n",
       "  </thead>\n",
       "  <tbody>\n",
       "    <tr>\n",
       "      <th>0</th>\n",
       "      <td>0</td>\n",
       "      <td>GENHX</td>\n",
       "      <td>The patient is a 76-year-old white female who ...</td>\n",
       "      <td>Doctor: What brings you back into the clinic t...</td>\n",
       "      <td>[Doctor: What brings you back into the clinic ...</td>\n",
       "    </tr>\n",
       "    <tr>\n",
       "      <th>1</th>\n",
       "      <td>1</td>\n",
       "      <td>GENHX</td>\n",
       "      <td>The patient is a 25-year-old right-handed Cauc...</td>\n",
       "      <td>Doctor: How're you feeling today? Patient: Ter...</td>\n",
       "      <td>[Doctor: How're you feeling today? Patient: Te...</td>\n",
       "    </tr>\n",
       "    <tr>\n",
       "      <th>2</th>\n",
       "      <td>2</td>\n",
       "      <td>GENHX</td>\n",
       "      <td>This is a 22-year-old female, who presented to...</td>\n",
       "      <td>Doctor: Hello, miss. What is the reason for yo...</td>\n",
       "      <td>[Doctor: Hello, miss. What is the reason for y...</td>\n",
       "    </tr>\n",
       "    <tr>\n",
       "      <th>3</th>\n",
       "      <td>3</td>\n",
       "      <td>MEDICATIONS</td>\n",
       "      <td>Prescribed medications were Salmeterol inhaler...</td>\n",
       "      <td>Doctor: Are you taking any over the counter me...</td>\n",
       "      <td>[Doctor: Are you taking any over the counter m...</td>\n",
       "    </tr>\n",
       "    <tr>\n",
       "      <th>4</th>\n",
       "      <td>4</td>\n",
       "      <td>CC</td>\n",
       "      <td>Burn, right arm.</td>\n",
       "      <td>Doctor: Hi, how are you? Patient: I burned my ...</td>\n",
       "      <td>[Doctor: Hi, how are you? Patient: I burned my...</td>\n",
       "    </tr>\n",
       "  </tbody>\n",
       "</table>\n",
       "</div>"
      ],
      "text/plain": [
       "   ID section_header                                       section_text  \\\n",
       "0   0          GENHX  The patient is a 76-year-old white female who ...   \n",
       "1   1          GENHX  The patient is a 25-year-old right-handed Cauc...   \n",
       "2   2          GENHX  This is a 22-year-old female, who presented to...   \n",
       "3   3    MEDICATIONS  Prescribed medications were Salmeterol inhaler...   \n",
       "4   4             CC                                   Burn, right arm.   \n",
       "\n",
       "                                            dialogue  \\\n",
       "0  Doctor: What brings you back into the clinic t...   \n",
       "1  Doctor: How're you feeling today? Patient: Ter...   \n",
       "2  Doctor: Hello, miss. What is the reason for yo...   \n",
       "3  Doctor: Are you taking any over the counter me...   \n",
       "4  Doctor: Hi, how are you? Patient: I burned my ...   \n",
       "\n",
       "                                           exchanges  \n",
       "0  [Doctor: What brings you back into the clinic ...  \n",
       "1  [Doctor: How're you feeling today? Patient: Te...  \n",
       "2  [Doctor: Hello, miss. What is the reason for y...  \n",
       "3  [Doctor: Are you taking any over the counter m...  \n",
       "4  [Doctor: Hi, how are you? Patient: I burned my...  "
      ]
     },
     "execution_count": 5,
     "metadata": {},
     "output_type": "execute_result"
    }
   ],
   "source": [
    "# Splitting the dialogues into individual exchanges for a more detailed empathy analysis\n",
    "\n",
    "def split_dialogues(df):\n",
    "    # Split each dialogue into exchanges based on the pattern of switching speakers\n",
    "    df['exchanges'] = df['dialogue'].apply(lambda x: x.split('\\n'))\n",
    "    return df\n",
    "\n",
    "# Apply the function to preprocess and split dialogues\n",
    "dataset1_exchanges = split_dialogues(dataset1_preprocessed)\n",
    "dataset2_exchanges = split_dialogues(dataset2_preprocessed)\n",
    "training_set_exchanges = split_dialogues(training_set_preprocessed)\n",
    "validation_set_exchanges = split_dialogues(validation_set_preprocessed)\n",
    "\n",
    "# Display the first few rows of the training set to verify the changes\n",
    "training_set_exchanges.head()\n"
   ]
  },
  {
   "cell_type": "code",
   "execution_count": 6,
   "metadata": {},
   "outputs": [],
   "source": [
    "# Save the preprocessed and split datasets to CSV files\n",
    "# Save the preprocessed and split datasets to CSV files in the specified directory\n",
    "dataset1_exchanges.to_csv('/home/ai23mtech14004/CS5803_NLP/Code/21_BERT/preprocessed_data/MTS-Dialog-TestSet-1-Exchanges.csv', index=False)\n",
    "dataset2_exchanges.to_csv('/home/ai23mtech14004/CS5803_NLP/Code/21_BERT/preprocessed_data/MTS-Dialog-TestSet-2-Exchanges.csv', index=False)\n",
    "training_set_exchanges.to_csv('/home/ai23mtech14004/CS5803_NLP/Code/21_BERT/preprocessed_data/MTS-Dialog-TrainingSet-Exchanges.csv', index=False)\n",
    "validation_set_exchanges.to_csv('/home/ai23mtech14004/CS5803_NLP/Code/21_BERT/preprocessed_data/MTS-Dialog-ValidationSet-Exchanges.csv', index=False)\n"
   ]
  },
  {
   "cell_type": "markdown",
   "metadata": {},
   "source": [
    "To make finetuned gpt2 we need to manually annote 100 random data to make it pretrained"
   ]
  },
  {
   "cell_type": "markdown",
   "metadata": {},
   "source": []
  },
  {
   "cell_type": "code",
   "execution_count": 11,
   "metadata": {},
   "outputs": [],
   "source": [
    "#Load Your Datasets:\n",
    "\n",
    "import pandas as pd\n",
    "\n",
    "dataset1_path = '/home/ai23mtech14004/CS5803_NLP/Code/21_BERT/preprocessed_data/MTS-Dialog-TestSet-1-Exchanges.csv'\n",
    "dataset2_path = '/home/ai23mtech14004/CS5803_NLP/Code/21_BERT/preprocessed_data/MTS-Dialog-TestSet-2-Exchanges.csv'\n",
    "training_set_path = '/home/ai23mtech14004/CS5803_NLP/Code/21_BERT/preprocessed_data/MTS-Dialog-TrainingSet-Exchanges.csv'\n",
    "validation_set_path = '/home/ai23mtech14004/CS5803_NLP/Code/21_BERT/preprocessed_data/MTS-Dialog-ValidationSet-Exchanges.csv'\n",
    "\n",
    "dataset1 = pd.read_csv(dataset1_path)\n",
    "dataset2 = pd.read_csv(dataset2_path)\n",
    "training_set = pd.read_csv(training_set_path)\n",
    "validation_set = pd.read_csv(validation_set_path)\n"
   ]
  },
  {
   "cell_type": "code",
   "execution_count": 12,
   "metadata": {},
   "outputs": [],
   "source": [
    "# Combine and Sample 100 Examples:\n",
    "combined_data = pd.concat([dataset1, dataset2, training_set, validation_set])\n",
    "sampled_data = combined_data.sample(n=100, random_state=42)\n"
   ]
  },
  {
   "cell_type": "code",
   "execution_count": 13,
   "metadata": {},
   "outputs": [],
   "source": [
    "# Add columns for annotations\n",
    "sampled_data['Emotional Reactions'] = ''\n",
    "sampled_data['Interpretations'] = ''\n",
    "sampled_data['Explorations'] = ''\n",
    "\n",
    "# Save the sampled data to a new CSV file\n",
    "sampled_data.to_csv('/home/ai23mtech14004/CS5803_NLP/Code/Annotated_data/Annotated_Sample.csv', index=False)\n"
   ]
  },
  {
   "cell_type": "code",
   "execution_count": null,
   "metadata": {},
   "outputs": [],
   "source": []
  },
  {
   "cell_type": "markdown",
   "metadata": {},
   "source": [
    "Plotting the 70 annotated samples"
   ]
  },
  {
   "cell_type": "code",
   "execution_count": 9,
   "metadata": {},
   "outputs": [
    {
     "data": {
      "text/html": [
       "<div>\n",
       "<style scoped>\n",
       "    .dataframe tbody tr th:only-of-type {\n",
       "        vertical-align: middle;\n",
       "    }\n",
       "\n",
       "    .dataframe tbody tr th {\n",
       "        vertical-align: top;\n",
       "    }\n",
       "\n",
       "    .dataframe thead th {\n",
       "        text-align: right;\n",
       "    }\n",
       "</style>\n",
       "<table border=\"1\" class=\"dataframe\">\n",
       "  <thead>\n",
       "    <tr style=\"text-align: right;\">\n",
       "      <th></th>\n",
       "      <th>ID</th>\n",
       "      <th>section_header</th>\n",
       "      <th>section_text</th>\n",
       "      <th>dialogue</th>\n",
       "      <th>exchanges</th>\n",
       "      <th>Emotional Reactions</th>\n",
       "      <th>Interpretations</th>\n",
       "      <th>Explorations</th>\n",
       "    </tr>\n",
       "  </thead>\n",
       "  <tbody>\n",
       "    <tr>\n",
       "      <th>0</th>\n",
       "      <td>913</td>\n",
       "      <td>GENHX</td>\n",
       "      <td>Mom brings the patient in today for possible e...</td>\n",
       "      <td>Doctor: How's this little guy doing today? Gue...</td>\n",
       "      <td>[\"Doctor: How's this little guy doing today? G...</td>\n",
       "      <td>Strong</td>\n",
       "      <td>Strong</td>\n",
       "      <td>Strong</td>\n",
       "    </tr>\n",
       "    <tr>\n",
       "      <th>1</th>\n",
       "      <td>115</td>\n",
       "      <td>CC</td>\n",
       "      <td>Joints are hurting all over and checkup.</td>\n",
       "      <td>Doctor: So what brings you in today? Patient: ...</td>\n",
       "      <td>[\"Doctor: So what brings you in today? Patient...</td>\n",
       "      <td>No</td>\n",
       "      <td>No</td>\n",
       "      <td>No</td>\n",
       "    </tr>\n",
       "    <tr>\n",
       "      <th>2</th>\n",
       "      <td>135</td>\n",
       "      <td>GENHX</td>\n",
       "      <td>The patient is a 26-year-old African-American ...</td>\n",
       "      <td>Doctor: Good afternoon, sir, before we begin, ...</td>\n",
       "      <td>[\"Doctor: Good afternoon, sir, before we begin...</td>\n",
       "      <td>No</td>\n",
       "      <td>No</td>\n",
       "      <td>No</td>\n",
       "    </tr>\n",
       "    <tr>\n",
       "      <th>3</th>\n",
       "      <td>152</td>\n",
       "      <td>PASTMEDICALHX</td>\n",
       "      <td>Significant for hypertension, hypercholesterol...</td>\n",
       "      <td>Doctor: Do you have any medical conditions tha...</td>\n",
       "      <td>[\"Doctor: Do you have any medical conditions t...</td>\n",
       "      <td>Weak</td>\n",
       "      <td>Weak</td>\n",
       "      <td>No</td>\n",
       "    </tr>\n",
       "    <tr>\n",
       "      <th>4</th>\n",
       "      <td>19</td>\n",
       "      <td>MEDICATIONS</td>\n",
       "      <td>No medications other than recent amoxicillin.</td>\n",
       "      <td>Doctor: Are you taking any medication? Guest_f...</td>\n",
       "      <td>[\"Doctor: Are you taking any medication? Guest...</td>\n",
       "      <td>No</td>\n",
       "      <td>No</td>\n",
       "      <td>No</td>\n",
       "    </tr>\n",
       "  </tbody>\n",
       "</table>\n",
       "</div>"
      ],
      "text/plain": [
       "    ID section_header                                       section_text  \\\n",
       "0  913          GENHX  Mom brings the patient in today for possible e...   \n",
       "1  115             CC           Joints are hurting all over and checkup.   \n",
       "2  135          GENHX  The patient is a 26-year-old African-American ...   \n",
       "3  152  PASTMEDICALHX  Significant for hypertension, hypercholesterol...   \n",
       "4   19    MEDICATIONS      No medications other than recent amoxicillin.   \n",
       "\n",
       "                                            dialogue  \\\n",
       "0  Doctor: How's this little guy doing today? Gue...   \n",
       "1  Doctor: So what brings you in today? Patient: ...   \n",
       "2  Doctor: Good afternoon, sir, before we begin, ...   \n",
       "3  Doctor: Do you have any medical conditions tha...   \n",
       "4  Doctor: Are you taking any medication? Guest_f...   \n",
       "\n",
       "                                           exchanges Emotional Reactions  \\\n",
       "0  [\"Doctor: How's this little guy doing today? G...              Strong   \n",
       "1  [\"Doctor: So what brings you in today? Patient...                  No   \n",
       "2  [\"Doctor: Good afternoon, sir, before we begin...                  No   \n",
       "3  [\"Doctor: Do you have any medical conditions t...                Weak   \n",
       "4  [\"Doctor: Are you taking any medication? Guest...                  No   \n",
       "\n",
       "  Interpretations Explorations  \n",
       "0          Strong       Strong  \n",
       "1              No           No  \n",
       "2              No           No  \n",
       "3            Weak           No  \n",
       "4              No           No  "
      ]
     },
     "execution_count": 9,
     "metadata": {},
     "output_type": "execute_result"
    }
   ],
   "source": [
    "import pandas as pd\n",
    "\n",
    "# Load the dataset to see the first few rows and understand its structure\n",
    "data_path = '/home/ai23mtech14004/CS5803_NLP/Code/Annotated_data/data_annotated.csv'\n",
    "data = pd.read_csv(data_path)\n",
    "data.head()\n"
   ]
  },
  {
   "cell_type": "code",
   "execution_count": 10,
   "metadata": {},
   "outputs": [
    {
     "data": {
      "image/png": "[encoded data removed]",
      "text/plain": [
       "<Figure size 1800x600 with 3 Axes>"
      ]
     },
     "metadata": {},
     "output_type": "display_data"
    }
   ],
   "source": [
    "import matplotlib.pyplot as plt\n",
    "import seaborn as sns\n",
    "\n",
    "# Set up the matplotlib figure\n",
    "plt.figure(figsize=(18, 6))\n",
    "\n",
    "# Create subplots for Emotional Reactions, Interpretations, Explorations\n",
    "plt.subplot(1, 3, 1)\n",
    "sns.countplot(data=data, x='Emotional Reactions', order=['No', 'Weak', 'Strong'])\n",
    "plt.title('Emotional Reactions Distribution')\n",
    "\n",
    "plt.subplot(1, 3, 2)\n",
    "sns.countplot(data=data, x='Interpretations', order=['No', 'Weak', 'Strong'])\n",
    "plt.title('Interpretations Distribution')\n",
    "\n",
    "plt.subplot(1, 3, 3)\n",
    "sns.countplot(data=data, x='Explorations', order=['No', 'Weak', 'Strong'])\n",
    "plt.title('Explorations Distribution')\n",
    "\n",
    "# Show plot\n",
    "plt.tight_layout()\n",
    "plt.show()\n"
   ]
  },
  {
   "cell_type": "markdown",
   "metadata": {},
   "source": [
    "pretraining gpt2 on 70 examples "
   ]
  },
  {
   "cell_type": "code",
   "execution_count": 5,
   "metadata": {},
   "outputs": [],
   "source": [
    "import os\n",
    "os.environ['CUDA_LAUNCH_BLOCKING'] = '1'\n"
   ]
  },
  {
   "cell_type": "code",
   "execution_count": 4,
   "metadata": {},
   "outputs": [],
   "source": [
    "!pip install -q accelerate evaluate rouge_score\n",
    "!pip install -q datasets loralib einops\n",
    "!pip install -q -U bitsandbytes\n",
    "!pip install -q -U git+https://github.com/huggingface/transformers.git\n",
    "!pip install -q -U git+https://github.com/huggingface/peft.git\n",
    "!pip install -q -U git+https://github.com/huggingface/accelerate.git"
   ]
  },
  {
   "cell_type": "code",
   "execution_count": 12,
   "metadata": {},
   "outputs": [
    {
     "name": "stdout",
     "output_type": "stream",
     "text": [
      "Training model for Emotional Reactions\n",
      "Label types for Emotional Reactions: int64\n"
     ]
    },
    {
     "data": {
      "application/vnd.jupyter.widget-view+json": {
       "model_id": "7a01757c13ba49c8bfc0dfaa3cf5d1d7",
       "version_major": 2,
       "version_minor": 0
      },
      "text/plain": [
       "Map:   0%|          | 0/62 [00:00<?, ? examples/s]"
      ]
     },
     "metadata": {},
     "output_type": "display_data"
    },
    {
     "data": {
      "application/vnd.jupyter.widget-view+json": {
       "model_id": "8f7cd9edc0354403bc89d7fc4d3a33dd",
       "version_major": 2,
       "version_minor": 0
      },
      "text/plain": [
       "Map:   0%|          | 0/7 [00:00<?, ? examples/s]"
      ]
     },
     "metadata": {},
     "output_type": "display_data"
    },
    {
     "name": "stderr",
     "output_type": "stream",
     "text": [
      "Some weights of GPT2ForSequenceClassification were not initialized from the model checkpoint at openai-community/gpt2 and are newly initialized: ['score.weight']\n",
      "You should probably TRAIN this model on a down-stream task to be able to use it for predictions and inference.\n",
      "/home/ai23mtech14004/.venv/lib/python3.11/site-packages/torch/nn/parallel/_functions.py:68: UserWarning: Was asked to gather along dimension 0, but all input tensors were scalars; will instead unsqueeze and return a vector.\n",
      "  warnings.warn('Was asked to gather along dimension 0, but all '\n"
     ]
    },
    {
     "data": {
      "text/html": [
       "\n",
       "    <div>\n",
       "      \n",
       "      <progress value='18' max='18' style='width:300px; height:20px; vertical-align: middle;'></progress>\n",
       "      [18/18 00:06, Epoch 3/3]\n",
       "    </div>\n",
       "    <table border=\"1\" class=\"dataframe\">\n",
       "  <thead>\n",
       " <tr style=\"text-align: left;\">\n",
       "      <th>Step</th>\n",
       "      <th>Training Loss</th>\n",
       "      <th>Validation Loss</th>\n",
       "    </tr>\n",
       "  </thead>\n",
       "  <tbody>\n",
       "  </tbody>\n",
       "</table><p>"
      ],
      "text/plain": [
       "<IPython.core.display.HTML object>"
      ]
     },
     "metadata": {},
     "output_type": "display_data"
    },
    {
     "name": "stdout",
     "output_type": "stream",
     "text": [
      "Training model for Interpretations\n",
      "Label types for Interpretations: int64\n"
     ]
    },
    {
     "data": {
      "application/vnd.jupyter.widget-view+json": {
       "model_id": "7b5e18246b1b4f9bab708b627a3265d7",
       "version_major": 2,
       "version_minor": 0
      },
      "text/plain": [
       "Map:   0%|          | 0/62 [00:00<?, ? examples/s]"
      ]
     },
     "metadata": {},
     "output_type": "display_data"
    },
    {
     "data": {
      "application/vnd.jupyter.widget-view+json": {
       "model_id": "11eb11c29fbe48e1b35c48740464b767",
       "version_major": 2,
       "version_minor": 0
      },
      "text/plain": [
       "Map:   0%|          | 0/7 [00:00<?, ? examples/s]"
      ]
     },
     "metadata": {},
     "output_type": "display_data"
    },
    {
     "name": "stderr",
     "output_type": "stream",
     "text": [
      "Some weights of GPT2ForSequenceClassification were not initialized from the model checkpoint at openai-community/gpt2 and are newly initialized: ['score.weight']\n",
      "You should probably TRAIN this model on a down-stream task to be able to use it for predictions and inference.\n",
      "/home/ai23mtech14004/.venv/lib/python3.11/site-packages/torch/nn/parallel/_functions.py:68: UserWarning: Was asked to gather along dimension 0, but all input tensors were scalars; will instead unsqueeze and return a vector.\n",
      "  warnings.warn('Was asked to gather along dimension 0, but all '\n"
     ]
    },
    {
     "data": {
      "text/html": [
       "\n",
       "    <div>\n",
       "      \n",
       "      <progress value='18' max='18' style='width:300px; height:20px; vertical-align: middle;'></progress>\n",
       "      [18/18 00:06, Epoch 3/3]\n",
       "    </div>\n",
       "    <table border=\"1\" class=\"dataframe\">\n",
       "  <thead>\n",
       " <tr style=\"text-align: left;\">\n",
       "      <th>Step</th>\n",
       "      <th>Training Loss</th>\n",
       "      <th>Validation Loss</th>\n",
       "    </tr>\n",
       "  </thead>\n",
       "  <tbody>\n",
       "  </tbody>\n",
       "</table><p>"
      ],
      "text/plain": [
       "<IPython.core.display.HTML object>"
      ]
     },
     "metadata": {},
     "output_type": "display_data"
    },
    {
     "name": "stdout",
     "output_type": "stream",
     "text": [
      "Training model for Explorations\n",
      "Label types for Explorations: int64\n"
     ]
    },
    {
     "data": {
      "application/vnd.jupyter.widget-view+json": {
       "model_id": "1e4947cb77254be7979dc944a8c7f385",
       "version_major": 2,
       "version_minor": 0
      },
      "text/plain": [
       "Map:   0%|          | 0/62 [00:00<?, ? examples/s]"
      ]
     },
     "metadata": {},
     "output_type": "display_data"
    },
    {
     "data": {
      "application/vnd.jupyter.widget-view+json": {
       "model_id": "0164433636d34021965b8f1edcd95014",
       "version_major": 2,
       "version_minor": 0
      },
      "text/plain": [
       "Map:   0%|          | 0/7 [00:00<?, ? examples/s]"
      ]
     },
     "metadata": {},
     "output_type": "display_data"
    },
    {
     "name": "stderr",
     "output_type": "stream",
     "text": [
      "Some weights of GPT2ForSequenceClassification were not initialized from the model checkpoint at openai-community/gpt2 and are newly initialized: ['score.weight']\n",
      "You should probably TRAIN this model on a down-stream task to be able to use it for predictions and inference.\n",
      "/home/ai23mtech14004/.venv/lib/python3.11/site-packages/torch/nn/parallel/_functions.py:68: UserWarning: Was asked to gather along dimension 0, but all input tensors were scalars; will instead unsqueeze and return a vector.\n",
      "  warnings.warn('Was asked to gather along dimension 0, but all '\n"
     ]
    },
    {
     "data": {
      "text/html": [
       "\n",
       "    <div>\n",
       "      \n",
       "      <progress value='18' max='18' style='width:300px; height:20px; vertical-align: middle;'></progress>\n",
       "      [18/18 00:06, Epoch 3/3]\n",
       "    </div>\n",
       "    <table border=\"1\" class=\"dataframe\">\n",
       "  <thead>\n",
       " <tr style=\"text-align: left;\">\n",
       "      <th>Step</th>\n",
       "      <th>Training Loss</th>\n",
       "      <th>Validation Loss</th>\n",
       "    </tr>\n",
       "  </thead>\n",
       "  <tbody>\n",
       "  </tbody>\n",
       "</table><p>"
      ],
      "text/plain": [
       "<IPython.core.display.HTML object>"
      ]
     },
     "metadata": {},
     "output_type": "display_data"
    }
   ],
   "source": [
    "import pandas as pd\n",
    "from sklearn.model_selection import train_test_split\n",
    "from datasets import Dataset\n",
    "from transformers import GPT2Tokenizer, GPT2ForSequenceClassification, Trainer, TrainingArguments\n",
    "import numpy as np\n",
    "\n",
    "# Load the data\n",
    "data_path = \"/home/ai23mtech14004/CS5803_NLP/Code/Annotated_data/data_annotated.csv\"  # Using the new uploaded file path\n",
    "data = pd.read_csv(data_path)\n",
    "\n",
    "# Mapping labels to numeric values\n",
    "label_dict = {'No': 0, 'Weak': 1, 'Strong': 2}\n",
    "categories = ['Emotional Reactions', 'Interpretations', 'Explorations']\n",
    "\n",
    "# Load tokenizer and set the pad token\n",
    "model_name = \"openai-community/gpt2\"\n",
    "tokenizer = GPT2Tokenizer.from_pretrained(model_name)\n",
    "tokenizer.pad_token = tokenizer.eos_token\n",
    "\n",
    "# Define tokenization function\n",
    "def tokenize_function(examples):\n",
    "    return tokenizer(examples['dialogue'], padding=\"max_length\", truncation=True, max_length=512)\n",
    "\n",
    "# Define accuracy metric\n",
    "def compute_metrics(eval_pred):\n",
    "    logits, labels = eval_pred\n",
    "    predictions = np.argmax(logits, axis=-1)\n",
    "    return {'accuracy': (predictions == labels).mean()}\n",
    "\n",
    "# Process data for each category\n",
    "for category in categories:\n",
    "    # Map labels and remove NaN values\n",
    "    data[category] = data[category].map(label_dict)\n",
    "    data = data.dropna(subset=[category])  # Dropping rows where the category label is NaN\n",
    "    # Convert labels to integers\n",
    "    data[category] = data[category].astype(int)\n",
    "\n",
    "# Training loop for each category\n",
    "for category in categories:\n",
    "    print(f\"Training model for {category}\")\n",
    "    \n",
    "    current_data = data[['dialogue', category]].rename(columns={category: 'label'})\n",
    "    print(f\"Label types for {category}: {current_data['label'].dtype}\")  # Debugging line\n",
    "    \n",
    "    # Split data\n",
    "    train_data, val_data = train_test_split(current_data, test_size=0.1, random_state=42)\n",
    "    train_dataset = Dataset.from_pandas(train_data)\n",
    "    val_dataset = Dataset.from_pandas(val_data)\n",
    "    \n",
    "    # Tokenize data\n",
    "    train_dataset = train_dataset.map(tokenize_function, batched=True)\n",
    "    val_dataset = val_dataset.map(tokenize_function, batched=True)\n",
    "\n",
    "    # Load model and set its configuration for padding\n",
    "    model = GPT2ForSequenceClassification.from_pretrained(model_name, num_labels=3)\n",
    "    model.config.pad_token_id = tokenizer.pad_token_id\n",
    "\n",
    "    # Training arguments\n",
    "    training_args = TrainingArguments(\n",
    "        output_dir=f\"./results/{category}\",\n",
    "        evaluation_strategy=\"steps\",\n",
    "        save_strategy=\"steps\",\n",
    "        save_steps=500,\n",
    "        eval_steps=500,\n",
    "        learning_rate=2e-5,\n",
    "        per_device_train_batch_size=4,\n",
    "        per_device_eval_batch_size=4,\n",
    "        num_train_epochs=3,\n",
    "        weight_decay=0.01,\n",
    "        load_best_model_at_end=True,\n",
    "        metric_for_best_model=\"accuracy\",\n",
    "        logging_dir=f'./logs/{category}',\n",
    "        logging_steps=100\n",
    "    )\n",
    "\n",
    "    # Initialize Trainer\n",
    "    trainer = Trainer(\n",
    "        model=model,\n",
    "        args=training_args,\n",
    "        train_dataset=train_dataset,\n",
    "        eval_dataset=val_dataset,\n",
    "        tokenizer=tokenizer,\n",
    "        compute_metrics=compute_metrics\n",
    "    )\n",
    "\n",
    "    # Train the model\n",
    "    trainer.train()\n"
   ]
  },
  {
   "cell_type": "code",
   "execution_count": 25,
   "metadata": {},
   "outputs": [
    {
     "data": {
      "text/plain": [
       "('./results/Emotional Reactions/tokenizer_config.json',\n",
       " './results/Emotional Reactions/special_tokens_map.json',\n",
       " './results/Emotional Reactions/vocab.json',\n",
       " './results/Emotional Reactions/merges.txt',\n",
       " './results/Emotional Reactions/added_tokens.json')"
      ]
     },
     "execution_count": 25,
     "metadata": {},
     "output_type": "execute_result"
    }
   ],
   "source": [
    "model.save_pretrained('./results/Emotional Reactions')\n",
    "tokenizer.save_pretrained('./results/Emotional Reactions')\n"
   ]
  },
  {
   "cell_type": "code",
   "execution_count": 26,
   "metadata": {},
   "outputs": [
    {
     "data": {
      "text/plain": [
       "('./results/Explorations/tokenizer_config.json',\n",
       " './results/Explorations/special_tokens_map.json',\n",
       " './results/Explorations/vocab.json',\n",
       " './results/Explorations/merges.txt',\n",
       " './results/Explorations/added_tokens.json')"
      ]
     },
     "execution_count": 26,
     "metadata": {},
     "output_type": "execute_result"
    }
   ],
   "source": [
    "model.save_pretrained('./results/Explorations')\n",
    "tokenizer.save_pretrained('./results/Explorations')"
   ]
  },
  {
   "cell_type": "code",
   "execution_count": 27,
   "metadata": {},
   "outputs": [
    {
     "data": {
      "text/plain": [
       "('./results/Interpretations/tokenizer_config.json',\n",
       " './results/Interpretations/special_tokens_map.json',\n",
       " './results/Interpretations/vocab.json',\n",
       " './results/Interpretations/merges.txt',\n",
       " './results/Interpretations/added_tokens.json')"
      ]
     },
     "execution_count": 27,
     "metadata": {},
     "output_type": "execute_result"
    }
   ],
   "source": [
    "model.save_pretrained('./results/Interpretations')\n",
    "tokenizer.save_pretrained('./results/Interpretations')"
   ]
  },
  {
   "cell_type": "markdown",
   "metadata": {},
   "source": [
    "Applying this on the preprocessed data"
   ]
  },
  {
   "cell_type": "code",
   "execution_count": 29,
   "metadata": {},
   "outputs": [],
   "source": [
    "from transformers import GPT2Tokenizer, GPT2ForSequenceClassification\n",
    "\n",
    "tokenizer = GPT2Tokenizer.from_pretrained(\"./results/Emotional Reactions\")\n",
    "model = GPT2ForSequenceClassification.from_pretrained(\"./results/Emotional Reactions\")\n"
   ]
  },
  {
   "cell_type": "code",
   "execution_count": 31,
   "metadata": {},
   "outputs": [
    {
     "name": "stdout",
     "output_type": "stream",
     "text": [
      "Loaded model for Emotional Reactions\n",
      "Loaded model for Interpretations\n",
      "Loaded model for Explorations\n",
      "Processing TrainingSet dataset...\n",
      "Annotating with model: Emotional Reactions\n",
      "Saved annotated data to /home/ai23mtech14004/CS5803_NLP/Code/21_BERT/preprocessed_data/MTS-Dialog-TrainingSet-Exchanges_Emotional Reactions_annotated.csv\n",
      "Annotating with model: Interpretations\n",
      "Saved annotated data to /home/ai23mtech14004/CS5803_NLP/Code/21_BERT/preprocessed_data/MTS-Dialog-TrainingSet-Exchanges_Interpretations_annotated.csv\n",
      "Annotating with model: Explorations\n",
      "Saved annotated data to /home/ai23mtech14004/CS5803_NLP/Code/21_BERT/preprocessed_data/MTS-Dialog-TrainingSet-Exchanges_Explorations_annotated.csv\n",
      "Processing ValidationSet dataset...\n",
      "Annotating with model: Emotional Reactions\n",
      "Saved annotated data to /home/ai23mtech14004/CS5803_NLP/Code/21_BERT/preprocessed_data/MTS-Dialog-ValidationSet-Exchanges_Emotional Reactions_annotated.csv\n",
      "Annotating with model: Interpretations\n",
      "Saved annotated data to /home/ai23mtech14004/CS5803_NLP/Code/21_BERT/preprocessed_data/MTS-Dialog-ValidationSet-Exchanges_Interpretations_annotated.csv\n",
      "Annotating with model: Explorations\n",
      "Saved annotated data to /home/ai23mtech14004/CS5803_NLP/Code/21_BERT/preprocessed_data/MTS-Dialog-ValidationSet-Exchanges_Explorations_annotated.csv\n",
      "Processing TestSet1 dataset...\n",
      "Annotating with model: Emotional Reactions\n",
      "Saved annotated data to /home/ai23mtech14004/CS5803_NLP/Code/21_BERT/preprocessed_data/MTS-Dialog-TestSet-1-Exchanges_Emotional Reactions_annotated.csv\n",
      "Annotating with model: Interpretations\n",
      "Saved annotated data to /home/ai23mtech14004/CS5803_NLP/Code/21_BERT/preprocessed_data/MTS-Dialog-TestSet-1-Exchanges_Interpretations_annotated.csv\n",
      "Annotating with model: Explorations\n",
      "Saved annotated data to /home/ai23mtech14004/CS5803_NLP/Code/21_BERT/preprocessed_data/MTS-Dialog-TestSet-1-Exchanges_Explorations_annotated.csv\n",
      "Processing TestSet2 dataset...\n",
      "Annotating with model: Emotional Reactions\n",
      "Saved annotated data to /home/ai23mtech14004/CS5803_NLP/Code/21_BERT/preprocessed_data/MTS-Dialog-TestSet-2-Exchanges_Emotional Reactions_annotated.csv\n",
      "Annotating with model: Interpretations\n",
      "Saved annotated data to /home/ai23mtech14004/CS5803_NLP/Code/21_BERT/preprocessed_data/MTS-Dialog-TestSet-2-Exchanges_Interpretations_annotated.csv\n",
      "Annotating with model: Explorations\n",
      "Saved annotated data to /home/ai23mtech14004/CS5803_NLP/Code/21_BERT/preprocessed_data/MTS-Dialog-TestSet-2-Exchanges_Explorations_annotated.csv\n"
     ]
    }
   ],
   "source": [
    "from transformers import GPT2Tokenizer, GPT2ForSequenceClassification\n",
    "import pandas as pd\n",
    "import torch\n",
    "\n",
    "# Paths to datasets\n",
    "dataset_paths = {\n",
    "    \"TrainingSet\": \"/home/ai23mtech14004/CS5803_NLP/Code/21_BERT/preprocessed_data/MTS-Dialog-TrainingSet-Exchanges.csv\",\n",
    "    \"ValidationSet\": \"/home/ai23mtech14004/CS5803_NLP/Code/21_BERT/preprocessed_data/MTS-Dialog-ValidationSet-Exchanges.csv\",\n",
    "    \"TestSet1\": \"/home/ai23mtech14004/CS5803_NLP/Code/21_BERT/preprocessed_data/MTS-Dialog-TestSet-1-Exchanges.csv\",\n",
    "    \"TestSet2\": \"/home/ai23mtech14004/CS5803_NLP/Code/21_BERT/preprocessed_data/MTS-Dialog-TestSet-2-Exchanges.csv\"\n",
    "}\n",
    "\n",
    "# Load tokenizer and set the pad token explicitly\n",
    "tokenizer = GPT2Tokenizer.from_pretrained(\"openai-community/gpt2\")\n",
    "tokenizer.pad_token = tokenizer.eos_token\n",
    "\n",
    "# Load models for each category\n",
    "model_paths = {\n",
    "    \"Emotional Reactions\": \"./results/Emotional Reactions\",\n",
    "    \"Interpretations\": \"./results/Interpretations\",\n",
    "    \"Explorations\": \"./results/Explorations\"\n",
    "}\n",
    "\n",
    "models = {}\n",
    "for category, path in model_paths.items():\n",
    "    try:\n",
    "        models[category] = GPT2ForSequenceClassification.from_pretrained(path)\n",
    "        print(f\"Loaded model for {category}\")\n",
    "    except Exception as e:\n",
    "        print(f\"Failed to load model for {category} from {path}: {e}\")\n",
    "\n",
    "# Function to prepare data for model prediction\n",
    "def prepare_data(texts):\n",
    "    encodings = tokenizer(texts, truncation=True, padding=True, max_length=512, return_tensors=\"pt\")\n",
    "    return encodings\n",
    "\n",
    "# Function to get predictions\n",
    "def get_predictions(model, encodings):\n",
    "    model.eval()\n",
    "    with torch.no_grad():\n",
    "        outputs = model(**encodings)\n",
    "        predictions = torch.argmax(outputs.logits, dim=1)\n",
    "    return predictions\n",
    "\n",
    "# Process and annotate each dataset\n",
    "for name, path in dataset_paths.items():\n",
    "    print(f\"Processing {name} dataset...\")\n",
    "    data = pd.read_csv(path)\n",
    "    for category, model in models.items():\n",
    "        print(f\"Annotating with model: {category}\")\n",
    "        encodings = prepare_data(data['dialogue'].tolist())\n",
    "        predictions = get_predictions(model, encodings)\n",
    "        data[category] = predictions.numpy()  # Append predictions to the dataframe\n",
    "        save_path = path.replace(\".csv\", f\"_{category}_annotated.csv\")\n",
    "        data.to_csv(save_path, index=False)\n",
    "        print(f\"Saved annotated data to {save_path}\")\n"
   ]
  },
  {
   "cell_type": "code",
   "execution_count": null,
   "metadata": {},
   "outputs": [],
   "source": []
  },
  {
   "cell_type": "markdown",
   "metadata": {},
   "source": [
    "Plotting the Datas"
   ]
  },
  {
   "cell_type": "code",
   "execution_count": 11,
   "metadata": {},
   "outputs": [
    {
     "data": {
      "text/plain": [
       "{'Test Set 1': 200,\n",
       " 'Test Set 2': 200,\n",
       " 'Training Set': 1201,\n",
       " 'Validation Set': 100}"
      ]
     },
     "execution_count": 11,
     "metadata": {},
     "output_type": "execute_result"
    }
   ],
   "source": [
    "# File paths for the newly uploaded files\n",
    "file_paths = {\n",
    "    'Test Set 1': '/home/ai23mtech14004/CS5803_NLP/Code/21_BERT/GPT_annotated_full_data/MTS-Dialog-TestSet-1-Exchanges_Explorations_annotated.csv',\n",
    "    'Test Set 2': '/home/ai23mtech14004/CS5803_NLP/Code/21_BERT/GPT_annotated_full_data/MTS-Dialog-TestSet-2-Exchanges_Explorations_annotated.csv',\n",
    "    'Training Set': '/home/ai23mtech14004/CS5803_NLP/Code/21_BERT/GPT_annotated_full_data/MTS-Dialog-TrainingSet-Exchanges_Explorations_annotated.csv',\n",
    "    'Validation Set': '/home/ai23mtech14004/CS5803_NLP/Code/21_BERT/GPT_annotated_full_data/MTS-Dialog-ValidationSet-Exchanges_Explorations_annotated.csv'\n",
    "}\n",
    "\n",
    "# Load each file and count the number of entries\n",
    "data_counts = {}\n",
    "for label, path in file_paths.items():\n",
    "    data = pd.read_csv(path)\n",
    "    data_counts[label] = len(data)\n",
    "\n",
    "data_counts\n",
    "\n"
   ]
  },
  {
   "cell_type": "code",
   "execution_count": 12,
   "metadata": {},
   "outputs": [
    {
     "data": {
      "image/png": "[encoded data removed]",
      "text/plain": [
       "<Figure size 1000x600 with 1 Axes>"
      ]
     },
     "metadata": {},
     "output_type": "display_data"
    }
   ],
   "source": [
    "# Plotting the counts of entries in the newly uploaded files\n",
    "plt.figure(figsize=(10, 6))\n",
    "sns.barplot(x=list(data_counts.keys()), y=list(data_counts.values()))\n",
    "plt.title('Number of Entries in Each Dataset')\n",
    "plt.xlabel('Dataset')\n",
    "plt.ylabel('Number of Entries')\n",
    "plt.show()\n"
   ]
  },
  {
   "cell_type": "code",
   "execution_count": 13,
   "metadata": {},
   "outputs": [
    {
     "data": {
      "text/html": [
       "<div>\n",
       "<style scoped>\n",
       "    .dataframe tbody tr th:only-of-type {\n",
       "        vertical-align: middle;\n",
       "    }\n",
       "\n",
       "    .dataframe tbody tr th {\n",
       "        vertical-align: top;\n",
       "    }\n",
       "\n",
       "    .dataframe thead th {\n",
       "        text-align: right;\n",
       "    }\n",
       "</style>\n",
       "<table border=\"1\" class=\"dataframe\">\n",
       "  <thead>\n",
       "    <tr style=\"text-align: right;\">\n",
       "      <th></th>\n",
       "      <th>ID</th>\n",
       "      <th>section_header</th>\n",
       "      <th>section_text</th>\n",
       "      <th>dialogue</th>\n",
       "      <th>exchanges</th>\n",
       "      <th>Emotional Reactions</th>\n",
       "      <th>Interpretations</th>\n",
       "      <th>Explorations</th>\n",
       "    </tr>\n",
       "  </thead>\n",
       "  <tbody>\n",
       "    <tr>\n",
       "      <th>0</th>\n",
       "      <td>0</td>\n",
       "      <td>GENHX</td>\n",
       "      <td>The patient is a 55-year-old African-American ...</td>\n",
       "      <td>Doctor: Good afternoon, sir. Did you just have...</td>\n",
       "      <td>[\"Doctor: Good afternoon, sir. Did you just ha...</td>\n",
       "      <td>0</td>\n",
       "      <td>0</td>\n",
       "      <td>0</td>\n",
       "    </tr>\n",
       "    <tr>\n",
       "      <th>1</th>\n",
       "      <td>1</td>\n",
       "      <td>FAM/SOCHX</td>\n",
       "      <td>Positive for stroke and sleep apnea.</td>\n",
       "      <td>Doctor: Any medical issues running in your fam...</td>\n",
       "      <td>['Doctor: Any medical issues running in your f...</td>\n",
       "      <td>0</td>\n",
       "      <td>0</td>\n",
       "      <td>0</td>\n",
       "    </tr>\n",
       "    <tr>\n",
       "      <th>2</th>\n",
       "      <td>2</td>\n",
       "      <td>ROS</td>\n",
       "      <td>MSK: Negative myalgia, negative joint pain, ne...</td>\n",
       "      <td>Doctor: Any pain in your muscles? Patient: No,...</td>\n",
       "      <td>[\"Doctor: Any pain in your muscles? Patient: N...</td>\n",
       "      <td>0</td>\n",
       "      <td>0</td>\n",
       "      <td>0</td>\n",
       "    </tr>\n",
       "    <tr>\n",
       "      <th>3</th>\n",
       "      <td>3</td>\n",
       "      <td>FAM/SOCHX</td>\n",
       "      <td>Noncontributory.</td>\n",
       "      <td>Doctor: Anyone in family with any blood or hea...</td>\n",
       "      <td>['Doctor: Anyone in family with any blood or h...</td>\n",
       "      <td>0</td>\n",
       "      <td>0</td>\n",
       "      <td>0</td>\n",
       "    </tr>\n",
       "    <tr>\n",
       "      <th>4</th>\n",
       "      <td>4</td>\n",
       "      <td>FAM/SOCHX</td>\n",
       "      <td>Father died of a thoracic aortic aneurysm, age...</td>\n",
       "      <td>Doctor: Can you tell me about your family? Did...</td>\n",
       "      <td>['Doctor: Can you tell me about your family? D...</td>\n",
       "      <td>0</td>\n",
       "      <td>0</td>\n",
       "      <td>0</td>\n",
       "    </tr>\n",
       "  </tbody>\n",
       "</table>\n",
       "</div>"
      ],
      "text/plain": [
       "   ID section_header                                       section_text  \\\n",
       "0   0          GENHX  The patient is a 55-year-old African-American ...   \n",
       "1   1      FAM/SOCHX               Positive for stroke and sleep apnea.   \n",
       "2   2            ROS  MSK: Negative myalgia, negative joint pain, ne...   \n",
       "3   3      FAM/SOCHX                                   Noncontributory.   \n",
       "4   4      FAM/SOCHX  Father died of a thoracic aortic aneurysm, age...   \n",
       "\n",
       "                                            dialogue  \\\n",
       "0  Doctor: Good afternoon, sir. Did you just have...   \n",
       "1  Doctor: Any medical issues running in your fam...   \n",
       "2  Doctor: Any pain in your muscles? Patient: No,...   \n",
       "3  Doctor: Anyone in family with any blood or hea...   \n",
       "4  Doctor: Can you tell me about your family? Did...   \n",
       "\n",
       "                                           exchanges  Emotional Reactions  \\\n",
       "0  [\"Doctor: Good afternoon, sir. Did you just ha...                    0   \n",
       "1  ['Doctor: Any medical issues running in your f...                    0   \n",
       "2  [\"Doctor: Any pain in your muscles? Patient: N...                    0   \n",
       "3  ['Doctor: Anyone in family with any blood or h...                    0   \n",
       "4  ['Doctor: Can you tell me about your family? D...                    0   \n",
       "\n",
       "   Interpretations  Explorations  \n",
       "0                0             0  \n",
       "1                0             0  \n",
       "2                0             0  \n",
       "3                0             0  \n",
       "4                0             0  "
      ]
     },
     "execution_count": 13,
     "metadata": {},
     "output_type": "execute_result"
    }
   ],
   "source": [
    "# Dictionary to store dataframes for analysis\n",
    "dataframes = {}\n",
    "\n",
    "# Load each file and store the dataframe with a label\n",
    "for label, path in file_paths.items():\n",
    "    df = pd.read_csv(path)\n",
    "    dataframes[label] = df\n",
    "\n",
    "# Check columns for one of the dataframes to understand what data we have for analysis\n",
    "dataframes['Test Set 1'].head()\n"
   ]
  },
  {
   "cell_type": "code",
   "execution_count": 14,
   "metadata": {},
   "outputs": [
    {
     "data": {
      "text/html": [
       "<div>\n",
       "<style scoped>\n",
       "    .dataframe tbody tr th:only-of-type {\n",
       "        vertical-align: middle;\n",
       "    }\n",
       "\n",
       "    .dataframe tbody tr th {\n",
       "        vertical-align: top;\n",
       "    }\n",
       "\n",
       "    .dataframe thead th {\n",
       "        text-align: right;\n",
       "    }\n",
       "</style>\n",
       "<table border=\"1\" class=\"dataframe\">\n",
       "  <thead>\n",
       "    <tr style=\"text-align: right;\">\n",
       "      <th></th>\n",
       "      <th>Emotional Reactions</th>\n",
       "      <th>Interpretations</th>\n",
       "      <th>Explorations</th>\n",
       "    </tr>\n",
       "  </thead>\n",
       "  <tbody>\n",
       "    <tr>\n",
       "      <th>Test Set 1</th>\n",
       "      <td>0</td>\n",
       "      <td>0</td>\n",
       "      <td>0</td>\n",
       "    </tr>\n",
       "    <tr>\n",
       "      <th>Test Set 2</th>\n",
       "      <td>4</td>\n",
       "      <td>4</td>\n",
       "      <td>4</td>\n",
       "    </tr>\n",
       "    <tr>\n",
       "      <th>Training Set</th>\n",
       "      <td>26</td>\n",
       "      <td>26</td>\n",
       "      <td>26</td>\n",
       "    </tr>\n",
       "    <tr>\n",
       "      <th>Validation Set</th>\n",
       "      <td>2</td>\n",
       "      <td>2</td>\n",
       "      <td>2</td>\n",
       "    </tr>\n",
       "  </tbody>\n",
       "</table>\n",
       "</div>"
      ],
      "text/plain": [
       "                Emotional Reactions  Interpretations  Explorations\n",
       "Test Set 1                        0                0             0\n",
       "Test Set 2                        4                4             4\n",
       "Training Set                     26               26            26\n",
       "Validation Set                    2                2             2"
      ]
     },
     "execution_count": 14,
     "metadata": {},
     "output_type": "execute_result"
    }
   ],
   "source": [
    "import numpy as np\n",
    "\n",
    "# Dictionary to hold the aggregated sums for each category and dataset\n",
    "category_sums = {'Emotional Reactions': [], 'Interpretations': [], 'Explorations': []}\n",
    "datasets_labels = []\n",
    "\n",
    "# Aggregate the sums for each category and dataset\n",
    "for label, df in dataframes.items():\n",
    "    datasets_labels.append(label)\n",
    "    for category in category_sums.keys():\n",
    "        category_sums[category].append(np.sum(df[category]))\n",
    "\n",
    "# Converting the aggregated data to a DataFrame for easier plotting\n",
    "category_sums_df = pd.DataFrame(category_sums, index=datasets_labels)\n",
    "category_sums_df\n"
   ]
  },
  {
   "cell_type": "code",
   "execution_count": 15,
   "metadata": {},
   "outputs": [
    {
     "data": {
      "image/png": "[encoded data removed]",
      "text/plain": [
       "<Figure size 1200x800 with 1 Axes>"
      ]
     },
     "metadata": {},
     "output_type": "display_data"
    }
   ],
   "source": [
    "# Plotting the aggregated sums for each category across the datasets\n",
    "category_sums_df.plot(kind='bar', figsize=(12, 8))\n",
    "plt.title('Sum of Emotional Reactions, Interpretations, and Explorations Across Datasets')\n",
    "plt.xlabel('Dataset')\n",
    "plt.ylabel('Total Count')\n",
    "plt.xticks(rotation=45)\n",
    "plt.legend(title='Category')\n",
    "plt.show()\n"
   ]
  },
  {
   "cell_type": "markdown",
   "metadata": {},
   "source": [
    "Roberta model "
   ]
  },
  {
   "cell_type": "code",
   "execution_count": 16,
   "metadata": {},
   "outputs": [
    {
     "name": "stdout",
     "output_type": "stream",
     "text": [
      "Training model for Emotional Reactions\n"
     ]
    },
    {
     "name": "stderr",
     "output_type": "stream",
     "text": [
      "Some weights of RobertaForSequenceClassification were not initialized from the model checkpoint at roberta-base and are newly initialized: ['classifier.dense.bias', 'classifier.dense.weight', 'classifier.out_proj.bias', 'classifier.out_proj.weight']\n",
      "You should probably TRAIN this model on a down-stream task to be able to use it for predictions and inference.\n",
      "/home/ai23mtech14004/.venv/lib/python3.11/site-packages/transformers/training_args.py:1454: FutureWarning: `evaluation_strategy` is deprecated and will be removed in version 4.46 of 🤗 Transformers. Use `eval_strategy` instead\n",
      "  warnings.warn(\n",
      "/home/ai23mtech14004/.venv/lib/python3.11/site-packages/torch/nn/parallel/_functions.py:68: UserWarning: Was asked to gather along dimension 0, but all input tensors were scalars; will instead unsqueeze and return a vector.\n",
      "  warnings.warn('Was asked to gather along dimension 0, but all '\n"
     ]
    },
    {
     "data": {
      "text/html": [
       "\n",
       "    <div>\n",
       "      \n",
       "      <progress value='153' max='153' style='width:300px; height:20px; vertical-align: middle;'></progress>\n",
       "      [153/153 01:46, Epoch 3/3]\n",
       "    </div>\n",
       "    <table border=\"1\" class=\"dataframe\">\n",
       "  <thead>\n",
       " <tr style=\"text-align: left;\">\n",
       "      <th>Epoch</th>\n",
       "      <th>Training Loss</th>\n",
       "      <th>Validation Loss</th>\n",
       "      <th>Accuracy</th>\n",
       "      <th>F1</th>\n",
       "      <th>Precision</th>\n",
       "      <th>Recall</th>\n",
       "    </tr>\n",
       "  </thead>\n",
       "  <tbody>\n",
       "    <tr>\n",
       "      <td>1</td>\n",
       "      <td>0.765300</td>\n",
       "      <td>0.515407</td>\n",
       "      <td>0.990000</td>\n",
       "      <td>0.985025</td>\n",
       "      <td>0.980100</td>\n",
       "      <td>0.990000</td>\n",
       "    </tr>\n",
       "    <tr>\n",
       "      <td>2</td>\n",
       "      <td>0.055900</td>\n",
       "      <td>0.058314</td>\n",
       "      <td>0.990000</td>\n",
       "      <td>0.985025</td>\n",
       "      <td>0.980100</td>\n",
       "      <td>0.990000</td>\n",
       "    </tr>\n",
       "    <tr>\n",
       "      <td>3</td>\n",
       "      <td>0.080000</td>\n",
       "      <td>0.062743</td>\n",
       "      <td>0.990000</td>\n",
       "      <td>0.985025</td>\n",
       "      <td>0.980100</td>\n",
       "      <td>0.990000</td>\n",
       "    </tr>\n",
       "  </tbody>\n",
       "</table><p>"
      ],
      "text/plain": [
       "<IPython.core.display.HTML object>"
      ]
     },
     "metadata": {},
     "output_type": "display_data"
    },
    {
     "name": "stderr",
     "output_type": "stream",
     "text": [
      "/home/ai23mtech14004/.venv/lib/python3.11/site-packages/sklearn/metrics/_classification.py:1509: UndefinedMetricWarning: Precision is ill-defined and being set to 0.0 in labels with no predicted samples. Use `zero_division` parameter to control this behavior.\n",
      "  _warn_prf(average, modifier, f\"{metric.capitalize()} is\", len(result))\n",
      "/home/ai23mtech14004/.venv/lib/python3.11/site-packages/torch/nn/parallel/_functions.py:68: UserWarning: Was asked to gather along dimension 0, but all input tensors were scalars; will instead unsqueeze and return a vector.\n",
      "  warnings.warn('Was asked to gather along dimension 0, but all '\n",
      "/home/ai23mtech14004/.venv/lib/python3.11/site-packages/sklearn/metrics/_classification.py:1509: UndefinedMetricWarning: Precision is ill-defined and being set to 0.0 in labels with no predicted samples. Use `zero_division` parameter to control this behavior.\n",
      "  _warn_prf(average, modifier, f\"{metric.capitalize()} is\", len(result))\n",
      "/home/ai23mtech14004/.venv/lib/python3.11/site-packages/torch/nn/parallel/_functions.py:68: UserWarning: Was asked to gather along dimension 0, but all input tensors were scalars; will instead unsqueeze and return a vector.\n",
      "  warnings.warn('Was asked to gather along dimension 0, but all '\n",
      "/home/ai23mtech14004/.venv/lib/python3.11/site-packages/sklearn/metrics/_classification.py:1509: UndefinedMetricWarning: Precision is ill-defined and being set to 0.0 in labels with no predicted samples. Use `zero_division` parameter to control this behavior.\n",
      "  _warn_prf(average, modifier, f\"{metric.capitalize()} is\", len(result))\n",
      "/home/ai23mtech14004/.venv/lib/python3.11/site-packages/torch/nn/parallel/_functions.py:68: UserWarning: Was asked to gather along dimension 0, but all input tensors were scalars; will instead unsqueeze and return a vector.\n",
      "  warnings.warn('Was asked to gather along dimension 0, but all '\n"
     ]
    },
    {
     "data": {
      "text/html": [
       "\n",
       "    <div>\n",
       "      \n",
       "      <progress value='10' max='5' style='width:300px; height:20px; vertical-align: middle;'></progress>\n",
       "      [5/5 00:03]\n",
       "    </div>\n",
       "    "
      ],
      "text/plain": [
       "<IPython.core.display.HTML object>"
      ]
     },
     "metadata": {},
     "output_type": "display_data"
    },
    {
     "name": "stdout",
     "output_type": "stream",
     "text": [
      "Results for test1: {'eval_loss': 0.007833369076251984, 'eval_accuracy': 1.0, 'eval_f1': 1.0, 'eval_precision': 1.0, 'eval_recall': 1.0, 'eval_runtime': 2.3171, 'eval_samples_per_second': 86.316, 'eval_steps_per_second': 2.158, 'epoch': 3.0}\n"
     ]
    },
    {
     "name": "stderr",
     "output_type": "stream",
     "text": [
      "/home/ai23mtech14004/.venv/lib/python3.11/site-packages/torch/nn/parallel/_functions.py:68: UserWarning: Was asked to gather along dimension 0, but all input tensors were scalars; will instead unsqueeze and return a vector.\n",
      "  warnings.warn('Was asked to gather along dimension 0, but all '\n",
      "/home/ai23mtech14004/.venv/lib/python3.11/site-packages/sklearn/metrics/_classification.py:1509: UndefinedMetricWarning: Precision is ill-defined and being set to 0.0 in labels with no predicted samples. Use `zero_division` parameter to control this behavior.\n",
      "  _warn_prf(average, modifier, f\"{metric.capitalize()} is\", len(result))\n"
     ]
    },
    {
     "name": "stdout",
     "output_type": "stream",
     "text": [
      "Results for test2: {'eval_loss': 0.06288659572601318, 'eval_accuracy': 0.99, 'eval_f1': 0.9850251256281406, 'eval_precision': 0.9801000000000001, 'eval_recall': 0.99, 'eval_runtime': 1.9844, 'eval_samples_per_second': 100.789, 'eval_steps_per_second': 2.52, 'epoch': 3.0}\n",
      "Training model for Interpretations\n"
     ]
    },
    {
     "name": "stderr",
     "output_type": "stream",
     "text": [
      "Some weights of RobertaForSequenceClassification were not initialized from the model checkpoint at roberta-base and are newly initialized: ['classifier.dense.bias', 'classifier.dense.weight', 'classifier.out_proj.bias', 'classifier.out_proj.weight']\n",
      "You should probably TRAIN this model on a down-stream task to be able to use it for predictions and inference.\n",
      "/home/ai23mtech14004/.venv/lib/python3.11/site-packages/transformers/training_args.py:1454: FutureWarning: `evaluation_strategy` is deprecated and will be removed in version 4.46 of 🤗 Transformers. Use `eval_strategy` instead\n",
      "  warnings.warn(\n",
      "/home/ai23mtech14004/.venv/lib/python3.11/site-packages/torch/nn/parallel/_functions.py:68: UserWarning: Was asked to gather along dimension 0, but all input tensors were scalars; will instead unsqueeze and return a vector.\n",
      "  warnings.warn('Was asked to gather along dimension 0, but all '\n"
     ]
    },
    {
     "data": {
      "text/html": [
       "\n",
       "    <div>\n",
       "      \n",
       "      <progress value='153' max='153' style='width:300px; height:20px; vertical-align: middle;'></progress>\n",
       "      [153/153 01:37, Epoch 3/3]\n",
       "    </div>\n",
       "    <table border=\"1\" class=\"dataframe\">\n",
       "  <thead>\n",
       " <tr style=\"text-align: left;\">\n",
       "      <th>Epoch</th>\n",
       "      <th>Training Loss</th>\n",
       "      <th>Validation Loss</th>\n",
       "      <th>Accuracy</th>\n",
       "      <th>F1</th>\n",
       "      <th>Precision</th>\n",
       "      <th>Recall</th>\n",
       "    </tr>\n",
       "  </thead>\n",
       "  <tbody>\n",
       "    <tr>\n",
       "      <td>1</td>\n",
       "      <td>0.765300</td>\n",
       "      <td>0.515407</td>\n",
       "      <td>0.990000</td>\n",
       "      <td>0.985025</td>\n",
       "      <td>0.980100</td>\n",
       "      <td>0.990000</td>\n",
       "    </tr>\n",
       "    <tr>\n",
       "      <td>2</td>\n",
       "      <td>0.055900</td>\n",
       "      <td>0.058314</td>\n",
       "      <td>0.990000</td>\n",
       "      <td>0.985025</td>\n",
       "      <td>0.980100</td>\n",
       "      <td>0.990000</td>\n",
       "    </tr>\n",
       "    <tr>\n",
       "      <td>3</td>\n",
       "      <td>0.080000</td>\n",
       "      <td>0.062743</td>\n",
       "      <td>0.990000</td>\n",
       "      <td>0.985025</td>\n",
       "      <td>0.980100</td>\n",
       "      <td>0.990000</td>\n",
       "    </tr>\n",
       "  </tbody>\n",
       "</table><p>"
      ],
      "text/plain": [
       "<IPython.core.display.HTML object>"
      ]
     },
     "metadata": {},
     "output_type": "display_data"
    },
    {
     "name": "stderr",
     "output_type": "stream",
     "text": [
      "/home/ai23mtech14004/.venv/lib/python3.11/site-packages/sklearn/metrics/_classification.py:1509: UndefinedMetricWarning: Precision is ill-defined and being set to 0.0 in labels with no predicted samples. Use `zero_division` parameter to control this behavior.\n",
      "  _warn_prf(average, modifier, f\"{metric.capitalize()} is\", len(result))\n",
      "/home/ai23mtech14004/.venv/lib/python3.11/site-packages/torch/nn/parallel/_functions.py:68: UserWarning: Was asked to gather along dimension 0, but all input tensors were scalars; will instead unsqueeze and return a vector.\n",
      "  warnings.warn('Was asked to gather along dimension 0, but all '\n",
      "/home/ai23mtech14004/.venv/lib/python3.11/site-packages/sklearn/metrics/_classification.py:1509: UndefinedMetricWarning: Precision is ill-defined and being set to 0.0 in labels with no predicted samples. Use `zero_division` parameter to control this behavior.\n",
      "  _warn_prf(average, modifier, f\"{metric.capitalize()} is\", len(result))\n",
      "/home/ai23mtech14004/.venv/lib/python3.11/site-packages/torch/nn/parallel/_functions.py:68: UserWarning: Was asked to gather along dimension 0, but all input tensors were scalars; will instead unsqueeze and return a vector.\n",
      "  warnings.warn('Was asked to gather along dimension 0, but all '\n",
      "/home/ai23mtech14004/.venv/lib/python3.11/site-packages/sklearn/metrics/_classification.py:1509: UndefinedMetricWarning: Precision is ill-defined and being set to 0.0 in labels with no predicted samples. Use `zero_division` parameter to control this behavior.\n",
      "  _warn_prf(average, modifier, f\"{metric.capitalize()} is\", len(result))\n",
      "/home/ai23mtech14004/.venv/lib/python3.11/site-packages/torch/nn/parallel/_functions.py:68: UserWarning: Was asked to gather along dimension 0, but all input tensors were scalars; will instead unsqueeze and return a vector.\n",
      "  warnings.warn('Was asked to gather along dimension 0, but all '\n"
     ]
    },
    {
     "data": {
      "text/html": [
       "\n",
       "    <div>\n",
       "      \n",
       "      <progress value='10' max='5' style='width:300px; height:20px; vertical-align: middle;'></progress>\n",
       "      [5/5 00:02]\n",
       "    </div>\n",
       "    "
      ],
      "text/plain": [
       "<IPython.core.display.HTML object>"
      ]
     },
     "metadata": {},
     "output_type": "display_data"
    },
    {
     "name": "stdout",
     "output_type": "stream",
     "text": [
      "Results for test1: {'eval_loss': 0.007833369076251984, 'eval_accuracy': 1.0, 'eval_f1': 1.0, 'eval_precision': 1.0, 'eval_recall': 1.0, 'eval_runtime': 1.6834, 'eval_samples_per_second': 118.807, 'eval_steps_per_second': 2.97, 'epoch': 3.0}\n"
     ]
    },
    {
     "name": "stderr",
     "output_type": "stream",
     "text": [
      "/home/ai23mtech14004/.venv/lib/python3.11/site-packages/torch/nn/parallel/_functions.py:68: UserWarning: Was asked to gather along dimension 0, but all input tensors were scalars; will instead unsqueeze and return a vector.\n",
      "  warnings.warn('Was asked to gather along dimension 0, but all '\n",
      "/home/ai23mtech14004/.venv/lib/python3.11/site-packages/sklearn/metrics/_classification.py:1509: UndefinedMetricWarning: Precision is ill-defined and being set to 0.0 in labels with no predicted samples. Use `zero_division` parameter to control this behavior.\n",
      "  _warn_prf(average, modifier, f\"{metric.capitalize()} is\", len(result))\n"
     ]
    },
    {
     "name": "stdout",
     "output_type": "stream",
     "text": [
      "Results for test2: {'eval_loss': 0.06288659572601318, 'eval_accuracy': 0.99, 'eval_f1': 0.9850251256281406, 'eval_precision': 0.9801000000000001, 'eval_recall': 0.99, 'eval_runtime': 1.642, 'eval_samples_per_second': 121.802, 'eval_steps_per_second': 3.045, 'epoch': 3.0}\n",
      "Training model for Explorations\n"
     ]
    },
    {
     "name": "stderr",
     "output_type": "stream",
     "text": [
      "Some weights of RobertaForSequenceClassification were not initialized from the model checkpoint at roberta-base and are newly initialized: ['classifier.dense.bias', 'classifier.dense.weight', 'classifier.out_proj.bias', 'classifier.out_proj.weight']\n",
      "You should probably TRAIN this model on a down-stream task to be able to use it for predictions and inference.\n",
      "/home/ai23mtech14004/.venv/lib/python3.11/site-packages/transformers/training_args.py:1454: FutureWarning: `evaluation_strategy` is deprecated and will be removed in version 4.46 of 🤗 Transformers. Use `eval_strategy` instead\n",
      "  warnings.warn(\n",
      "/home/ai23mtech14004/.venv/lib/python3.11/site-packages/torch/nn/parallel/_functions.py:68: UserWarning: Was asked to gather along dimension 0, but all input tensors were scalars; will instead unsqueeze and return a vector.\n",
      "  warnings.warn('Was asked to gather along dimension 0, but all '\n"
     ]
    },
    {
     "data": {
      "text/html": [
       "\n",
       "    <div>\n",
       "      \n",
       "      <progress value='153' max='153' style='width:300px; height:20px; vertical-align: middle;'></progress>\n",
       "      [153/153 01:37, Epoch 3/3]\n",
       "    </div>\n",
       "    <table border=\"1\" class=\"dataframe\">\n",
       "  <thead>\n",
       " <tr style=\"text-align: left;\">\n",
       "      <th>Epoch</th>\n",
       "      <th>Training Loss</th>\n",
       "      <th>Validation Loss</th>\n",
       "      <th>Accuracy</th>\n",
       "      <th>F1</th>\n",
       "      <th>Precision</th>\n",
       "      <th>Recall</th>\n",
       "    </tr>\n",
       "  </thead>\n",
       "  <tbody>\n",
       "    <tr>\n",
       "      <td>1</td>\n",
       "      <td>0.765300</td>\n",
       "      <td>0.515407</td>\n",
       "      <td>0.990000</td>\n",
       "      <td>0.985025</td>\n",
       "      <td>0.980100</td>\n",
       "      <td>0.990000</td>\n",
       "    </tr>\n",
       "    <tr>\n",
       "      <td>2</td>\n",
       "      <td>0.055900</td>\n",
       "      <td>0.058314</td>\n",
       "      <td>0.990000</td>\n",
       "      <td>0.985025</td>\n",
       "      <td>0.980100</td>\n",
       "      <td>0.990000</td>\n",
       "    </tr>\n",
       "    <tr>\n",
       "      <td>3</td>\n",
       "      <td>0.080000</td>\n",
       "      <td>0.062743</td>\n",
       "      <td>0.990000</td>\n",
       "      <td>0.985025</td>\n",
       "      <td>0.980100</td>\n",
       "      <td>0.990000</td>\n",
       "    </tr>\n",
       "  </tbody>\n",
       "</table><p>"
      ],
      "text/plain": [
       "<IPython.core.display.HTML object>"
      ]
     },
     "metadata": {},
     "output_type": "display_data"
    },
    {
     "name": "stderr",
     "output_type": "stream",
     "text": [
      "/home/ai23mtech14004/.venv/lib/python3.11/site-packages/sklearn/metrics/_classification.py:1509: UndefinedMetricWarning: Precision is ill-defined and being set to 0.0 in labels with no predicted samples. Use `zero_division` parameter to control this behavior.\n",
      "  _warn_prf(average, modifier, f\"{metric.capitalize()} is\", len(result))\n",
      "/home/ai23mtech14004/.venv/lib/python3.11/site-packages/torch/nn/parallel/_functions.py:68: UserWarning: Was asked to gather along dimension 0, but all input tensors were scalars; will instead unsqueeze and return a vector.\n",
      "  warnings.warn('Was asked to gather along dimension 0, but all '\n",
      "/home/ai23mtech14004/.venv/lib/python3.11/site-packages/sklearn/metrics/_classification.py:1509: UndefinedMetricWarning: Precision is ill-defined and being set to 0.0 in labels with no predicted samples. Use `zero_division` parameter to control this behavior.\n",
      "  _warn_prf(average, modifier, f\"{metric.capitalize()} is\", len(result))\n",
      "/home/ai23mtech14004/.venv/lib/python3.11/site-packages/torch/nn/parallel/_functions.py:68: UserWarning: Was asked to gather along dimension 0, but all input tensors were scalars; will instead unsqueeze and return a vector.\n",
      "  warnings.warn('Was asked to gather along dimension 0, but all '\n",
      "/home/ai23mtech14004/.venv/lib/python3.11/site-packages/sklearn/metrics/_classification.py:1509: UndefinedMetricWarning: Precision is ill-defined and being set to 0.0 in labels with no predicted samples. Use `zero_division` parameter to control this behavior.\n",
      "  _warn_prf(average, modifier, f\"{metric.capitalize()} is\", len(result))\n",
      "/home/ai23mtech14004/.venv/lib/python3.11/site-packages/torch/nn/parallel/_functions.py:68: UserWarning: Was asked to gather along dimension 0, but all input tensors were scalars; will instead unsqueeze and return a vector.\n",
      "  warnings.warn('Was asked to gather along dimension 0, but all '\n"
     ]
    },
    {
     "data": {
      "text/html": [
       "\n",
       "    <div>\n",
       "      \n",
       "      <progress value='10' max='5' style='width:300px; height:20px; vertical-align: middle;'></progress>\n",
       "      [5/5 00:02]\n",
       "    </div>\n",
       "    "
      ],
      "text/plain": [
       "<IPython.core.display.HTML object>"
      ]
     },
     "metadata": {},
     "output_type": "display_data"
    },
    {
     "name": "stdout",
     "output_type": "stream",
     "text": [
      "Results for test1: {'eval_loss': 0.007833369076251984, 'eval_accuracy': 1.0, 'eval_f1': 1.0, 'eval_precision': 1.0, 'eval_recall': 1.0, 'eval_runtime': 1.7002, 'eval_samples_per_second': 117.63, 'eval_steps_per_second': 2.941, 'epoch': 3.0}\n"
     ]
    },
    {
     "name": "stderr",
     "output_type": "stream",
     "text": [
      "/home/ai23mtech14004/.venv/lib/python3.11/site-packages/torch/nn/parallel/_functions.py:68: UserWarning: Was asked to gather along dimension 0, but all input tensors were scalars; will instead unsqueeze and return a vector.\n",
      "  warnings.warn('Was asked to gather along dimension 0, but all '\n"
     ]
    },
    {
     "name": "stdout",
     "output_type": "stream",
     "text": [
      "Results for test2: {'eval_loss': 0.06288659572601318, 'eval_accuracy': 0.99, 'eval_f1': 0.9850251256281406, 'eval_precision': 0.9801000000000001, 'eval_recall': 0.99, 'eval_runtime': 1.6907, 'eval_samples_per_second': 118.293, 'eval_steps_per_second': 2.957, 'epoch': 3.0}\n"
     ]
    },
    {
     "name": "stderr",
     "output_type": "stream",
     "text": [
      "/home/ai23mtech14004/.venv/lib/python3.11/site-packages/sklearn/metrics/_classification.py:1509: UndefinedMetricWarning: Precision is ill-defined and being set to 0.0 in labels with no predicted samples. Use `zero_division` parameter to control this behavior.\n",
      "  _warn_prf(average, modifier, f\"{metric.capitalize()} is\", len(result))\n"
     ]
    }
   ],
   "source": [
    "import pandas as pd\n",
    "from transformers import RobertaTokenizer, RobertaForSequenceClassification, Trainer, TrainingArguments\n",
    "from torch.utils.data import Dataset\n",
    "import torch\n",
    "import numpy as np\n",
    "from sklearn.metrics import accuracy_score, precision_recall_fscore_support\n",
    "\n",
    "# Define paths to the datasets\n",
    "dataset_paths = {\n",
    "    \"train\": \"/home/ai23mtech14004/CS5803_NLP/Code/21_BERT/GPT_annotated_full_data/MTS-Dialog-TrainingSet-Exchanges_Explorations_annotated.csv\",\n",
    "    \"validation\": \"/home/ai23mtech14004/CS5803_NLP/Code/21_BERT/GPT_annotated_full_data/MTS-Dialog-ValidationSet-Exchanges_Explorations_annotated.csv\",\n",
    "    \"test1\": \"/home/ai23mtech14004/CS5803_NLP/Code/21_BERT/GPT_annotated_full_data/MTS-Dialog-TestSet-1-Exchanges_Explorations_annotated.csv\",\n",
    "    \"test2\": \"/home/ai23mtech14004/CS5803_NLP/Code/21_BERT/GPT_annotated_full_data/MTS-Dialog-TestSet-2-Exchanges_Explorations_annotated.csv\"\n",
    "}\n",
    "\n",
    "# Load datasets\n",
    "datasets = {name: pd.read_csv(path) for name, path in dataset_paths.items()}\n",
    "\n",
    "# Initialize tokenizer for RoBERTa\n",
    "tokenizer = RobertaTokenizer.from_pretrained('roberta-base')\n",
    "\n",
    "class EmpathyDataset(Dataset):\n",
    "    def __init__(self, encodings, labels):\n",
    "        self.encodings = encodings\n",
    "        self.labels = labels\n",
    "\n",
    "    def __getitem__(self, idx):\n",
    "        item = {key: torch.tensor(val[idx]) for key, val in self.encodings.items()}\n",
    "        item['labels'] = torch.tensor(self.labels[idx])\n",
    "        return item\n",
    "\n",
    "    def __len__(self):\n",
    "        return len(self.labels)\n",
    "\n",
    "def prepare_dataset(texts, labels):\n",
    "    encodings = tokenizer(texts.tolist(), truncation=True, padding=True, max_length=512)\n",
    "    return EmpathyDataset(encodings, labels.tolist())\n",
    "\n",
    "def compute_metrics(p):\n",
    "    predictions, labels = p.predictions, p.label_ids\n",
    "    predictions = np.argmax(predictions, axis=1)\n",
    "    precision, recall, f1, _ = precision_recall_fscore_support(labels, predictions, average='weighted')\n",
    "    acc = accuracy_score(labels, predictions)\n",
    "    return {\n",
    "        'accuracy': acc,\n",
    "        'f1': f1,\n",
    "        'precision': precision,\n",
    "        'recall': recall\n",
    "    }\n",
    "\n",
    "# Prepare datasets for each label category\n",
    "category_datasets = {}\n",
    "for category in ['Emotional Reactions', 'Interpretations', 'Explorations']:\n",
    "    category_datasets[category] = {\n",
    "        name: prepare_dataset(dataset['dialogue'], dataset[category])\n",
    "        for name, dataset in datasets.items()\n",
    "    }\n",
    "\n",
    "# Train and evaluate models for each category\n",
    "for category, data in category_datasets.items():\n",
    "    print(f\"Training model for {category}\")\n",
    "    model = RobertaForSequenceClassification.from_pretrained('roberta-base', num_labels=3)  # Adjust num_labels as necessary\n",
    "\n",
    "    training_args = TrainingArguments(\n",
    "        output_dir=f'./results/{category}_roberta',  # Output directory includes model name and category\n",
    "        num_train_epochs=3,\n",
    "        per_device_train_batch_size=8,\n",
    "        per_device_eval_batch_size=16,\n",
    "        warmup_steps=500,\n",
    "        weight_decay=0.01,\n",
    "        logging_dir=f'./logs/{category}_roberta',  # Logging directory includes model name and category\n",
    "        logging_steps=10,\n",
    "        evaluation_strategy=\"epoch\",\n",
    "    )\n",
    "\n",
    "    trainer = Trainer(\n",
    "        model=model,\n",
    "        args=training_args,\n",
    "        train_dataset=data['train'],\n",
    "        eval_dataset=data['validation'],\n",
    "        compute_metrics=compute_metrics\n",
    "    )\n",
    "\n",
    "    # Train the model\n",
    "    trainer.train()\n",
    "\n",
    "    # Evaluate on test sets and save results with unique file names\n",
    "    results = {}\n",
    "    for test_name in ['test1', 'test2']:\n",
    "        test_results = trainer.evaluate(data[test_name])\n",
    "        print(f\"Results for {test_name}: {test_results}\")\n",
    "        results[test_name] = test_results\n",
    "\n",
    "    results_df = pd.DataFrame.from_dict({test_name: results[test_name] for test_name in ['test1', 'test2']})\n",
    "    results_df.to_csv(f'./results/{category}_roberta_evaluation_metrics.csv', index=False)\n"
   ]
  },
  {
   "cell_type": "code",
   "execution_count": 17,
   "metadata": {},
   "outputs": [],
   "source": [
    "# from sklearn.metrics import accuracy_score, precision_recall_fscore_support, roc_auc_score\n",
    "\n",
    "# def compute_metrics(p):\n",
    "#     logits, labels = p.predictions, p.label_ids\n",
    "#     predictions = np.argmax(logits, axis=1)\n",
    "#     precision, recall, f1, _ = precision_recall_fscore_support(labels, predictions, average='weighted')\n",
    "#     acc = accuracy_score(labels, predictions)\n",
    "#     # Calculate ROC-AUC if it's a binary classification; adapt as needed\n",
    "#     # roc_auc = roc_auc_score(labels, softmax(logits, axis=1)[:, 1])  # Only for binary classification\n",
    "#     return {\n",
    "#         'accuracy': acc,\n",
    "#         'f1': f1,\n",
    "#         'precision': precision,\n",
    "#         'recall': recall,\n",
    "#         # 'roc_auc': roc_auc  # Uncomment if binary classification\n",
    "#     }\n",
    "# #\n",
    "# # Use this compute_metrics function in the Trainer configuration\n",
    "# trainer = Trainer(\n",
    "#     model=model,\n",
    "#     args=training_args,\n",
    "#     train_dataset=data['train'],\n",
    "#     eval_dataset=data['validation'],\n",
    "#     compute_metrics=compute_metrics\n",
    "# )\n"
   ]
  },
  {
   "cell_type": "code",
   "execution_count": 18,
   "metadata": {},
   "outputs": [],
   "source": [
    "# import pandas as pd\n",
    "\n",
    "# results = {}\n",
    "# for test_name in ['test1', 'test2']:\n",
    "#     test_results = trainer.evaluate(data[test_name])\n",
    "#     print(f\"Results for {test_name}: {test_results}\")\n",
    "#     results[test_name] = test_results\n",
    "\n",
    "# # Convert results to DataFrame and save to CSV\n",
    "# results_df = pd.DataFrame.from_dict(results)\n",
    "# results_df.to_csv(f'./results/{category}_evaluation_metrics.csv', index=False)\n"
   ]
  },
  {
   "cell_type": "code",
   "execution_count": null,
   "metadata": {},
   "outputs": [],
   "source": []
  },
  {
   "cell_type": "markdown",
   "metadata": {},
   "source": [
    "Using GPT-2"
   ]
  },
  {
   "cell_type": "code",
   "execution_count": 6,
   "metadata": {},
   "outputs": [
    {
     "name": "stdout",
     "output_type": "stream",
     "text": [
      "Training model for Emotional Reactions\n"
     ]
    },
    {
     "name": "stderr",
     "output_type": "stream",
     "text": [
      "Some weights of GPT2ForSequenceClassification were not initialized from the model checkpoint at gpt2 and are newly initialized: ['score.weight']\n",
      "You should probably TRAIN this model on a down-stream task to be able to use it for predictions and inference.\n",
      "/home/ai23mtech14004/.venv/lib/python3.11/site-packages/transformers/training_args.py:1454: FutureWarning: `evaluation_strategy` is deprecated and will be removed in version 4.46 of 🤗 Transformers. Use `eval_strategy` instead\n",
      "  warnings.warn(\n",
      "/home/ai23mtech14004/.venv/lib/python3.11/site-packages/torch/nn/parallel/_functions.py:68: UserWarning: Was asked to gather along dimension 0, but all input tensors were scalars; will instead unsqueeze and return a vector.\n",
      "  warnings.warn('Was asked to gather along dimension 0, but all '\n"
     ]
    },
    {
     "data": {
      "text/html": [
       "\n",
       "    <div>\n",
       "      \n",
       "      <progress value='153' max='153' style='width:300px; height:20px; vertical-align: middle;'></progress>\n",
       "      [153/153 01:56, Epoch 3/3]\n",
       "    </div>\n",
       "    <table border=\"1\" class=\"dataframe\">\n",
       "  <thead>\n",
       " <tr style=\"text-align: left;\">\n",
       "      <th>Epoch</th>\n",
       "      <th>Training Loss</th>\n",
       "      <th>Validation Loss</th>\n",
       "      <th>Accuracy</th>\n",
       "      <th>F1</th>\n",
       "      <th>Precision</th>\n",
       "      <th>Recall</th>\n",
       "    </tr>\n",
       "  </thead>\n",
       "  <tbody>\n",
       "    <tr>\n",
       "      <td>1</td>\n",
       "      <td>0.084700</td>\n",
       "      <td>0.042329</td>\n",
       "      <td>0.990000</td>\n",
       "      <td>0.985025</td>\n",
       "      <td>0.980100</td>\n",
       "      <td>0.990000</td>\n",
       "    </tr>\n",
       "    <tr>\n",
       "      <td>2</td>\n",
       "      <td>0.045000</td>\n",
       "      <td>0.059811</td>\n",
       "      <td>0.980000</td>\n",
       "      <td>0.980000</td>\n",
       "      <td>0.980000</td>\n",
       "      <td>0.980000</td>\n",
       "    </tr>\n",
       "    <tr>\n",
       "      <td>3</td>\n",
       "      <td>0.123000</td>\n",
       "      <td>0.154043</td>\n",
       "      <td>0.970000</td>\n",
       "      <td>0.974924</td>\n",
       "      <td>0.979898</td>\n",
       "      <td>0.970000</td>\n",
       "    </tr>\n",
       "  </tbody>\n",
       "</table><p>"
      ],
      "text/plain": [
       "<IPython.core.display.HTML object>"
      ]
     },
     "metadata": {},
     "output_type": "display_data"
    },
    {
     "name": "stderr",
     "output_type": "stream",
     "text": [
      "/home/ai23mtech14004/.venv/lib/python3.11/site-packages/sklearn/metrics/_classification.py:1509: UndefinedMetricWarning: Precision is ill-defined and being set to 0.0 in labels with no predicted samples. Use `zero_division` parameter to control this behavior.\n",
      "  _warn_prf(average, modifier, f\"{metric.capitalize()} is\", len(result))\n",
      "/home/ai23mtech14004/.venv/lib/python3.11/site-packages/torch/nn/parallel/_functions.py:68: UserWarning: Was asked to gather along dimension 0, but all input tensors were scalars; will instead unsqueeze and return a vector.\n",
      "  warnings.warn('Was asked to gather along dimension 0, but all '\n",
      "/home/ai23mtech14004/.venv/lib/python3.11/site-packages/sklearn/metrics/_classification.py:1509: UndefinedMetricWarning: Precision is ill-defined and being set to 0.0 in labels with no predicted samples. Use `zero_division` parameter to control this behavior.\n",
      "  _warn_prf(average, modifier, f\"{metric.capitalize()} is\", len(result))\n",
      "/home/ai23mtech14004/.venv/lib/python3.11/site-packages/sklearn/metrics/_classification.py:1509: UndefinedMetricWarning: Recall is ill-defined and being set to 0.0 in labels with no true samples. Use `zero_division` parameter to control this behavior.\n",
      "  _warn_prf(average, modifier, f\"{metric.capitalize()} is\", len(result))\n",
      "/home/ai23mtech14004/.venv/lib/python3.11/site-packages/torch/nn/parallel/_functions.py:68: UserWarning: Was asked to gather along dimension 0, but all input tensors were scalars; will instead unsqueeze and return a vector.\n",
      "  warnings.warn('Was asked to gather along dimension 0, but all '\n",
      "/home/ai23mtech14004/.venv/lib/python3.11/site-packages/sklearn/metrics/_classification.py:1509: UndefinedMetricWarning: Precision is ill-defined and being set to 0.0 in labels with no predicted samples. Use `zero_division` parameter to control this behavior.\n",
      "  _warn_prf(average, modifier, f\"{metric.capitalize()} is\", len(result))\n",
      "/home/ai23mtech14004/.venv/lib/python3.11/site-packages/sklearn/metrics/_classification.py:1509: UndefinedMetricWarning: Recall is ill-defined and being set to 0.0 in labels with no true samples. Use `zero_division` parameter to control this behavior.\n",
      "  _warn_prf(average, modifier, f\"{metric.capitalize()} is\", len(result))\n",
      "/home/ai23mtech14004/.venv/lib/python3.11/site-packages/torch/nn/parallel/_functions.py:68: UserWarning: Was asked to gather along dimension 0, but all input tensors were scalars; will instead unsqueeze and return a vector.\n",
      "  warnings.warn('Was asked to gather along dimension 0, but all '\n"
     ]
    },
    {
     "data": {
      "text/html": [
       "\n",
       "    <div>\n",
       "      \n",
       "      <progress value='10' max='5' style='width:300px; height:20px; vertical-align: middle;'></progress>\n",
       "      [5/5 00:05]\n",
       "    </div>\n",
       "    "
      ],
      "text/plain": [
       "<IPython.core.display.HTML object>"
      ]
     },
     "metadata": {},
     "output_type": "display_data"
    },
    {
     "name": "stderr",
     "output_type": "stream",
     "text": [
      "/home/ai23mtech14004/.venv/lib/python3.11/site-packages/sklearn/metrics/_classification.py:1509: UndefinedMetricWarning: Recall is ill-defined and being set to 0.0 in labels with no true samples. Use `zero_division` parameter to control this behavior.\n",
      "  _warn_prf(average, modifier, f\"{metric.capitalize()} is\", len(result))\n",
      "/home/ai23mtech14004/.venv/lib/python3.11/site-packages/torch/nn/parallel/_functions.py:68: UserWarning: Was asked to gather along dimension 0, but all input tensors were scalars; will instead unsqueeze and return a vector.\n",
      "  warnings.warn('Was asked to gather along dimension 0, but all '\n"
     ]
    },
    {
     "name": "stdout",
     "output_type": "stream",
     "text": [
      "Results for test1: {'eval_loss': 0.06535625457763672, 'eval_accuracy': 0.975, 'eval_f1': 0.9873417721518988, 'eval_precision': 1.0, 'eval_recall': 0.975, 'eval_runtime': 3.1282, 'eval_samples_per_second': 63.935, 'eval_steps_per_second': 1.598, 'epoch': 3.0}\n"
     ]
    },
    {
     "name": "stderr",
     "output_type": "stream",
     "text": [
      "/home/ai23mtech14004/.venv/lib/python3.11/site-packages/sklearn/metrics/_classification.py:1509: UndefinedMetricWarning: Precision is ill-defined and being set to 0.0 in labels with no predicted samples. Use `zero_division` parameter to control this behavior.\n",
      "  _warn_prf(average, modifier, f\"{metric.capitalize()} is\", len(result))\n",
      "/home/ai23mtech14004/.venv/lib/python3.11/site-packages/sklearn/metrics/_classification.py:1509: UndefinedMetricWarning: Recall is ill-defined and being set to 0.0 in labels with no true samples. Use `zero_division` parameter to control this behavior.\n",
      "  _warn_prf(average, modifier, f\"{metric.capitalize()} is\", len(result))\n"
     ]
    },
    {
     "name": "stdout",
     "output_type": "stream",
     "text": [
      "Results for test2: {'eval_loss': 0.10435330122709274, 'eval_accuracy': 0.97, 'eval_f1': 0.9774045801526718, 'eval_precision': 0.9849230769230769, 'eval_recall': 0.97, 'eval_runtime': 3.1517, 'eval_samples_per_second': 63.459, 'eval_steps_per_second': 1.586, 'epoch': 3.0}\n",
      "Training model for Interpretations\n"
     ]
    },
    {
     "name": "stderr",
     "output_type": "stream",
     "text": [
      "Some weights of GPT2ForSequenceClassification were not initialized from the model checkpoint at gpt2 and are newly initialized: ['score.weight']\n",
      "You should probably TRAIN this model on a down-stream task to be able to use it for predictions and inference.\n",
      "/home/ai23mtech14004/.venv/lib/python3.11/site-packages/transformers/training_args.py:1454: FutureWarning: `evaluation_strategy` is deprecated and will be removed in version 4.46 of 🤗 Transformers. Use `eval_strategy` instead\n",
      "  warnings.warn(\n",
      "/home/ai23mtech14004/.venv/lib/python3.11/site-packages/torch/nn/parallel/_functions.py:68: UserWarning: Was asked to gather along dimension 0, but all input tensors were scalars; will instead unsqueeze and return a vector.\n",
      "  warnings.warn('Was asked to gather along dimension 0, but all '\n"
     ]
    },
    {
     "data": {
      "text/html": [
       "\n",
       "    <div>\n",
       "      \n",
       "      <progress value='153' max='153' style='width:300px; height:20px; vertical-align: middle;'></progress>\n",
       "      [153/153 02:05, Epoch 3/3]\n",
       "    </div>\n",
       "    <table border=\"1\" class=\"dataframe\">\n",
       "  <thead>\n",
       " <tr style=\"text-align: left;\">\n",
       "      <th>Epoch</th>\n",
       "      <th>Training Loss</th>\n",
       "      <th>Validation Loss</th>\n",
       "      <th>Accuracy</th>\n",
       "      <th>F1</th>\n",
       "      <th>Precision</th>\n",
       "      <th>Recall</th>\n",
       "    </tr>\n",
       "  </thead>\n",
       "  <tbody>\n",
       "    <tr>\n",
       "      <td>1</td>\n",
       "      <td>1.114100</td>\n",
       "      <td>0.875176</td>\n",
       "      <td>0.710000</td>\n",
       "      <td>0.826941</td>\n",
       "      <td>0.990000</td>\n",
       "      <td>0.710000</td>\n",
       "    </tr>\n",
       "    <tr>\n",
       "      <td>2</td>\n",
       "      <td>0.076800</td>\n",
       "      <td>0.173328</td>\n",
       "      <td>0.980000</td>\n",
       "      <td>0.980000</td>\n",
       "      <td>0.980000</td>\n",
       "      <td>0.980000</td>\n",
       "    </tr>\n",
       "    <tr>\n",
       "      <td>3</td>\n",
       "      <td>0.100300</td>\n",
       "      <td>0.062637</td>\n",
       "      <td>0.990000</td>\n",
       "      <td>0.985025</td>\n",
       "      <td>0.980100</td>\n",
       "      <td>0.990000</td>\n",
       "    </tr>\n",
       "  </tbody>\n",
       "</table><p>"
      ],
      "text/plain": [
       "<IPython.core.display.HTML object>"
      ]
     },
     "metadata": {},
     "output_type": "display_data"
    },
    {
     "name": "stderr",
     "output_type": "stream",
     "text": [
      "/home/ai23mtech14004/.venv/lib/python3.11/site-packages/sklearn/metrics/_classification.py:1509: UndefinedMetricWarning: Recall is ill-defined and being set to 0.0 in labels with no true samples. Use `zero_division` parameter to control this behavior.\n",
      "  _warn_prf(average, modifier, f\"{metric.capitalize()} is\", len(result))\n",
      "/home/ai23mtech14004/.venv/lib/python3.11/site-packages/torch/nn/parallel/_functions.py:68: UserWarning: Was asked to gather along dimension 0, but all input tensors were scalars; will instead unsqueeze and return a vector.\n",
      "  warnings.warn('Was asked to gather along dimension 0, but all '\n",
      "/home/ai23mtech14004/.venv/lib/python3.11/site-packages/sklearn/metrics/_classification.py:1509: UndefinedMetricWarning: Precision is ill-defined and being set to 0.0 in labels with no predicted samples. Use `zero_division` parameter to control this behavior.\n",
      "  _warn_prf(average, modifier, f\"{metric.capitalize()} is\", len(result))\n",
      "/home/ai23mtech14004/.venv/lib/python3.11/site-packages/sklearn/metrics/_classification.py:1509: UndefinedMetricWarning: Recall is ill-defined and being set to 0.0 in labels with no true samples. Use `zero_division` parameter to control this behavior.\n",
      "  _warn_prf(average, modifier, f\"{metric.capitalize()} is\", len(result))\n",
      "/home/ai23mtech14004/.venv/lib/python3.11/site-packages/torch/nn/parallel/_functions.py:68: UserWarning: Was asked to gather along dimension 0, but all input tensors were scalars; will instead unsqueeze and return a vector.\n",
      "  warnings.warn('Was asked to gather along dimension 0, but all '\n",
      "/home/ai23mtech14004/.venv/lib/python3.11/site-packages/sklearn/metrics/_classification.py:1509: UndefinedMetricWarning: Precision is ill-defined and being set to 0.0 in labels with no predicted samples. Use `zero_division` parameter to control this behavior.\n",
      "  _warn_prf(average, modifier, f\"{metric.capitalize()} is\", len(result))\n",
      "/home/ai23mtech14004/.venv/lib/python3.11/site-packages/torch/nn/parallel/_functions.py:68: UserWarning: Was asked to gather along dimension 0, but all input tensors were scalars; will instead unsqueeze and return a vector.\n",
      "  warnings.warn('Was asked to gather along dimension 0, but all '\n"
     ]
    },
    {
     "data": {
      "text/html": [
       "\n",
       "    <div>\n",
       "      \n",
       "      <progress value='10' max='5' style='width:300px; height:20px; vertical-align: middle;'></progress>\n",
       "      [5/5 00:05]\n",
       "    </div>\n",
       "    "
      ],
      "text/plain": [
       "<IPython.core.display.HTML object>"
      ]
     },
     "metadata": {},
     "output_type": "display_data"
    },
    {
     "name": "stdout",
     "output_type": "stream",
     "text": [
      "Results for test1: {'eval_loss': 0.009005426429212093, 'eval_accuracy': 1.0, 'eval_f1': 1.0, 'eval_precision': 1.0, 'eval_recall': 1.0, 'eval_runtime': 3.1121, 'eval_samples_per_second': 64.266, 'eval_steps_per_second': 1.607, 'epoch': 3.0}\n"
     ]
    },
    {
     "name": "stderr",
     "output_type": "stream",
     "text": [
      "/home/ai23mtech14004/.venv/lib/python3.11/site-packages/torch/nn/parallel/_functions.py:68: UserWarning: Was asked to gather along dimension 0, but all input tensors were scalars; will instead unsqueeze and return a vector.\n",
      "  warnings.warn('Was asked to gather along dimension 0, but all '\n",
      "/home/ai23mtech14004/.venv/lib/python3.11/site-packages/sklearn/metrics/_classification.py:1509: UndefinedMetricWarning: Precision is ill-defined and being set to 0.0 in labels with no predicted samples. Use `zero_division` parameter to control this behavior.\n",
      "  _warn_prf(average, modifier, f\"{metric.capitalize()} is\", len(result))\n"
     ]
    },
    {
     "name": "stdout",
     "output_type": "stream",
     "text": [
      "Results for test2: {'eval_loss': 0.05692167207598686, 'eval_accuracy': 0.99, 'eval_f1': 0.9850251256281406, 'eval_precision': 0.9801000000000001, 'eval_recall': 0.99, 'eval_runtime': 3.1271, 'eval_samples_per_second': 63.957, 'eval_steps_per_second': 1.599, 'epoch': 3.0}\n",
      "Training model for Explorations\n"
     ]
    },
    {
     "name": "stderr",
     "output_type": "stream",
     "text": [
      "Some weights of GPT2ForSequenceClassification were not initialized from the model checkpoint at gpt2 and are newly initialized: ['score.weight']\n",
      "You should probably TRAIN this model on a down-stream task to be able to use it for predictions and inference.\n",
      "/home/ai23mtech14004/.venv/lib/python3.11/site-packages/transformers/training_args.py:1454: FutureWarning: `evaluation_strategy` is deprecated and will be removed in version 4.46 of 🤗 Transformers. Use `eval_strategy` instead\n",
      "  warnings.warn(\n",
      "/home/ai23mtech14004/.venv/lib/python3.11/site-packages/torch/nn/parallel/_functions.py:68: UserWarning: Was asked to gather along dimension 0, but all input tensors were scalars; will instead unsqueeze and return a vector.\n",
      "  warnings.warn('Was asked to gather along dimension 0, but all '\n"
     ]
    },
    {
     "data": {
      "text/html": [
       "\n",
       "    <div>\n",
       "      \n",
       "      <progress value='153' max='153' style='width:300px; height:20px; vertical-align: middle;'></progress>\n",
       "      [153/153 02:06, Epoch 3/3]\n",
       "    </div>\n",
       "    <table border=\"1\" class=\"dataframe\">\n",
       "  <thead>\n",
       " <tr style=\"text-align: left;\">\n",
       "      <th>Epoch</th>\n",
       "      <th>Training Loss</th>\n",
       "      <th>Validation Loss</th>\n",
       "      <th>Accuracy</th>\n",
       "      <th>F1</th>\n",
       "      <th>Precision</th>\n",
       "      <th>Recall</th>\n",
       "    </tr>\n",
       "  </thead>\n",
       "  <tbody>\n",
       "    <tr>\n",
       "      <td>1</td>\n",
       "      <td>1.114100</td>\n",
       "      <td>0.875176</td>\n",
       "      <td>0.710000</td>\n",
       "      <td>0.826941</td>\n",
       "      <td>0.990000</td>\n",
       "      <td>0.710000</td>\n",
       "    </tr>\n",
       "    <tr>\n",
       "      <td>2</td>\n",
       "      <td>0.076800</td>\n",
       "      <td>0.173328</td>\n",
       "      <td>0.980000</td>\n",
       "      <td>0.980000</td>\n",
       "      <td>0.980000</td>\n",
       "      <td>0.980000</td>\n",
       "    </tr>\n",
       "    <tr>\n",
       "      <td>3</td>\n",
       "      <td>0.100300</td>\n",
       "      <td>0.062637</td>\n",
       "      <td>0.990000</td>\n",
       "      <td>0.985025</td>\n",
       "      <td>0.980100</td>\n",
       "      <td>0.990000</td>\n",
       "    </tr>\n",
       "  </tbody>\n",
       "</table><p>"
      ],
      "text/plain": [
       "<IPython.core.display.HTML object>"
      ]
     },
     "metadata": {},
     "output_type": "display_data"
    },
    {
     "name": "stderr",
     "output_type": "stream",
     "text": [
      "/home/ai23mtech14004/.venv/lib/python3.11/site-packages/sklearn/metrics/_classification.py:1509: UndefinedMetricWarning: Recall is ill-defined and being set to 0.0 in labels with no true samples. Use `zero_division` parameter to control this behavior.\n",
      "  _warn_prf(average, modifier, f\"{metric.capitalize()} is\", len(result))\n",
      "/home/ai23mtech14004/.venv/lib/python3.11/site-packages/torch/nn/parallel/_functions.py:68: UserWarning: Was asked to gather along dimension 0, but all input tensors were scalars; will instead unsqueeze and return a vector.\n",
      "  warnings.warn('Was asked to gather along dimension 0, but all '\n",
      "/home/ai23mtech14004/.venv/lib/python3.11/site-packages/sklearn/metrics/_classification.py:1509: UndefinedMetricWarning: Precision is ill-defined and being set to 0.0 in labels with no predicted samples. Use `zero_division` parameter to control this behavior.\n",
      "  _warn_prf(average, modifier, f\"{metric.capitalize()} is\", len(result))\n",
      "/home/ai23mtech14004/.venv/lib/python3.11/site-packages/sklearn/metrics/_classification.py:1509: UndefinedMetricWarning: Recall is ill-defined and being set to 0.0 in labels with no true samples. Use `zero_division` parameter to control this behavior.\n",
      "  _warn_prf(average, modifier, f\"{metric.capitalize()} is\", len(result))\n",
      "/home/ai23mtech14004/.venv/lib/python3.11/site-packages/torch/nn/parallel/_functions.py:68: UserWarning: Was asked to gather along dimension 0, but all input tensors were scalars; will instead unsqueeze and return a vector.\n",
      "  warnings.warn('Was asked to gather along dimension 0, but all '\n",
      "/home/ai23mtech14004/.venv/lib/python3.11/site-packages/sklearn/metrics/_classification.py:1509: UndefinedMetricWarning: Precision is ill-defined and being set to 0.0 in labels with no predicted samples. Use `zero_division` parameter to control this behavior.\n",
      "  _warn_prf(average, modifier, f\"{metric.capitalize()} is\", len(result))\n",
      "/home/ai23mtech14004/.venv/lib/python3.11/site-packages/torch/nn/parallel/_functions.py:68: UserWarning: Was asked to gather along dimension 0, but all input tensors were scalars; will instead unsqueeze and return a vector.\n",
      "  warnings.warn('Was asked to gather along dimension 0, but all '\n"
     ]
    },
    {
     "data": {
      "text/html": [
       "\n",
       "    <div>\n",
       "      \n",
       "      <progress value='10' max='5' style='width:300px; height:20px; vertical-align: middle;'></progress>\n",
       "      [5/5 00:05]\n",
       "    </div>\n",
       "    "
      ],
      "text/plain": [
       "<IPython.core.display.HTML object>"
      ]
     },
     "metadata": {},
     "output_type": "display_data"
    },
    {
     "name": "stdout",
     "output_type": "stream",
     "text": [
      "Results for test1: {'eval_loss': 0.009005426429212093, 'eval_accuracy': 1.0, 'eval_f1': 1.0, 'eval_precision': 1.0, 'eval_recall': 1.0, 'eval_runtime': 3.3664, 'eval_samples_per_second': 59.411, 'eval_steps_per_second': 1.485, 'epoch': 3.0}\n"
     ]
    },
    {
     "name": "stderr",
     "output_type": "stream",
     "text": [
      "/home/ai23mtech14004/.venv/lib/python3.11/site-packages/torch/nn/parallel/_functions.py:68: UserWarning: Was asked to gather along dimension 0, but all input tensors were scalars; will instead unsqueeze and return a vector.\n",
      "  warnings.warn('Was asked to gather along dimension 0, but all '\n"
     ]
    },
    {
     "name": "stdout",
     "output_type": "stream",
     "text": [
      "Results for test2: {'eval_loss': 0.05692167207598686, 'eval_accuracy': 0.99, 'eval_f1': 0.9850251256281406, 'eval_precision': 0.9801000000000001, 'eval_recall': 0.99, 'eval_runtime': 3.3488, 'eval_samples_per_second': 59.723, 'eval_steps_per_second': 1.493, 'epoch': 3.0}\n"
     ]
    },
    {
     "name": "stderr",
     "output_type": "stream",
     "text": [
      "/home/ai23mtech14004/.venv/lib/python3.11/site-packages/sklearn/metrics/_classification.py:1509: UndefinedMetricWarning: Precision is ill-defined and being set to 0.0 in labels with no predicted samples. Use `zero_division` parameter to control this behavior.\n",
      "  _warn_prf(average, modifier, f\"{metric.capitalize()} is\", len(result))\n"
     ]
    }
   ],
   "source": [
    "import pandas as pd\n",
    "from transformers import GPT2Tokenizer, GPT2ForSequenceClassification, Trainer, TrainingArguments\n",
    "from torch.utils.data import Dataset, DataLoader\n",
    "import torch\n",
    "import numpy as np\n",
    "from sklearn.metrics import accuracy_score, precision_recall_fscore_support\n",
    "\n",
    "# Define paths to the datasets\n",
    "dataset_paths = {\n",
    "    \"train\": \"/home/ai23mtech14004/CS5803_NLP/Code/21_BERT/GPT_annotated_full_data/MTS-Dialog-TrainingSet-Exchanges_Explorations_annotated.csv\",\n",
    "    \"validation\": \"/home/ai23mtech14004/CS5803_NLP/Code/21_BERT/GPT_annotated_full_data/MTS-Dialog-ValidationSet-Exchanges_Explorations_annotated.csv\",\n",
    "    \"test1\": \"/home/ai23mtech14004/CS5803_NLP/Code/21_BERT/GPT_annotated_full_data/MTS-Dialog-TestSet-1-Exchanges_Explorations_annotated.csv\",\n",
    "    \"test2\": \"/home/ai23mtech14004/CS5803_NLP/Code/21_BERT/GPT_annotated_full_data/MTS-Dialog-TestSet-2-Exchanges_Explorations_annotated.csv\"\n",
    "}\n",
    "\n",
    "# Load datasets\n",
    "datasets = {name: pd.read_csv(path) for name, path in dataset_paths.items()}\n",
    "\n",
    "# Initialize tokenizer and model for GPT-2\n",
    "tokenizer = GPT2Tokenizer.from_pretrained('openai-community/gpt2')\n",
    "tokenizer.pad_token = tokenizer.eos_token\n",
    "\n",
    "class EmpathyDataset(Dataset):\n",
    "    def __init__(self, encodings, labels):\n",
    "        self.encodings = encodings\n",
    "        self.labels = labels\n",
    "\n",
    "    def __getitem__(self, idx):\n",
    "        item = {key: torch.tensor(val[idx]) for key, val in self.encodings.items()}\n",
    "        item['labels'] = torch.tensor(self.labels[idx])\n",
    "        return item\n",
    "\n",
    "    def __len__(self):\n",
    "        return len(self.labels)\n",
    "\n",
    "def prepare_dataset(texts, labels):\n",
    "    encodings = tokenizer(texts.tolist(), truncation=True, padding=\"max_length\", max_length=512)\n",
    "    return EmpathyDataset(encodings, labels.tolist())\n",
    "\n",
    "def compute_metrics(p):\n",
    "    predictions, labels = p.predictions, p.label_ids\n",
    "    predictions = np.argmax(predictions, axis=1)\n",
    "    precision, recall, f1, _ = precision_recall_fscore_support(labels, predictions, average='weighted')\n",
    "    acc = accuracy_score(labels, predictions)\n",
    "    return {\n",
    "        'accuracy': acc,\n",
    "        'f1': f1,\n",
    "        'precision': precision,\n",
    "        'recall': recall\n",
    "    }\n",
    "\n",
    "# Prepare datasets for each label category\n",
    "category_datasets = {}\n",
    "for category in ['Emotional Reactions', 'Interpretations', 'Explorations']:\n",
    "    category_datasets[category] = {\n",
    "        name: prepare_dataset(dataset['dialogue'], dataset[category])\n",
    "        for name, dataset in datasets.items()\n",
    "    }\n",
    "\n",
    "# Train and evaluate models for each category\n",
    "for category, data in category_datasets.items():\n",
    "    print(f\"Training model for {category}\")\n",
    "    model = GPT2ForSequenceClassification.from_pretrained('gpt2', num_labels=3, pad_token_id=tokenizer.eos_token_id)\n",
    "\n",
    "    training_args = TrainingArguments(\n",
    "        output_dir=f'./results/{category}_gpt2',  # Output directory includes model name and category\n",
    "        num_train_epochs=3,\n",
    "        per_device_train_batch_size=8,\n",
    "        per_device_eval_batch_size=16,\n",
    "        warmup_steps=500,\n",
    "        weight_decay=0.01,\n",
    "        logging_dir=f'./logs/{category}_gpt2',  # Logging directory includes model name and category\n",
    "        logging_steps=10,\n",
    "        evaluation_strategy=\"epoch\",\n",
    "    )\n",
    "\n",
    "    trainer = Trainer(\n",
    "        model=model,\n",
    "        args=training_args,\n",
    "        train_dataset=data['train'],\n",
    "        eval_dataset=data['validation'],\n",
    "        compute_metrics=compute_metrics\n",
    "    )\n",
    "\n",
    "    # Train the model\n",
    "    trainer.train()\n",
    "\n",
    "    # Evaluate on test sets and save results with unique file names\n",
    "    results = {}\n",
    "    for test_name in ['test1', 'test2']:\n",
    "        test_results = trainer.evaluate(data[test_name])\n",
    "        print(f\"Results for {test_name}: {test_results}\")\n",
    "        results[test_name] = test_results\n",
    "\n",
    "    results_df = pd.DataFrame.from_dict({test_name: results[test_name] for test_name in ['test1', 'test2']})\n",
    "    results_df.to_csv(f'./results/{category}_gpt2_evaluation_metrics.csv', index=False)\n"
   ]
  },
  {
   "cell_type": "code",
   "execution_count": null,
   "metadata": {},
   "outputs": [],
   "source": []
  },
  {
   "cell_type": "markdown",
   "metadata": {},
   "source": [
    "Dialo-GPT"
   ]
  },
  {
   "cell_type": "code",
   "execution_count": 1,
   "metadata": {},
   "outputs": [
    {
     "name": "stdout",
     "output_type": "stream",
     "text": [
      "Training model for Emotional Reactions\n"
     ]
    },
    {
     "name": "stderr",
     "output_type": "stream",
     "text": [
      "Some weights of GPT2ForSequenceClassification were not initialized from the model checkpoint at microsoft/DialoGPT-medium and are newly initialized: ['score.weight']\n",
      "You should probably TRAIN this model on a down-stream task to be able to use it for predictions and inference.\n",
      "/home/ai23mtech14004/.venv/lib/python3.11/site-packages/torch/nn/parallel/_functions.py:68: UserWarning: Was asked to gather along dimension 0, but all input tensors were scalars; will instead unsqueeze and return a vector.\n",
      "  warnings.warn('Was asked to gather along dimension 0, but all '\n"
     ]
    },
    {
     "data": {
      "text/html": [
       "\n",
       "    <div>\n",
       "      \n",
       "      <progress value='303' max='303' style='width:300px; height:20px; vertical-align: middle;'></progress>\n",
       "      [303/303 07:22, Epoch 3/3]\n",
       "    </div>\n",
       "    <table border=\"1\" class=\"dataframe\">\n",
       "  <thead>\n",
       " <tr style=\"text-align: left;\">\n",
       "      <th>Epoch</th>\n",
       "      <th>Training Loss</th>\n",
       "      <th>Validation Loss</th>\n",
       "      <th>Accuracy</th>\n",
       "      <th>F1</th>\n",
       "      <th>Precision</th>\n",
       "      <th>Recall</th>\n",
       "    </tr>\n",
       "  </thead>\n",
       "  <tbody>\n",
       "    <tr>\n",
       "      <td>1</td>\n",
       "      <td>0.116100</td>\n",
       "      <td>0.056805</td>\n",
       "      <td>0.990000</td>\n",
       "      <td>0.985025</td>\n",
       "      <td>0.980100</td>\n",
       "      <td>0.990000</td>\n",
       "    </tr>\n",
       "    <tr>\n",
       "      <td>2</td>\n",
       "      <td>0.143500</td>\n",
       "      <td>0.056136</td>\n",
       "      <td>0.990000</td>\n",
       "      <td>0.985025</td>\n",
       "      <td>0.980100</td>\n",
       "      <td>0.990000</td>\n",
       "    </tr>\n",
       "    <tr>\n",
       "      <td>3</td>\n",
       "      <td>0.015500</td>\n",
       "      <td>0.050230</td>\n",
       "      <td>0.990000</td>\n",
       "      <td>0.985025</td>\n",
       "      <td>0.980100</td>\n",
       "      <td>0.990000</td>\n",
       "    </tr>\n",
       "  </tbody>\n",
       "</table><p>"
      ],
      "text/plain": [
       "<IPython.core.display.HTML object>"
      ]
     },
     "metadata": {},
     "output_type": "display_data"
    },
    {
     "name": "stderr",
     "output_type": "stream",
     "text": [
      "/home/ai23mtech14004/.venv/lib/python3.11/site-packages/sklearn/metrics/_classification.py:1509: UndefinedMetricWarning: Precision is ill-defined and being set to 0.0 in labels with no predicted samples. Use `zero_division` parameter to control this behavior.\n",
      "  _warn_prf(average, modifier, f\"{metric.capitalize()} is\", len(result))\n",
      "/home/ai23mtech14004/.venv/lib/python3.11/site-packages/torch/nn/parallel/_functions.py:68: UserWarning: Was asked to gather along dimension 0, but all input tensors were scalars; will instead unsqueeze and return a vector.\n",
      "  warnings.warn('Was asked to gather along dimension 0, but all '\n",
      "/home/ai23mtech14004/.venv/lib/python3.11/site-packages/sklearn/metrics/_classification.py:1509: UndefinedMetricWarning: Precision is ill-defined and being set to 0.0 in labels with no predicted samples. Use `zero_division` parameter to control this behavior.\n",
      "  _warn_prf(average, modifier, f\"{metric.capitalize()} is\", len(result))\n",
      "/home/ai23mtech14004/.venv/lib/python3.11/site-packages/torch/nn/parallel/_functions.py:68: UserWarning: Was asked to gather along dimension 0, but all input tensors were scalars; will instead unsqueeze and return a vector.\n",
      "  warnings.warn('Was asked to gather along dimension 0, but all '\n",
      "/home/ai23mtech14004/.venv/lib/python3.11/site-packages/sklearn/metrics/_classification.py:1509: UndefinedMetricWarning: Precision is ill-defined and being set to 0.0 in labels with no predicted samples. Use `zero_division` parameter to control this behavior.\n",
      "  _warn_prf(average, modifier, f\"{metric.capitalize()} is\", len(result))\n",
      "/home/ai23mtech14004/.venv/lib/python3.11/site-packages/torch/nn/parallel/_functions.py:68: UserWarning: Was asked to gather along dimension 0, but all input tensors were scalars; will instead unsqueeze and return a vector.\n",
      "  warnings.warn('Was asked to gather along dimension 0, but all '\n"
     ]
    },
    {
     "data": {
      "text/html": [
       "\n",
       "    <div>\n",
       "      \n",
       "      <progress value='34' max='17' style='width:300px; height:20px; vertical-align: middle;'></progress>\n",
       "      [17/17 00:17]\n",
       "    </div>\n",
       "    "
      ],
      "text/plain": [
       "<IPython.core.display.HTML object>"
      ]
     },
     "metadata": {},
     "output_type": "display_data"
    },
    {
     "name": "stdout",
     "output_type": "stream",
     "text": [
      "Results for test1: {'eval_loss': 0.0031795413233339787, 'eval_accuracy': 1.0, 'eval_f1': 1.0, 'eval_precision': 1.0, 'eval_recall': 1.0, 'eval_runtime': 7.0885, 'eval_samples_per_second': 28.215, 'eval_steps_per_second': 2.398, 'epoch': 3.0}\n"
     ]
    },
    {
     "name": "stderr",
     "output_type": "stream",
     "text": [
      "/home/ai23mtech14004/.venv/lib/python3.11/site-packages/torch/nn/parallel/_functions.py:68: UserWarning: Was asked to gather along dimension 0, but all input tensors were scalars; will instead unsqueeze and return a vector.\n",
      "  warnings.warn('Was asked to gather along dimension 0, but all '\n",
      "/home/ai23mtech14004/.venv/lib/python3.11/site-packages/sklearn/metrics/_classification.py:1509: UndefinedMetricWarning: Precision is ill-defined and being set to 0.0 in labels with no predicted samples. Use `zero_division` parameter to control this behavior.\n",
      "  _warn_prf(average, modifier, f\"{metric.capitalize()} is\", len(result))\n"
     ]
    },
    {
     "name": "stdout",
     "output_type": "stream",
     "text": [
      "Results for test2: {'eval_loss': 0.10230579972267151, 'eval_accuracy': 0.99, 'eval_f1': 0.9850251256281406, 'eval_precision': 0.9801000000000001, 'eval_recall': 0.99, 'eval_runtime': 10.6115, 'eval_samples_per_second': 18.847, 'eval_steps_per_second': 1.602, 'epoch': 3.0}\n",
      "Training model for Interpretations\n"
     ]
    },
    {
     "name": "stderr",
     "output_type": "stream",
     "text": [
      "Some weights of GPT2ForSequenceClassification were not initialized from the model checkpoint at microsoft/DialoGPT-medium and are newly initialized: ['score.weight']\n",
      "You should probably TRAIN this model on a down-stream task to be able to use it for predictions and inference.\n",
      "/home/ai23mtech14004/.venv/lib/python3.11/site-packages/torch/nn/parallel/_functions.py:68: UserWarning: Was asked to gather along dimension 0, but all input tensors were scalars; will instead unsqueeze and return a vector.\n",
      "  warnings.warn('Was asked to gather along dimension 0, but all '\n"
     ]
    },
    {
     "data": {
      "text/html": [
       "\n",
       "    <div>\n",
       "      \n",
       "      <progress value='303' max='303' style='width:300px; height:20px; vertical-align: middle;'></progress>\n",
       "      [303/303 07:41, Epoch 3/3]\n",
       "    </div>\n",
       "    <table border=\"1\" class=\"dataframe\">\n",
       "  <thead>\n",
       " <tr style=\"text-align: left;\">\n",
       "      <th>Epoch</th>\n",
       "      <th>Training Loss</th>\n",
       "      <th>Validation Loss</th>\n",
       "      <th>Accuracy</th>\n",
       "      <th>F1</th>\n",
       "      <th>Precision</th>\n",
       "      <th>Recall</th>\n",
       "    </tr>\n",
       "  </thead>\n",
       "  <tbody>\n",
       "    <tr>\n",
       "      <td>1</td>\n",
       "      <td>0.119600</td>\n",
       "      <td>0.048235</td>\n",
       "      <td>0.990000</td>\n",
       "      <td>0.985025</td>\n",
       "      <td>0.980100</td>\n",
       "      <td>0.990000</td>\n",
       "    </tr>\n",
       "    <tr>\n",
       "      <td>2</td>\n",
       "      <td>0.141800</td>\n",
       "      <td>0.035750</td>\n",
       "      <td>0.990000</td>\n",
       "      <td>0.985025</td>\n",
       "      <td>0.980100</td>\n",
       "      <td>0.990000</td>\n",
       "    </tr>\n",
       "    <tr>\n",
       "      <td>3</td>\n",
       "      <td>0.018000</td>\n",
       "      <td>0.044089</td>\n",
       "      <td>0.990000</td>\n",
       "      <td>0.985025</td>\n",
       "      <td>0.980100</td>\n",
       "      <td>0.990000</td>\n",
       "    </tr>\n",
       "  </tbody>\n",
       "</table><p>"
      ],
      "text/plain": [
       "<IPython.core.display.HTML object>"
      ]
     },
     "metadata": {},
     "output_type": "display_data"
    },
    {
     "name": "stderr",
     "output_type": "stream",
     "text": [
      "/home/ai23mtech14004/.venv/lib/python3.11/site-packages/sklearn/metrics/_classification.py:1509: UndefinedMetricWarning: Precision is ill-defined and being set to 0.0 in labels with no predicted samples. Use `zero_division` parameter to control this behavior.\n",
      "  _warn_prf(average, modifier, f\"{metric.capitalize()} is\", len(result))\n",
      "/home/ai23mtech14004/.venv/lib/python3.11/site-packages/torch/nn/parallel/_functions.py:68: UserWarning: Was asked to gather along dimension 0, but all input tensors were scalars; will instead unsqueeze and return a vector.\n",
      "  warnings.warn('Was asked to gather along dimension 0, but all '\n",
      "/home/ai23mtech14004/.venv/lib/python3.11/site-packages/sklearn/metrics/_classification.py:1509: UndefinedMetricWarning: Precision is ill-defined and being set to 0.0 in labels with no predicted samples. Use `zero_division` parameter to control this behavior.\n",
      "  _warn_prf(average, modifier, f\"{metric.capitalize()} is\", len(result))\n",
      "/home/ai23mtech14004/.venv/lib/python3.11/site-packages/torch/nn/parallel/_functions.py:68: UserWarning: Was asked to gather along dimension 0, but all input tensors were scalars; will instead unsqueeze and return a vector.\n",
      "  warnings.warn('Was asked to gather along dimension 0, but all '\n",
      "/home/ai23mtech14004/.venv/lib/python3.11/site-packages/sklearn/metrics/_classification.py:1509: UndefinedMetricWarning: Precision is ill-defined and being set to 0.0 in labels with no predicted samples. Use `zero_division` parameter to control this behavior.\n",
      "  _warn_prf(average, modifier, f\"{metric.capitalize()} is\", len(result))\n",
      "/home/ai23mtech14004/.venv/lib/python3.11/site-packages/torch/nn/parallel/_functions.py:68: UserWarning: Was asked to gather along dimension 0, but all input tensors were scalars; will instead unsqueeze and return a vector.\n",
      "  warnings.warn('Was asked to gather along dimension 0, but all '\n"
     ]
    },
    {
     "data": {
      "text/html": [
       "\n",
       "    <div>\n",
       "      \n",
       "      <progress value='34' max='17' style='width:300px; height:20px; vertical-align: middle;'></progress>\n",
       "      [17/17 00:21]\n",
       "    </div>\n",
       "    "
      ],
      "text/plain": [
       "<IPython.core.display.HTML object>"
      ]
     },
     "metadata": {},
     "output_type": "display_data"
    },
    {
     "name": "stdout",
     "output_type": "stream",
     "text": [
      "Results for test1: {'eval_loss': 0.0026458140928298235, 'eval_accuracy': 1.0, 'eval_f1': 1.0, 'eval_precision': 1.0, 'eval_recall': 1.0, 'eval_runtime': 10.9849, 'eval_samples_per_second': 18.207, 'eval_steps_per_second': 1.548, 'epoch': 3.0}\n"
     ]
    },
    {
     "name": "stderr",
     "output_type": "stream",
     "text": [
      "/home/ai23mtech14004/.venv/lib/python3.11/site-packages/torch/nn/parallel/_functions.py:68: UserWarning: Was asked to gather along dimension 0, but all input tensors were scalars; will instead unsqueeze and return a vector.\n",
      "  warnings.warn('Was asked to gather along dimension 0, but all '\n",
      "/home/ai23mtech14004/.venv/lib/python3.11/site-packages/sklearn/metrics/_classification.py:1509: UndefinedMetricWarning: Precision is ill-defined and being set to 0.0 in labels with no predicted samples. Use `zero_division` parameter to control this behavior.\n",
      "  _warn_prf(average, modifier, f\"{metric.capitalize()} is\", len(result))\n"
     ]
    },
    {
     "name": "stdout",
     "output_type": "stream",
     "text": [
      "Results for test2: {'eval_loss': 0.09991639107465744, 'eval_accuracy': 0.99, 'eval_f1': 0.9850251256281406, 'eval_precision': 0.9801000000000001, 'eval_recall': 0.99, 'eval_runtime': 11.161, 'eval_samples_per_second': 17.92, 'eval_steps_per_second': 1.523, 'epoch': 3.0}\n",
      "Training model for Explorations\n"
     ]
    },
    {
     "name": "stderr",
     "output_type": "stream",
     "text": [
      "Some weights of GPT2ForSequenceClassification were not initialized from the model checkpoint at microsoft/DialoGPT-medium and are newly initialized: ['score.weight']\n",
      "You should probably TRAIN this model on a down-stream task to be able to use it for predictions and inference.\n",
      "/home/ai23mtech14004/.venv/lib/python3.11/site-packages/torch/nn/parallel/_functions.py:68: UserWarning: Was asked to gather along dimension 0, but all input tensors were scalars; will instead unsqueeze and return a vector.\n",
      "  warnings.warn('Was asked to gather along dimension 0, but all '\n"
     ]
    },
    {
     "data": {
      "text/html": [
       "\n",
       "    <div>\n",
       "      \n",
       "      <progress value='303' max='303' style='width:300px; height:20px; vertical-align: middle;'></progress>\n",
       "      [303/303 07:38, Epoch 3/3]\n",
       "    </div>\n",
       "    <table border=\"1\" class=\"dataframe\">\n",
       "  <thead>\n",
       " <tr style=\"text-align: left;\">\n",
       "      <th>Epoch</th>\n",
       "      <th>Training Loss</th>\n",
       "      <th>Validation Loss</th>\n",
       "      <th>Accuracy</th>\n",
       "      <th>F1</th>\n",
       "      <th>Precision</th>\n",
       "      <th>Recall</th>\n",
       "    </tr>\n",
       "  </thead>\n",
       "  <tbody>\n",
       "    <tr>\n",
       "      <td>1</td>\n",
       "      <td>0.119600</td>\n",
       "      <td>0.048235</td>\n",
       "      <td>0.990000</td>\n",
       "      <td>0.985025</td>\n",
       "      <td>0.980100</td>\n",
       "      <td>0.990000</td>\n",
       "    </tr>\n",
       "    <tr>\n",
       "      <td>2</td>\n",
       "      <td>0.141800</td>\n",
       "      <td>0.035750</td>\n",
       "      <td>0.990000</td>\n",
       "      <td>0.985025</td>\n",
       "      <td>0.980100</td>\n",
       "      <td>0.990000</td>\n",
       "    </tr>\n",
       "    <tr>\n",
       "      <td>3</td>\n",
       "      <td>0.018000</td>\n",
       "      <td>0.044089</td>\n",
       "      <td>0.990000</td>\n",
       "      <td>0.985025</td>\n",
       "      <td>0.980100</td>\n",
       "      <td>0.990000</td>\n",
       "    </tr>\n",
       "  </tbody>\n",
       "</table><p>"
      ],
      "text/plain": [
       "<IPython.core.display.HTML object>"
      ]
     },
     "metadata": {},
     "output_type": "display_data"
    },
    {
     "name": "stderr",
     "output_type": "stream",
     "text": [
      "/home/ai23mtech14004/.venv/lib/python3.11/site-packages/sklearn/metrics/_classification.py:1509: UndefinedMetricWarning: Precision is ill-defined and being set to 0.0 in labels with no predicted samples. Use `zero_division` parameter to control this behavior.\n",
      "  _warn_prf(average, modifier, f\"{metric.capitalize()} is\", len(result))\n",
      "/home/ai23mtech14004/.venv/lib/python3.11/site-packages/torch/nn/parallel/_functions.py:68: UserWarning: Was asked to gather along dimension 0, but all input tensors were scalars; will instead unsqueeze and return a vector.\n",
      "  warnings.warn('Was asked to gather along dimension 0, but all '\n",
      "/home/ai23mtech14004/.venv/lib/python3.11/site-packages/sklearn/metrics/_classification.py:1509: UndefinedMetricWarning: Precision is ill-defined and being set to 0.0 in labels with no predicted samples. Use `zero_division` parameter to control this behavior.\n",
      "  _warn_prf(average, modifier, f\"{metric.capitalize()} is\", len(result))\n",
      "/home/ai23mtech14004/.venv/lib/python3.11/site-packages/torch/nn/parallel/_functions.py:68: UserWarning: Was asked to gather along dimension 0, but all input tensors were scalars; will instead unsqueeze and return a vector.\n",
      "  warnings.warn('Was asked to gather along dimension 0, but all '\n",
      "/home/ai23mtech14004/.venv/lib/python3.11/site-packages/sklearn/metrics/_classification.py:1509: UndefinedMetricWarning: Precision is ill-defined and being set to 0.0 in labels with no predicted samples. Use `zero_division` parameter to control this behavior.\n",
      "  _warn_prf(average, modifier, f\"{metric.capitalize()} is\", len(result))\n",
      "/home/ai23mtech14004/.venv/lib/python3.11/site-packages/torch/nn/parallel/_functions.py:68: UserWarning: Was asked to gather along dimension 0, but all input tensors were scalars; will instead unsqueeze and return a vector.\n",
      "  warnings.warn('Was asked to gather along dimension 0, but all '\n"
     ]
    },
    {
     "data": {
      "text/html": [
       "\n",
       "    <div>\n",
       "      \n",
       "      <progress value='34' max='17' style='width:300px; height:20px; vertical-align: middle;'></progress>\n",
       "      [17/17 00:21]\n",
       "    </div>\n",
       "    "
      ],
      "text/plain": [
       "<IPython.core.display.HTML object>"
      ]
     },
     "metadata": {},
     "output_type": "display_data"
    },
    {
     "name": "stdout",
     "output_type": "stream",
     "text": [
      "Results for test1: {'eval_loss': 0.0026458140928298235, 'eval_accuracy': 1.0, 'eval_f1': 1.0, 'eval_precision': 1.0, 'eval_recall': 1.0, 'eval_runtime': 11.0235, 'eval_samples_per_second': 18.143, 'eval_steps_per_second': 1.542, 'epoch': 3.0}\n"
     ]
    },
    {
     "name": "stderr",
     "output_type": "stream",
     "text": [
      "/home/ai23mtech14004/.venv/lib/python3.11/site-packages/torch/nn/parallel/_functions.py:68: UserWarning: Was asked to gather along dimension 0, but all input tensors were scalars; will instead unsqueeze and return a vector.\n",
      "  warnings.warn('Was asked to gather along dimension 0, but all '\n"
     ]
    },
    {
     "name": "stdout",
     "output_type": "stream",
     "text": [
      "Results for test2: {'eval_loss': 0.09991639107465744, 'eval_accuracy': 0.99, 'eval_f1': 0.9850251256281406, 'eval_precision': 0.9801000000000001, 'eval_recall': 0.99, 'eval_runtime': 11.3472, 'eval_samples_per_second': 17.625, 'eval_steps_per_second': 1.498, 'epoch': 3.0}\n"
     ]
    },
    {
     "name": "stderr",
     "output_type": "stream",
     "text": [
      "/home/ai23mtech14004/.venv/lib/python3.11/site-packages/sklearn/metrics/_classification.py:1509: UndefinedMetricWarning: Precision is ill-defined and being set to 0.0 in labels with no predicted samples. Use `zero_division` parameter to control this behavior.\n",
      "  _warn_prf(average, modifier, f\"{metric.capitalize()} is\", len(result))\n"
     ]
    }
   ],
   "source": [
    "import pandas as pd\n",
    "from transformers import AutoTokenizer, AutoModelForSequenceClassification, Trainer, TrainingArguments\n",
    "from torch.utils.data import Dataset\n",
    "import torch\n",
    "import numpy as np\n",
    "from sklearn.metrics import accuracy_score, precision_recall_fscore_support\n",
    "\n",
    "# Define paths to the datasets\n",
    "dataset_paths = {\n",
    "    \"train\": \"/home/ai23mtech14004/CS5803_NLP/Code/21_BERT/GPT_annotated_full_data/MTS-Dialog-TrainingSet-Exchanges_Explorations_annotated.csv\",\n",
    "    \"validation\": \"/home/ai23mtech14004/CS5803_NLP/Code/21_BERT/GPT_annotated_full_data/MTS-Dialog-ValidationSet-Exchanges_Explorations_annotated.csv\",\n",
    "    \"test1\": \"/home/ai23mtech14004/CS5803_NLP/Code/21_BERT/GPT_annotated_full_data/MTS-Dialog-TestSet-1-Exchanges_Explorations_annotated.csv\",\n",
    "    \"test2\": \"/home/ai23mtech14004/CS5803_NLP/Code/21_BERT/GPT_annotated_full_data/MTS-Dialog-TestSet-2-Exchanges_Explorations_annotated.csv\"\n",
    "}\n",
    "\n",
    "# Load datasets\n",
    "datasets = {name: pd.read_csv(path) for name, path in dataset_paths.items()}\n",
    "\n",
    "# Initialize tokenizer and model for DialoGPT\n",
    "tokenizer = AutoTokenizer.from_pretrained('microsoft/DialoGPT-medium')\n",
    "tokenizer.pad_token = tokenizer.eos_token  # Make sure EOS token is used as padding token.\n",
    "\n",
    "class EmpathyDataset(Dataset):\n",
    "    def __init__(self, encodings, labels):\n",
    "        self.encodings = encodings\n",
    "        self.labels = labels\n",
    "\n",
    "    def __getitem__(self, idx):\n",
    "        item = {key: torch.tensor(val[idx]) for key, val in self.encodings.items()}\n",
    "        item['labels'] = torch.tensor(self.labels[idx])\n",
    "        return item\n",
    "\n",
    "    def __len__(self):\n",
    "        return len(self.labels)\n",
    "\n",
    "def prepare_dataset(texts, labels):\n",
    "    encodings = tokenizer(texts.tolist(), truncation=True, padding=\"max_length\", max_length=512)\n",
    "    return EmpathyDataset(encodings, labels.tolist())\n",
    "\n",
    "def compute_metrics(p):\n",
    "    predictions, labels = p.predictions, p.label_ids\n",
    "    predictions = np.argmax(predictions, axis=1)\n",
    "    precision, recall, f1, _ = precision_recall_fscore_support(labels, predictions, average='weighted')\n",
    "    acc = accuracy_score(labels, predictions)\n",
    "    return {\n",
    "        'accuracy': acc,\n",
    "        'f1': f1,\n",
    "        'precision': precision,\n",
    "        'recall': recall\n",
    "    }\n",
    "\n",
    "# Prepare datasets for each label category\n",
    "category_datasets = {}\n",
    "for category in ['Emotional Reactions', 'Interpretations', 'Explorations']:\n",
    "    category_datasets[category] = {\n",
    "        name: prepare_dataset(dataset['dialogue'], dataset[category])\n",
    "        for name, dataset in datasets.items()\n",
    "    }\n",
    "\n",
    "# Train and evaluate models for each category\n",
    "for category, data in category_datasets.items():\n",
    "    print(f\"Training model for {category}\")\n",
    "    model = AutoModelForSequenceClassification.from_pretrained(\n",
    "        'microsoft/DialoGPT-medium', \n",
    "        num_labels=3,\n",
    "        pad_token_id=tokenizer.eos_token_id  # Ensure the model recognizes the pad token.\n",
    "    )\n",
    "\n",
    "    training_args = TrainingArguments(\n",
    "        output_dir=f'./results/{category}_dialoGPT',  # Output directory includes model name and category\n",
    "        num_train_epochs=3,\n",
    "        per_device_train_batch_size=4,\n",
    "        per_device_eval_batch_size=4,\n",
    "        warmup_steps=500,\n",
    "        weight_decay=0.01,\n",
    "        logging_dir=f'./logs/{category}_dialoGPT',  # Logging directory includes model name and category\n",
    "        logging_steps=10,\n",
    "        eval_strategy=\"epoch\",\n",
    "    )\n",
    "\n",
    "    trainer = Trainer(\n",
    "        model=model,\n",
    "        args=training_args,\n",
    "        train_dataset=data['train'],\n",
    "        eval_dataset=data['validation'],\n",
    "        compute_metrics=compute_metrics\n",
    "    )\n",
    "\n",
    "    # Train the model\n",
    "    trainer.train()\n",
    "\n",
    "    # Evaluate on test sets and save results with unique file names\n",
    "    results = {}\n",
    "    for test_name in ['test1', 'test2']:\n",
    "        test_results = trainer.evaluate(data[test_name])\n",
    "        print(f\"Results for {test_name}: {test_results}\")\n",
    "        results[test_name] = test_results\n",
    "\n",
    "    results_df = pd.DataFrame.from_dict({test_name: results[test_name] for test_name in ['test1', 'test2']})\n",
    "    results_df.to_csv(f'./results/{category}_dialoGPT_evaluation_metrics.csv', index=False)\n"
   ]
  },
  {
   "cell_type": "code",
   "execution_count": null,
   "metadata": {},
   "outputs": [],
   "source": []
  },
  {
   "cell_type": "markdown",
   "metadata": {},
   "source": [
    "Comparison"
   ]
  },
  {
   "cell_type": "code",
   "execution_count": 2,
   "metadata": {},
   "outputs": [
    {
     "name": "stdout",
     "output_type": "stream",
     "text": [
      "       test1      test2                Model\n",
      "0    0.00318   0.102306  Emotional Reactions\n",
      "1    1.00000   0.990000  Emotional Reactions\n",
      "2    1.00000   0.985025  Emotional Reactions\n",
      "3    1.00000   0.980100  Emotional Reactions\n",
      "4    1.00000   0.990000  Emotional Reactions\n",
      "..       ...        ...                  ...\n",
      "57   1.00000   0.990000         Explorations\n",
      "58  11.02350  11.347200         Explorations\n",
      "59  18.14300  17.625000         Explorations\n",
      "60   1.54200   1.498000         Explorations\n",
      "61   3.00000   3.000000         Explorations\n",
      "\n",
      "[62 rows x 3 columns]\n"
     ]
    }
   ],
   "source": [
    "import pandas as pd\n",
    "import os\n",
    "\n",
    "# Define the directory where results are stored\n",
    "results_dir = \"./results\"\n",
    "files = os.listdir(results_dir)\n",
    "\n",
    "# Create a DataFrame to store all results\n",
    "all_results = pd.DataFrame()\n",
    "\n",
    "for file in files:\n",
    "    if file.endswith(\"_evaluation_metrics.csv\"):\n",
    "        model_category = file.split('_')[0]  # Extract model name (roberta, gpt2, dialoGPT)\n",
    "        data = pd.read_csv(os.path.join(results_dir, file))\n",
    "        data['Model'] = model_category\n",
    "        all_results = pd.concat([all_results, data], ignore_index=True)\n",
    "\n",
    "# Display combined data\n",
    "print(all_results)\n"
   ]
  },
  {
   "cell_type": "code",
   "execution_count": 7,
   "metadata": {},
   "outputs": [
    {
     "name": "stdout",
     "output_type": "stream",
     "text": [
      "     test1     test2                Model\n",
      "0  0.00318  0.102306  Emotional Reactions\n",
      "1  1.00000  0.990000  Emotional Reactions\n",
      "2  1.00000  0.985025  Emotional Reactions\n",
      "3  1.00000  0.980100  Emotional Reactions\n",
      "4  1.00000  0.990000  Emotional Reactions\n",
      "Index(['test1', 'test2', 'Model'], dtype='object')\n"
     ]
    }
   ],
   "source": [
    "print(all_results.head())\n",
    "print(all_results.columns)\n"
   ]
  },
  {
   "cell_type": "code",
   "execution_count": 8,
   "metadata": {},
   "outputs": [
    {
     "data": {
      "image/png": "[encoded data removed]",
      "text/plain": [
       "<Figure size 1000x500 with 1 Axes>"
      ]
     },
     "metadata": {},
     "output_type": "display_data"
    },
    {
     "data": {
      "image/png": "[encoded data removed]",
      "text/plain": [
       "<Figure size 1000x500 with 1 Axes>"
      ]
     },
     "metadata": {},
     "output_type": "display_data"
    }
   ],
   "source": [
    "import seaborn as sns\n",
    "import matplotlib.pyplot as plt\n",
    "\n",
    "# Convert 'Model' column to a categorical type for better plotting control\n",
    "all_results['Model'] = pd.Categorical(all_results['Model'])\n",
    "\n",
    "# Plotting test1 results\n",
    "plt.figure(figsize=(10, 5))\n",
    "sns.barplot(x='Model', y='test1', data=all_results)\n",
    "plt.title('Comparison of Test1 Results Across Models')\n",
    "plt.ylabel('Metric Value')\n",
    "plt.xlabel('Model')\n",
    "plt.show()\n",
    "\n",
    "# Plotting test2 results\n",
    "plt.figure(figsize=(10, 5))\n",
    "sns.barplot(x='Model', y='test2', data=all_results)\n",
    "plt.title('Comparison of Test2 Results Across Models')\n",
    "plt.ylabel('Metric Value')\n",
    "plt.xlabel('Model')\n",
    "plt.show()\n"
   ]
  },
  {
   "cell_type": "markdown",
   "metadata": {},
   "source": []
  },
  {
   "cell_type": "code",
   "execution_count": 1,
   "metadata": {},
   "outputs": [
    {
     "data": {
      "text/plain": [
       "(      test1     test2\n",
       " 0  0.007833  0.062887\n",
       " 1  1.000000  0.990000\n",
       " 2  1.000000  0.985025\n",
       " 3  1.000000  0.980100\n",
       " 4  1.000000  0.990000,\n",
       "       test1     test2\n",
       " 0  0.007833  0.062887\n",
       " 1  1.000000  0.990000\n",
       " 2  1.000000  0.985025\n",
       " 3  1.000000  0.980100\n",
       " 4  1.000000  0.990000,\n",
       "       test1     test2\n",
       " 0  0.007833  0.062887\n",
       " 1  1.000000  0.990000\n",
       " 2  1.000000  0.985025\n",
       " 3  1.000000  0.980100\n",
       " 4  1.000000  0.990000)"
      ]
     },
     "execution_count": 1,
     "metadata": {},
     "output_type": "execute_result"
    }
   ],
   "source": [
    "import pandas as pd\n",
    "\n",
    "# Load each CSV file and store them in a dictionary\n",
    "files = {\n",
    "    \"Emotional Reactions_roberta\": \"/home/ai23mtech14004/CS5803_NLP/Code/21_BERT/results/Emotional Reactions_roberta_evaluation_metrics.csv\",\n",
    "    \"Emotional Reactions_gpt2\": \"/home/ai23mtech14004/CS5803_NLP/Code/21_BERT/results/Emotional Reactions_gpt2_evaluation_metrics.csv\",\n",
    "    \"Emotional Reactions_dialoGPT\": \"/home/ai23mtech14004/CS5803_NLP/Code/21_BERT/results/Emotional Reactions_dialoGPT_evaluation_metrics.csv\",\n",
    "    \"Explorations_roberta\": \"/home/ai23mtech14004/CS5803_NLP/Code/21_BERT/results/Explorations_roberta_evaluation_metrics.csv\",\n",
    "    \"Explorations_gpt2\": \"/home/ai23mtech14004/CS5803_NLP/Code/21_BERT/results/Explorations_gpt2_evaluation_metrics.csv\",\n",
    "    \"Explorations_dialoGPT\": \"/home/ai23mtech14004/CS5803_NLP/Code/21_BERT/results//Explorations_dialoGPT_evaluation_metrics.csv\",\n",
    "    \"Interpretations_roberta\": \"/home/ai23mtech14004/CS5803_NLP/Code/21_BERT/results/Interpretations_roberta_evaluation_metrics.csv\",\n",
    "    \"Interpretations_gpt2\": \"/home/ai23mtech14004/CS5803_NLP/Code/21_BERT/results/Interpretations_gpt2_evaluation_metrics.csv\",\n",
    "    \"Interpretations_dialoGPT\": \"/home/ai23mtech14004/CS5803_NLP/Code/21_BERT/results/Interpretations_dialoGPT_evaluation_metrics.csv\"\n",
    "}\n",
    "\n",
    "# Load data and check contents\n",
    "dataframes = {name: pd.read_csv(path) for name, path in files.items()}\n",
    "dataframes[\"Emotional Reactions_roberta\"].head(), dataframes[\"Explorations_roberta\"].head(), dataframes[\"Interpretations_roberta\"].head()\n"
   ]
  },
  {
   "cell_type": "code",
   "execution_count": 2,
   "metadata": {},
   "outputs": [
    {
     "data": {
      "text/html": [
       "<div>\n",
       "<style scoped>\n",
       "    .dataframe tbody tr th:only-of-type {\n",
       "        vertical-align: middle;\n",
       "    }\n",
       "\n",
       "    .dataframe tbody tr th {\n",
       "        vertical-align: top;\n",
       "    }\n",
       "\n",
       "    .dataframe thead th {\n",
       "        text-align: right;\n",
       "    }\n",
       "</style>\n",
       "<table border=\"1\" class=\"dataframe\">\n",
       "  <thead>\n",
       "    <tr style=\"text-align: right;\">\n",
       "      <th></th>\n",
       "      <th>test1</th>\n",
       "      <th>test2</th>\n",
       "    </tr>\n",
       "  </thead>\n",
       "  <tbody>\n",
       "    <tr>\n",
       "      <th>0</th>\n",
       "      <td>0.007833</td>\n",
       "      <td>0.062887</td>\n",
       "    </tr>\n",
       "    <tr>\n",
       "      <th>1</th>\n",
       "      <td>1.000000</td>\n",
       "      <td>0.990000</td>\n",
       "    </tr>\n",
       "    <tr>\n",
       "      <th>2</th>\n",
       "      <td>1.000000</td>\n",
       "      <td>0.985025</td>\n",
       "    </tr>\n",
       "    <tr>\n",
       "      <th>3</th>\n",
       "      <td>1.000000</td>\n",
       "      <td>0.980100</td>\n",
       "    </tr>\n",
       "    <tr>\n",
       "      <th>4</th>\n",
       "      <td>1.000000</td>\n",
       "      <td>0.990000</td>\n",
       "    </tr>\n",
       "    <tr>\n",
       "      <th>5</th>\n",
       "      <td>2.317100</td>\n",
       "      <td>1.984400</td>\n",
       "    </tr>\n",
       "    <tr>\n",
       "      <th>6</th>\n",
       "      <td>86.316000</td>\n",
       "      <td>100.789000</td>\n",
       "    </tr>\n",
       "    <tr>\n",
       "      <th>7</th>\n",
       "      <td>2.158000</td>\n",
       "      <td>2.520000</td>\n",
       "    </tr>\n",
       "    <tr>\n",
       "      <th>8</th>\n",
       "      <td>3.000000</td>\n",
       "      <td>3.000000</td>\n",
       "    </tr>\n",
       "  </tbody>\n",
       "</table>\n",
       "</div>"
      ],
      "text/plain": [
       "       test1       test2\n",
       "0   0.007833    0.062887\n",
       "1   1.000000    0.990000\n",
       "2   1.000000    0.985025\n",
       "3   1.000000    0.980100\n",
       "4   1.000000    0.990000\n",
       "5   2.317100    1.984400\n",
       "6  86.316000  100.789000\n",
       "7   2.158000    2.520000\n",
       "8   3.000000    3.000000"
      ]
     },
     "execution_count": 2,
     "metadata": {},
     "output_type": "execute_result"
    }
   ],
   "source": [
    "# Let's display the full content of one file to understand its structure better\n",
    "dataframes[\"Emotional Reactions_roberta\"].head(10)\n"
   ]
  },
  {
   "cell_type": "code",
   "execution_count": 3,
   "metadata": {},
   "outputs": [
    {
     "data": {
      "image/png": "[encoded data removed]",
      "text/plain": [
       "<Figure size 1400x1200 with 4 Axes>"
      ]
     },
     "metadata": {},
     "output_type": "display_data"
    }
   ],
   "source": [
    "import matplotlib.pyplot as plt\n",
    "\n",
    "# Assuming the data follows this typical structure:\n",
    "# Row 0: Some form of loss (e.g., validation loss)\n",
    "# Row 1: Accuracy\n",
    "# Row 2: Precision\n",
    "# Row 3: Recall\n",
    "# Row 4: F1 score\n",
    "\n",
    "# Extract relevant metrics\n",
    "metrics = {\n",
    "    \"Accuracy\": {},\n",
    "    \"Precision\": {},\n",
    "    \"Recall\": {},\n",
    "    \"F1 Score\": {}\n",
    "}\n",
    "\n",
    "for key, df in dataframes.items():\n",
    "    metrics[\"Accuracy\"][key] = df.iloc[1].mean()  # Average of test1 and test2 for accuracy\n",
    "    metrics[\"Precision\"][key] = df.iloc[2].mean()  # Average of test1 and test2 for precision\n",
    "    metrics[\"Recall\"][key] = df.iloc[3].mean()  # Average of test1 and test2 for recall\n",
    "    metrics[\"F1 Score\"][key] = df.iloc[4].mean()  # Average of test1 and test2 for F1 score\n",
    "\n",
    "# Convert metrics to DataFrame for easier plotting\n",
    "metrics_df = pd.DataFrame(metrics)\n",
    "\n",
    "# Plotting\n",
    "fig, axes = plt.subplots(2, 2, figsize=(14, 12))\n",
    "axes = axes.flatten()\n",
    "for i, metric in enumerate(metrics.keys()):\n",
    "    metrics_df[metric].sort_values().plot(kind='barh', ax=axes[i], title=metric)\n",
    "    axes[i].set_xlabel('Value')\n",
    "    axes[i].set_ylabel('Model and Category')\n",
    "\n",
    "plt.tight_layout()\n",
    "plt.show()\n"
   ]
  },
  {
   "cell_type": "code",
   "execution_count": null,
   "metadata": {},
   "outputs": [],
   "source": []
  },
  {
   "cell_type": "markdown",
   "metadata": {},
   "source": [
    "Inference"
   ]
  },
  {
   "cell_type": "code",
   "execution_count": 4,
   "metadata": {},
   "outputs": [
    {
     "data": {
      "text/html": [
       "<div>\n",
       "<style scoped>\n",
       "    .dataframe tbody tr th:only-of-type {\n",
       "        vertical-align: middle;\n",
       "    }\n",
       "\n",
       "    .dataframe tbody tr th {\n",
       "        vertical-align: top;\n",
       "    }\n",
       "\n",
       "    .dataframe thead th {\n",
       "        text-align: right;\n",
       "    }\n",
       "</style>\n",
       "<table border=\"1\" class=\"dataframe\">\n",
       "  <thead>\n",
       "    <tr style=\"text-align: right;\">\n",
       "      <th></th>\n",
       "      <th></th>\n",
       "      <th>Accuracy</th>\n",
       "      <th>Precision</th>\n",
       "      <th>Recall</th>\n",
       "      <th>F1 Score</th>\n",
       "    </tr>\n",
       "    <tr>\n",
       "      <th>Model</th>\n",
       "      <th>Category</th>\n",
       "      <th></th>\n",
       "      <th></th>\n",
       "      <th></th>\n",
       "      <th></th>\n",
       "    </tr>\n",
       "  </thead>\n",
       "  <tbody>\n",
       "    <tr>\n",
       "      <th rowspan=\"3\" valign=\"top\">roberta</th>\n",
       "      <th>Emotional Reactions</th>\n",
       "      <td>0.9950</td>\n",
       "      <td>0.992513</td>\n",
       "      <td>0.990050</td>\n",
       "      <td>0.9950</td>\n",
       "    </tr>\n",
       "    <tr>\n",
       "      <th>Interpretations</th>\n",
       "      <td>0.9950</td>\n",
       "      <td>0.992513</td>\n",
       "      <td>0.990050</td>\n",
       "      <td>0.9950</td>\n",
       "    </tr>\n",
       "    <tr>\n",
       "      <th>Explorations</th>\n",
       "      <td>0.9950</td>\n",
       "      <td>0.992513</td>\n",
       "      <td>0.990050</td>\n",
       "      <td>0.9950</td>\n",
       "    </tr>\n",
       "    <tr>\n",
       "      <th rowspan=\"3\" valign=\"top\">gpt2</th>\n",
       "      <th>Emotional Reactions</th>\n",
       "      <td>0.9725</td>\n",
       "      <td>0.982373</td>\n",
       "      <td>0.992462</td>\n",
       "      <td>0.9725</td>\n",
       "    </tr>\n",
       "    <tr>\n",
       "      <th>Interpretations</th>\n",
       "      <td>0.9950</td>\n",
       "      <td>0.992513</td>\n",
       "      <td>0.990050</td>\n",
       "      <td>0.9950</td>\n",
       "    </tr>\n",
       "    <tr>\n",
       "      <th>Explorations</th>\n",
       "      <td>0.9950</td>\n",
       "      <td>0.992513</td>\n",
       "      <td>0.990050</td>\n",
       "      <td>0.9950</td>\n",
       "    </tr>\n",
       "    <tr>\n",
       "      <th rowspan=\"3\" valign=\"top\">dialoGPT</th>\n",
       "      <th>Emotional Reactions</th>\n",
       "      <td>0.9950</td>\n",
       "      <td>0.992513</td>\n",
       "      <td>0.990050</td>\n",
       "      <td>0.9950</td>\n",
       "    </tr>\n",
       "    <tr>\n",
       "      <th>Interpretations</th>\n",
       "      <td>0.9950</td>\n",
       "      <td>0.992513</td>\n",
       "      <td>0.990050</td>\n",
       "      <td>0.9950</td>\n",
       "    </tr>\n",
       "    <tr>\n",
       "      <th>Explorations</th>\n",
       "      <td>0.9950</td>\n",
       "      <td>0.992513</td>\n",
       "      <td>0.990050</td>\n",
       "      <td>0.9950</td>\n",
       "    </tr>\n",
       "  </tbody>\n",
       "</table>\n",
       "</div>"
      ],
      "text/plain": [
       "                              Accuracy  Precision    Recall  F1 Score\n",
       "Model    Category                                                    \n",
       "roberta  Emotional Reactions    0.9950   0.992513  0.990050    0.9950\n",
       "         Interpretations        0.9950   0.992513  0.990050    0.9950\n",
       "         Explorations           0.9950   0.992513  0.990050    0.9950\n",
       "gpt2     Emotional Reactions    0.9725   0.982373  0.992462    0.9725\n",
       "         Interpretations        0.9950   0.992513  0.990050    0.9950\n",
       "         Explorations           0.9950   0.992513  0.990050    0.9950\n",
       "dialoGPT Emotional Reactions    0.9950   0.992513  0.990050    0.9950\n",
       "         Interpretations        0.9950   0.992513  0.990050    0.9950\n",
       "         Explorations           0.9950   0.992513  0.990050    0.9950"
      ]
     },
     "execution_count": 4,
     "metadata": {},
     "output_type": "execute_result"
    }
   ],
   "source": [
    "# Prepare summary data for table display for each category and model\n",
    "summary_data = {}\n",
    "\n",
    "for model in [\"roberta\", \"gpt2\", \"dialoGPT\"]:\n",
    "    for category in [\"Emotional Reactions\", \"Interpretations\", \"Explorations\"]:\n",
    "        key = f\"{category}_{model}\"\n",
    "        if key in dataframes:\n",
    "            df = dataframes[key]\n",
    "            # Extract mean values for Accuracy, Precision, Recall, F1 Score\n",
    "            accuracy = df.iloc[1].mean()\n",
    "            precision = df.iloc[2].mean()\n",
    "            recall = df.iloc[3].mean()\n",
    "            f1_score = df.iloc[4].mean()\n",
    "            summary_data[(model, category)] = {\n",
    "                'Accuracy': accuracy,\n",
    "                'Precision': precision,\n",
    "                'Recall': recall,\n",
    "                'F1 Score': f1_score\n",
    "            }\n",
    "\n",
    "# Convert summary data to DataFrame\n",
    "summary_df = pd.DataFrame.from_dict(summary_data, orient='index')\n",
    "summary_df.index.names = ['Model', 'Category']\n",
    "summary_df\n"
   ]
  },
  {
   "cell_type": "code",
   "execution_count": 5,
   "metadata": {},
   "outputs": [
    {
     "data": {
      "image/png": "[encoded data removed]",
      "text/plain": [
       "<Figure size 1000x600 with 1 Axes>"
      ]
     },
     "metadata": {},
     "output_type": "display_data"
    },
    {
     "data": {
      "image/png": "[encoded data removed]",
      "text/plain": [
       "<Figure size 1000x600 with 1 Axes>"
      ]
     },
     "metadata": {},
     "output_type": "display_data"
    },
    {
     "data": {
      "image/png": "[encoded data removed]",
      "text/plain": [
       "<Figure size 1000x600 with 1 Axes>"
      ]
     },
     "metadata": {},
     "output_type": "display_data"
    }
   ],
   "source": [
    "import matplotlib.pyplot as plt\n",
    "import pandas as pd\n",
    "\n",
    "# Example DataFrame (you should use the one created or loaded from your actual data)\n",
    "data = {\n",
    "    \"Model\": [\"RoBERTa\", \"GPT-2\", \"DialoGPT\", \"RoBERTa\", \"GPT-2\", \"DialoGPT\", \"RoBERTa\", \"GPT-2\", \"DialoGPT\"],\n",
    "    \"Category\": [\"Emotional Reactions\", \"Emotional Reactions\", \"Emotional Reactions\",\n",
    "                 \"Interpretations\", \"Interpretations\", \"Interpretations\",\n",
    "                 \"Explorations\", \"Explorations\", \"Explorations\"],\n",
    "    \"Accuracy\": [0.995, 0.985, 0.970, 0.995, 0.985, 0.970, 0.995, 0.985, 0.970],\n",
    "    \"Precision\": [0.9925, 0.9825, 0.965, 0.9925, 0.9825, 0.965, 0.9925, 0.9825, 0.965],\n",
    "    \"Recall\": [0.99005, 0.97755, 0.9601, 0.99005, 0.97755, 0.9601, 0.99005, 0.97755, 0.9601],\n",
    "    \"F1 Score\": [0.990, 0.980, 0.965, 0.990, 0.980, 0.965, 0.990, 0.980, 0.965]\n",
    "}\n",
    "df = pd.DataFrame(data)\n",
    "\n",
    "# Filter data for each model\n",
    "roberta_data = df[df['Model'] == 'RoBERTa'].set_index('Category')\n",
    "gpt2_data = df[df['Model'] == 'GPT-2'].set_index('Category')\n",
    "dialogpt_data = df[df['Model'] == 'DialoGPT'].set_index('Category')\n",
    "\n",
    "# Function to plot metrics for a given model data\n",
    "def plot_model_data(model_data, model_name):\n",
    "    fig, ax = plt.subplots(figsize=(10, 6))\n",
    "    model_data[['Accuracy', 'Precision', 'Recall', 'F1 Score']].plot(kind='bar', ax=ax)\n",
    "    ax.set_title(f'Metrics for {model_name}')\n",
    "    ax.set_xlabel('Category')\n",
    "    ax.set_ylabel('Values')\n",
    "    ax.set_ylim(0, 1.1)  # Extend y-axis to see labels better\n",
    "    plt.xticks(rotation=0)  # Keep category names horizontal\n",
    "    plt.legend(title='Metrics')\n",
    "    plt.show()\n",
    "\n",
    "# Plotting for each model\n",
    "plot_model_data(roberta_data, 'RoBERTa')\n",
    "plot_model_data(gpt2_data, 'GPT-2')\n",
    "plot_model_data(dialogpt_data, 'DialoGPT')\n"
   ]
  },
  {
   "cell_type": "code",
   "execution_count": null,
   "metadata": {},
   "outputs": [],
   "source": []
  }
 ],
 "metadata": {
  "kernelspec": {
   "display_name": ".venv",
   "language": "python",
   "name": "python3"
  },
  "language_info": {
   "codemirror_mode": {
    "name": "ipython",
    "version": 3
   },
   "file_extension": ".py",
   "mimetype": "text/x-python",
   "name": "python",
   "nbconvert_exporter": "python",
   "pygments_lexer": "ipython3",
   "version": "3.11.9"
  }
 },
 "nbformat": 4,
 "nbformat_minor": 2
}
